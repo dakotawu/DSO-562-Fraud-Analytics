{
  "nbformat": 4,
  "nbformat_minor": 0,
  "metadata": {
    "colab": {
      "name": "Fraud Analytics_Project 2_Modeling_Dakota Wu.ipynb",
      "provenance": [],
      "machine_shape": "hm"
    },
    "kernelspec": {
      "name": "python3",
      "display_name": "Python 3"
    }
  },
  "cells": [
    {
      "cell_type": "code",
      "metadata": {
        "id": "ILPUQi3RrqCG",
        "colab_type": "code",
        "colab": {}
      },
      "source": [
        "import pandas as pd\n",
        "import numpy as np\n",
        "import random\n",
        "import time\n",
        "import multiprocessing\n",
        "from sklearn.utils import resample\n",
        "from sklearn.linear_model import LogisticRegression\n",
        "from sklearn.ensemble import RandomForestClassifier\n",
        "from sklearn.ensemble import GradientBoostingClassifier\n",
        "from sklearn.neural_network import MLPClassifier\n",
        "from sklearn.ensemble import VotingClassifier\n",
        "from sklearn.model_selection import cross_val_score\n",
        "from sklearn.model_selection import GridSearchCV\n",
        "from sklearn.model_selection import RandomizedSearchCV\n",
        "from sklearn.svm import SVC"
      ],
      "execution_count": 0,
      "outputs": []
    },
    {
      "cell_type": "code",
      "metadata": {
        "id": "0zKb-kYwfr_K",
        "colab_type": "code",
        "colab": {}
      },
      "source": [
        "import warnings\n",
        "warnings.filterwarnings('ignore')"
      ],
      "execution_count": 0,
      "outputs": []
    },
    {
      "cell_type": "markdown",
      "metadata": {
        "id": "BvJkcbHkOSem",
        "colab_type": "text"
      },
      "source": [
        "Load dataset from google drive to google colab"
      ]
    },
    {
      "cell_type": "code",
      "metadata": {
        "id": "SN5lST0JOME4",
        "colab_type": "code",
        "colab": {}
      },
      "source": [
        "# Code to read csv file into Colaboratory:\n",
        "!pip install -U -q PyDrive\n",
        "from pydrive.auth import GoogleAuth\n",
        "from pydrive.drive import GoogleDrive\n",
        "from google.colab import auth\n",
        "from oauth2client.client import GoogleCredentials\n",
        "# Authenticate and create the PyDrive client.\n",
        "auth.authenticate_user()\n",
        "gauth = GoogleAuth()\n",
        "gauth.credentials = GoogleCredentials.get_application_default()\n",
        "drive = GoogleDrive(gauth)"
      ],
      "execution_count": 0,
      "outputs": []
    },
    {
      "cell_type": "code",
      "metadata": {
        "id": "FC8Gjj4IROlH",
        "colab_type": "code",
        "colab": {}
      },
      "source": [
        "link = 'https://drive.google.com/open?id=11XyIbLKXB8ILlL_brU2wX7f5GKWOFG1k'\n",
        "fluff, id = link.split('=')\n",
        "downloaded = drive.CreateFile({'id':id}) \n",
        "downloaded.GetContentFile('train_data_capped6.csv')  \n",
        "trainDF = pd.read_csv('train_data_capped6.csv')"
      ],
      "execution_count": 0,
      "outputs": []
    },
    {
      "cell_type": "code",
      "metadata": {
        "id": "LZs4WC7w5JjE",
        "colab_type": "code",
        "colab": {}
      },
      "source": [
        "link = 'https://drive.google.com/open?id=14ciuYIzjQ4U4UxbjAu7XSl1JpNc0JIKg'\n",
        "fluff, id = link.split('=')\n",
        "downloaded = drive.CreateFile({'id':id}) \n",
        "downloaded.GetContentFile('train_downsampled_data_capped6.csv')  \n",
        "train_dsDF = pd.read_csv('train_downsampled_data_capped6.csv')"
      ],
      "execution_count": 0,
      "outputs": []
    },
    {
      "cell_type": "code",
      "metadata": {
        "id": "5qyiFdloRb41",
        "colab_type": "code",
        "colab": {}
      },
      "source": [
        "link = 'https://drive.google.com/open?id=1Qf25d-OOKITQm6P4eOYYqFHxk6i6pHa-'\n",
        "fluff, id = link.split('=')\n",
        "downloaded = drive.CreateFile({'id':id}) \n",
        "downloaded.GetContentFile('test_data_capped6.csv')  \n",
        "testDF = pd.read_csv('test_data_capped6.csv')"
      ],
      "execution_count": 0,
      "outputs": []
    },
    {
      "cell_type": "code",
      "metadata": {
        "id": "BinO4J_VRgqX",
        "colab_type": "code",
        "colab": {}
      },
      "source": [
        "link = 'https://drive.google.com/open?id=14ssWruo6Or2s3m4WRxYzqTzB_Lb_eR7d'\n",
        "fluff, id = link.split('=')\n",
        "downloaded = drive.CreateFile({'id':id}) \n",
        "downloaded.GetContentFile('oot_data_capped6.csv')  \n",
        "ootDF = pd.read_csv('oot_data_capped6.csv')"
      ],
      "execution_count": 0,
      "outputs": []
    },
    {
      "cell_type": "code",
      "metadata": {
        "id": "RbW2pl3slBX0",
        "colab_type": "code",
        "outputId": "8167ac91-7b62-49e5-96d0-cf8969650ec8",
        "colab": {
          "base_uri": "https://localhost:8080/",
          "height": 84
        }
      },
      "source": [
        "print('train:',trainDF.shape)\n",
        "print('train_dsDF:',train_dsDF.shape)\n",
        "print('test:',testDF.shape)\n",
        "print('oot:',ootDF.shape)"
      ],
      "execution_count": 0,
      "outputs": [
        {
          "output_type": "stream",
          "text": [
            "train: (635996, 26)\n",
            "train_dsDF: (101079, 26)\n",
            "test: (159000, 26)\n",
            "oot: (166493, 26)\n"
          ],
          "name": "stdout"
        }
      ]
    },
    {
      "cell_type": "markdown",
      "metadata": {
        "id": "qTS35MEsisf5",
        "colab_type": "text"
      },
      "source": [
        "**Define functions**\n"
      ]
    },
    {
      "cell_type": "code",
      "metadata": {
        "id": "L_qxoB3fkpm7",
        "colab_type": "code",
        "colab": {}
      },
      "source": [
        "X_train = trainDF.iloc[:,:-1]\n",
        "y_train = trainDF.iloc[:,-1]\n",
        "X_train_ds = train_dsDF.iloc[:,:-1]\n",
        "y_train_ds = train_dsDF.iloc[:,-1]\n",
        "X_test = testDF.iloc[:,:-1]\n",
        "y_test = testDF.iloc[:,-1]\n",
        "X_oot = ootDF.iloc[:,:-1]\n",
        "y_oot = ootDF.iloc[:,-1]"
      ],
      "execution_count": 0,
      "outputs": []
    },
    {
      "cell_type": "markdown",
      "metadata": {
        "id": "XlpJ6t8Htu3R",
        "colab_type": "text"
      },
      "source": [
        "fdr_score: Calculate FDR"
      ]
    },
    {
      "cell_type": "code",
      "metadata": {
        "id": "gePa5v_UWAe5",
        "colab_type": "code",
        "colab": {}
      },
      "source": [
        "def fdr_score(y_pred_prob, y_obs, alpha=0.03):\n",
        "  n_rows = int(round(len(y_obs)*alpha))\n",
        "  numBads = sum(y_obs)\n",
        "  df = pd.DataFrame([y_pred_prob,y_obs]).T\n",
        "  df.columns = ['pred_prob','label']\n",
        "  df = df.sort_values('pred_prob',ascending=False)\n",
        "  return df.head(n_rows)['label'].sum()/numBads*100"
      ],
      "execution_count": 0,
      "outputs": []
    },
    {
      "cell_type": "markdown",
      "metadata": {
        "id": "tmOP79FMh-YI",
        "colab_type": "text"
      },
      "source": [
        "trn_resample: Subsample the good records in the training data to match the specified good_bad_ratio\n"
      ]
    },
    {
      "cell_type": "code",
      "metadata": {
        "id": "LoSHPlreiWep",
        "colab_type": "code",
        "colab": {}
      },
      "source": [
        "def trn_resample(X, y, good_bad_ratio=10):\n",
        "  df = pd.concat([X, y], axis=1)\n",
        "  goods = df[df.fraud_label==0]\n",
        "  bads = df[df.fraud_label==1]\n",
        "  n_bads = bads.shape[0]\n",
        "  goods_downsampled = resample(goods,\n",
        "                  replace=False,\n",
        "                  n_samples=n_bads*good_bad_ratio)\n",
        "  df_downsampled = pd.concat([goods_downsampled, bads])\n",
        "  X_downsampled = df_downsampled.iloc[:,:-1].values\n",
        "  y_downsampled = df_downsampled.iloc[:,-1].values\n",
        "  return X_downsampled, y_downsampled"
      ],
      "execution_count": 0,
      "outputs": []
    },
    {
      "cell_type": "markdown",
      "metadata": {
        "id": "3w37bDcEUtdd",
        "colab_type": "text"
      },
      "source": [
        "fit_avg_fdr: Refitting model multiple times to get averaged FDR on training/testing/oot data"
      ]
    },
    {
      "cell_type": "code",
      "metadata": {
        "id": "QZUhx9nEUsFg",
        "colab_type": "code",
        "colab": {}
      },
      "source": [
        "def fit_avg_fdr(model, k=5):\n",
        "  fdr_trainList = []\n",
        "  fdr_testList = []\n",
        "  fdr_ootList = []\n",
        "  accuracyList = []\n",
        "    \n",
        "  for i in range(k):\n",
        "    X_train_downsampled, y_train_downsampled = trn_resample(X_train, y_train)\n",
        "    model.fit(X_train_downsampled, y_train_downsampled)\n",
        "    \n",
        "    y_train_pred_prob = model.predict_proba(X_train)[:,1]\n",
        "    y_test_pred_prob = model.predict_proba(X_test)[:,1]\n",
        "    y_oot_pred_prob = model.predict_proba(X_oot)[:,1]\n",
        "    \n",
        "    fdr_trainList.append(fdr_score(y_train_pred_prob,y_train))\n",
        "    fdr_testList.append(fdr_score(y_test_pred_prob,y_test))\n",
        "    fdr_ootList.append(fdr_score(y_oot_pred_prob,y_oot))\n",
        "    accuracyList.append(model.score(X_train_downsampled, y_train_downsampled))\n",
        "    \n",
        "  score_summary = np.array([fdr_trainList, fdr_testList, fdr_ootList, accuracyList]).T\n",
        "  avg_scores = score_summary.mean(0)\n",
        "  \n",
        "  return score_summary, avg_scores"
      ],
      "execution_count": 0,
      "outputs": []
    },
    {
      "cell_type": "markdown",
      "metadata": {
        "id": "AN322BjKVFhB",
        "colab_type": "text"
      },
      "source": [
        "cross_val_fdr: Performs k-fold cross validation and calculates the FDR on the validation set"
      ]
    },
    {
      "cell_type": "code",
      "metadata": {
        "id": "jIS-CnBAVaOZ",
        "colab_type": "code",
        "colab": {}
      },
      "source": [
        "import random\n",
        "from sklearn.utils import resample\n",
        "\n",
        "def cross_val_fdr(model, X, y, cv=5, verbose=True):\n",
        "  arrX = X.values\n",
        "  arry = y.values\n",
        "  n = len(arry)\n",
        "    \n",
        "  # Calculate fold sizes\n",
        "  fold_size = int(n/cv)\n",
        "  fold_sizes = [fold_size]*cv\n",
        "  remainder = n - fold_size*cv\n",
        "  for i in range(remainder):\n",
        "    fold_sizes[i]+=1\n",
        "        \n",
        "  # Split folds\n",
        "  folds_X = []\n",
        "  folds_y = []\n",
        "  for fs in fold_sizes:\n",
        "    index = random.choices(range(len(arrX)), k=fs)\n",
        "    folds_X.append(arrX[index,:])\n",
        "    folds_y.append(arry[index])\n",
        "    arrX = np.delete(arrX, index, 0)\n",
        "    arry = np.delete(arry, index, 0)\n",
        "        \n",
        "  # Fit model\n",
        "  FDRs = []\n",
        "  new = True\n",
        "  for i in range(cv):\n",
        "    X_tst = folds_X[i]\n",
        "    y_tst = folds_y[i]\n",
        "        \n",
        "    # Combine folds\n",
        "    for j in [j for j in range(cv) if j!=i]:\n",
        "      if new:\n",
        "        X_trn = folds_X[j]\n",
        "        y_trn = folds_y[j]\n",
        "        new = False\n",
        "      else:\n",
        "        X_trn = np.concatenate((X_trn, folds_X[j]), axis=0)\n",
        "        y_trn = np.concatenate((y_trn, folds_y[j]), axis=0)\n",
        "            \n",
        "    #print(\"Train:\", len(X_trn))\n",
        "    #print(\"Train fraud\", sum(y_trn))\n",
        "    #print(\"Test:\", len(X_tst))\n",
        "    #print(\"Test fraud\", sum(y_tst))\n",
        "            \n",
        "    # Resample training set\n",
        "    X_trn_df = pd.DataFrame(X_trn)\n",
        "    X_trn_df.columns = X.columns\n",
        "    y_trn_df = pd.DataFrame(y_trn)\n",
        "    y_trn_df.columns = [y.name]\n",
        "    X_trn_downsampled, y_trn_downsampled = trn_resample(X_trn_df, y_trn_df)\n",
        "    \n",
        "    #print(\"Train resampled:\", len(X_trn_downsampled))\n",
        "    #print(\"Train resampled fraud:\", sum(y_trn_downsampled))\n",
        "\n",
        "    # Calculate FDR\n",
        "    model.fit(X_trn_downsampled, y_trn_downsampled)\n",
        "    y_pred_prob = model.predict_proba(X_tst)[:,1]\n",
        "    fdr = fdr_score(y_pred_prob, y_tst)\n",
        "    #print(fdr)\n",
        "    FDRs.append(fdr)\n",
        "    new = True\n",
        "    if verbose:\n",
        "      print('CV {} processed, FDR={:.2f}%'.format(i+1, fdr))\n",
        "        \n",
        "  return np.array(FDRs)\n",
        "\n",
        "# one bug: total param combinations/njobs has to be >= 2\n",
        "# set njobs smaller when you don't have that many param combinations"
      ],
      "execution_count": 0,
      "outputs": []
    },
    {
      "cell_type": "markdown",
      "metadata": {
        "id": "YWJS2tl4rAVs",
        "colab_type": "text"
      },
      "source": [
        "Randomized Search and Grid Search (brute force): Searches through random/all combinations of specified parameters and returns the combination with the highest FDR with k-fold validation. When n_iter is not specified in Randomized Search, n_combination/10 searches will be performed."
      ]
    },
    {
      "cell_type": "code",
      "metadata": {
        "id": "CiigCJrOrImQ",
        "colab_type": "code",
        "colab": {}
      },
      "source": [
        "import itertools as it\n",
        "\n",
        "def get_paramsList(params_grid):\n",
        "  allNames = sorted(params_grid)\n",
        "  combinations = it.product(*(params_grid[Name] for Name in allNames))\n",
        "  all_params = list(combinations)\n",
        "  return allNames, all_params"
      ],
      "execution_count": 0,
      "outputs": []
    },
    {
      "cell_type": "code",
      "metadata": {
        "id": "ZSdsPRIBrIjy",
        "colab_type": "code",
        "colab": {}
      },
      "source": [
        "def split(a, n):\n",
        "  k, m = divmod(len(a), n)\n",
        "  return [a[i * k + min(i, m):(i + 1) * k + min(i + 1, m)] for i in range(n)]"
      ],
      "execution_count": 0,
      "outputs": []
    },
    {
      "cell_type": "code",
      "metadata": {
        "id": "dKGdh88TrIC_",
        "colab_type": "code",
        "colab": {}
      },
      "source": [
        "def main_func(model, X, y, param_names, all_params, cv, fdr_dict):\n",
        "  max_fdr = 0\n",
        "  best_params = 0\n",
        "  \n",
        "  for cur_params in all_params:\n",
        "    starttime = time.time()\n",
        "    params = dict(zip(param_names, cur_params))\n",
        "    print(params)\n",
        "    model.set_params(**params)\n",
        "    fdr = cross_val_fdr(model, X, y, verbose=False, cv=cv).mean()\n",
        "    print('{}, FDR: {:.2f}%, {} sec elapsed'.format(params, fdr, round(time.time() - starttime)))\n",
        "    #print('fdr:', fdr)\n",
        "    if fdr > max_fdr:\n",
        "      max_fdr = fdr\n",
        "      best_params = params\n",
        "  \n",
        "  fdr_dict[max_fdr] = best_params"
      ],
      "execution_count": 0,
      "outputs": []
    },
    {
      "cell_type": "code",
      "metadata": {
        "id": "dre88LzNrZ4I",
        "colab_type": "code",
        "colab": {}
      },
      "source": [
        "def randomized_search_cv(model, params_grid, X, y, n_iter='auto', cv=5, n_jobs=1):\n",
        "  \n",
        "  tot_starttime = time.time()\n",
        "  \n",
        "  param_names, all_params = get_paramsList(params_grid)\n",
        "  print(\"Total combination:\", len(all_params))\n",
        "  if n_iter=='auto':\n",
        "    test_size = int(len(all_params)/10)\n",
        "  else:\n",
        "    test_size = n_iter\n",
        "  print(\"Randomized search size:\", test_size)\n",
        "  \n",
        "  selected = []\n",
        "  for i in range(test_size):\n",
        "    taken_params = random.choice(all_params)\n",
        "    all_params.remove(taken_params)\n",
        "    selected.append(taken_params)\n",
        "  \n",
        "  if n_jobs == -1:\n",
        "    n_jobs = multiprocessing.cpu_count()\n",
        "      \n",
        "  paramsList = list(split(selected, n_jobs))\n",
        "  \n",
        "  manager = multiprocessing.Manager()\n",
        "  fdr_dict = manager.dict()\n",
        "  processes = []\n",
        "  for i in range(n_jobs):\n",
        "    p = multiprocessing.Process(target=main_func, \n",
        "                                args=(model, X, y, param_names, paramsList[i], cv, fdr_dict))\n",
        "    processes.append(p)\n",
        "    p.start()\n",
        "      \n",
        "  for process in processes:\n",
        "    process.join()\n",
        "  \n",
        "  final_max_fdr = max(fdr_dict.keys())\n",
        "  final_best_params = fdr_dict[final_max_fdr]\n",
        "  \n",
        "  print('Total time elapsed: {:.1f} minutes'.format((time.time() - tot_starttime)/60))\n",
        "  \n",
        "  return final_max_fdr, final_best_params"
      ],
      "execution_count": 0,
      "outputs": []
    },
    {
      "cell_type": "markdown",
      "metadata": {
        "id": "si14skVTVOGq",
        "colab_type": "text"
      },
      "source": [
        "summary: Summarize FDR on training/testing/oot data after model is fitted"
      ]
    },
    {
      "cell_type": "code",
      "metadata": {
        "id": "E5EGW6EhizsI",
        "colab_type": "code",
        "colab": {}
      },
      "source": [
        "def summary(model):\n",
        "  y_train_pred_prob = model.predict_proba(X_train)[:,1]\n",
        "  y_test_pred_prob = model.predict_proba(X_test)[:,1]\n",
        "  y_oot_pred_prob = model.predict_proba(X_oot)[:,1]\n",
        "  print('Train FDR at 3%: {:.2f}%'.format(fdr_score(y_train_pred_prob,y_train)))\n",
        "  print('Test FDR at 3%: {:.2f}%'.format(fdr_score(y_test_pred_prob,y_test)))\n",
        "  print('OOT FDR at 3%: {:.2f}%'.format(fdr_score(y_oot_pred_prob,y_oot)))\n",
        "    \n",
        "#  print(pd.DataFrame([X_train.columns, model.feature_importances_]).T.sort_values(1,ascending=False).rename({0:\"feature\",1:\"importance\"},axis=1))"
      ],
      "execution_count": 0,
      "outputs": []
    },
    {
      "cell_type": "markdown",
      "metadata": {
        "id": "MZCR_hFtRz69",
        "colab_type": "text"
      },
      "source": [
        "**Modeling**"
      ]
    },
    {
      "cell_type": "markdown",
      "metadata": {
        "id": "ib9SxA9tR4Mf",
        "colab_type": "text"
      },
      "source": [
        "Logistic Regression"
      ]
    },
    {
      "cell_type": "code",
      "metadata": {
        "id": "jxOaEgYrd2_g",
        "colab_type": "code",
        "colab": {}
      },
      "source": [
        "test_grid = {\n",
        "    'penalty': [\"elasticnet\",\"l1\",\"l2\"],\n",
        "    'solver' : [\"saga\"],\n",
        "    'l1_ratio' : [0, 0.1, 0.2, 0.3, 0.4, 0.5, 0.6, 0.7, 0.8, 0.9, 1]\n",
        "}"
      ],
      "execution_count": 0,
      "outputs": []
    },
    {
      "cell_type": "code",
      "metadata": {
        "id": "7aJusuIBgRbP",
        "colab_type": "code",
        "outputId": "bfdcdc1b-4b8f-447c-e344-68af23db21fc",
        "colab": {
          "base_uri": "https://localhost:8080/",
          "height": 629
        }
      },
      "source": [
        "lr = LogisticRegression()\n",
        "lr_best_fdr, lr_best_params = randomized_search_cv(lr, test_grid, X_train, y_train, n_jobs=-1, n_iter=16)\n",
        "lr_best_fdr, lr_best_params"
      ],
      "execution_count": 0,
      "outputs": [
        {
          "output_type": "stream",
          "text": [
            "Total combination: 33\n",
            "Randomized search size: 16\n",
            "{'l1_ratio': 0.3, 'penalty': 'l2', 'solver': 'saga'}\n",
            "{'l1_ratio': 0.4, 'penalty': 'l1', 'solver': 'saga'}\n",
            "{'l1_ratio': 0.8, 'penalty': 'l1', 'solver': 'saga'}\n",
            "{'l1_ratio': 0.9, 'penalty': 'l2', 'solver': 'saga'}\n",
            "{'l1_ratio': 0.3, 'penalty': 'l2', 'solver': 'saga'}, FDR: 55.59%, 91 sec elapsed\n",
            "{'l1_ratio': 0.6, 'penalty': 'l1', 'solver': 'saga'}\n",
            "{'l1_ratio': 0.9, 'penalty': 'l2', 'solver': 'saga'}, FDR: 55.50%, 93 sec elapsed\n",
            "{'l1_ratio': 1, 'penalty': 'l1', 'solver': 'saga'}\n",
            "{'l1_ratio': 0.4, 'penalty': 'l1', 'solver': 'saga'}, FDR: 55.00%, 100 sec elapsed\n",
            "{'l1_ratio': 0.5, 'penalty': 'l1', 'solver': 'saga'}\n",
            "{'l1_ratio': 0.8, 'penalty': 'l1', 'solver': 'saga'}, FDR: 54.87%, 101 sec elapsed\n",
            "{'l1_ratio': 0.7, 'penalty': 'l1', 'solver': 'saga'}\n",
            "{'l1_ratio': 0.6, 'penalty': 'l1', 'solver': 'saga'}, FDR: 55.79%, 101 sec elapsed\n",
            "{'l1_ratio': 0.9, 'penalty': 'elasticnet', 'solver': 'saga'}\n",
            "{'l1_ratio': 1, 'penalty': 'l1', 'solver': 'saga'}, FDR: 55.91%, 102 sec elapsed\n",
            "{'l1_ratio': 0, 'penalty': 'elasticnet', 'solver': 'saga'}\n",
            "{'l1_ratio': 0.7, 'penalty': 'l1', 'solver': 'saga'}, FDR: 55.80%, 104 sec elapsed\n",
            "{'l1_ratio': 0.5, 'penalty': 'l1', 'solver': 'saga'}, FDR: 55.81%, 104 sec elapsed\n",
            "{'l1_ratio': 0.6, 'penalty': 'l2', 'solver': 'saga'}\n",
            "{'l1_ratio': 0.5, 'penalty': 'l2', 'solver': 'saga'}\n",
            "{'l1_ratio': 0, 'penalty': 'elasticnet', 'solver': 'saga'}, FDR: 55.70%, 92 sec elapsed\n",
            "{'l1_ratio': 0.8, 'penalty': 'l2', 'solver': 'saga'}\n",
            "{'l1_ratio': 0.9, 'penalty': 'elasticnet', 'solver': 'saga'}, FDR: 55.71%, 103 sec elapsed\n",
            "{'l1_ratio': 0.3, 'penalty': 'l1', 'solver': 'saga'}\n",
            "{'l1_ratio': 0.5, 'penalty': 'l2', 'solver': 'saga'}, FDR: 55.48%, 94 sec elapsed\n",
            "{'l1_ratio': 0.9, 'penalty': 'l1', 'solver': 'saga'}\n",
            "{'l1_ratio': 0.6, 'penalty': 'l2', 'solver': 'saga'}, FDR: 55.67%, 95 sec elapsed\n",
            "{'l1_ratio': 0.1, 'penalty': 'l1', 'solver': 'saga'}\n",
            "{'l1_ratio': 0.8, 'penalty': 'l2', 'solver': 'saga'}, FDR: 55.76%, 91 sec elapsed\n",
            "{'l1_ratio': 0.3, 'penalty': 'l1', 'solver': 'saga'}, FDR: 55.24%, 98 sec elapsed\n",
            "{'l1_ratio': 0.9, 'penalty': 'l1', 'solver': 'saga'}, FDR: 55.66%, 95 sec elapsed\n",
            "{'l1_ratio': 0.1, 'penalty': 'l1', 'solver': 'saga'}, FDR: 55.16%, 97 sec elapsed\n",
            "Total time elapsed: 6.6 minutes\n"
          ],
          "name": "stdout"
        },
        {
          "output_type": "execute_result",
          "data": {
            "text/plain": [
              "(55.90990025203754, {'l1_ratio': 1, 'penalty': 'l1', 'solver': 'saga'})"
            ]
          },
          "metadata": {
            "tags": []
          },
          "execution_count": 61
        }
      ]
    },
    {
      "cell_type": "code",
      "metadata": {
        "id": "8rt9d9oWL2bF",
        "colab_type": "code",
        "outputId": "cfda2d3c-b9d7-4606-fb18-71c1681bbcfa",
        "colab": {
          "base_uri": "https://localhost:8080/",
          "height": 153
        }
      },
      "source": [
        "# Default\n",
        "model = LogisticRegression()\n",
        "result = model.fit(X_train_ds,y_train_ds)\n",
        "print('Default model summary:')\n",
        "summary(model)\n",
        "\n",
        "# Randomized search result\n",
        "model = LogisticRegression(penalty='l1',solver='saga',l1_ratio=1)\n",
        "result = model.fit(X_train_ds,y_train_ds)\n",
        "print('Randomized search result summary:')\n",
        "summary(model)"
      ],
      "execution_count": 0,
      "outputs": [
        {
          "output_type": "stream",
          "text": [
            "Default model summary:\n",
            "Train FDR at 3%: 55.62%\n",
            "Test FDR at 3%: 54.33%\n",
            "OOT FDR at 3%: 52.68%\n",
            "Randomized search result summary:\n",
            "Train FDR at 3%: 55.61%\n",
            "Test FDR at 3%: 54.29%\n",
            "OOT FDR at 3%: 52.68%\n"
          ],
          "name": "stdout"
        }
      ]
    },
    {
      "cell_type": "code",
      "metadata": {
        "id": "hE4VISsKRwUY",
        "colab_type": "code",
        "outputId": "566c1d28-ed02-4804-bf23-b48f5d627bfa",
        "colab": {
          "base_uri": "https://localhost:8080/",
          "height": 756
        }
      },
      "source": [
        "for i in np.arange(0,1.1,0.1):\n",
        "  model = LogisticRegression(penalty='elasticnet',solver='saga',l1_ratio=i)\n",
        "  result = model.fit(X_train_ds,y_train_ds)"
      ],
      "execution_count": 0,
      "outputs": [
        {
          "output_type": "stream",
          "text": [
            "l1_ratio: 0.0\n",
            "Train FDR at 3%: 55.61%\n",
            "Test FDR at 3%: 54.29%\n",
            "OOT FDR at 3%: 52.68%\n",
            "l1_ratio: 0.1\n",
            "Train FDR at 3%: 55.60%\n",
            "Test FDR at 3%: 54.29%\n",
            "OOT FDR at 3%: 52.68%\n",
            "l1_ratio: 0.2\n",
            "Train FDR at 3%: 55.61%\n",
            "Test FDR at 3%: 54.29%\n",
            "OOT FDR at 3%: 52.68%\n",
            "l1_ratio: 0.30000000000000004\n",
            "Train FDR at 3%: 55.61%\n",
            "Test FDR at 3%: 54.29%\n",
            "OOT FDR at 3%: 52.68%\n",
            "l1_ratio: 0.4\n",
            "Train FDR at 3%: 55.61%\n",
            "Test FDR at 3%: 54.29%\n",
            "OOT FDR at 3%: 52.68%\n",
            "l1_ratio: 0.5\n",
            "Train FDR at 3%: 55.61%\n",
            "Test FDR at 3%: 54.29%\n",
            "OOT FDR at 3%: 52.68%\n",
            "l1_ratio: 0.6000000000000001\n",
            "Train FDR at 3%: 55.61%\n",
            "Test FDR at 3%: 54.29%\n",
            "OOT FDR at 3%: 52.68%\n",
            "l1_ratio: 0.7000000000000001\n",
            "Train FDR at 3%: 55.61%\n",
            "Test FDR at 3%: 54.29%\n",
            "OOT FDR at 3%: 52.68%\n",
            "l1_ratio: 0.8\n",
            "Train FDR at 3%: 55.61%\n",
            "Test FDR at 3%: 54.29%\n",
            "OOT FDR at 3%: 52.68%\n",
            "l1_ratio: 0.9\n",
            "Train FDR at 3%: 55.61%\n",
            "Test FDR at 3%: 54.29%\n",
            "OOT FDR at 3%: 52.68%\n",
            "l1_ratio: 1.0\n",
            "Train FDR at 3%: 55.61%\n",
            "Test FDR at 3%: 54.29%\n",
            "OOT FDR at 3%: 52.68%\n"
          ],
          "name": "stdout"
        }
      ]
    },
    {
      "cell_type": "markdown",
      "metadata": {
        "id": "kLjzGJcudMHU",
        "colab_type": "text"
      },
      "source": [
        "Neural Network (MLPClassifier)"
      ]
    },
    {
      "cell_type": "code",
      "metadata": {
        "id": "3-6hAUU-kKS2",
        "colab_type": "code",
        "colab": {}
      },
      "source": [
        "test_grid1 = {\n",
        "  'activation' : ['relu','tanh','logistic','identity'],\n",
        "  'solver' : ['adam'],\n",
        "  'alpha' : np.arange(0,0.001,0.0001),\n",
        "  'learning_rate': ['constant','invscaling','adaptive'],\n",
        "  'learning_rate_init' : np.arange(0,0.1,0.0001),\n",
        "  'max_iter' : [100,200,300,400,500],\n",
        "}"
      ],
      "execution_count": 0,
      "outputs": []
    },
    {
      "cell_type": "code",
      "metadata": {
        "id": "BSC5zhamnBnF",
        "colab_type": "code",
        "colab": {}
      },
      "source": [
        "test_grid2 = {\n",
        "  'activation' : ['relu','tanh','logistic','identity'],\n",
        "  'solver' : ['sgd'],\n",
        "  'alpha' : np.arange(0,0.001,0.0001),\n",
        "  'learning_rate': ['constant','invscaling','adaptive'],\n",
        "  'learning_rate_init' : np.arange(0,0.1,0.0001),\n",
        "  'max_iter' : [100,200,300,400,500],\n",
        "  'momentum' : [0.1,0.2,0.3,0.4,0.5,0.6,0.7,0.8,0.9,1],\n",
        "  'nesterovs_momentum' : [True, False]\n",
        "}"
      ],
      "execution_count": 0,
      "outputs": []
    },
    {
      "cell_type": "code",
      "metadata": {
        "id": "wF8Sou0UnwTZ",
        "colab_type": "code",
        "outputId": "f2be2544-39c4-4765-a7f6-d5d0c4e1ba2c",
        "colab": {
          "base_uri": "https://localhost:8080/",
          "height": 751
        }
      },
      "source": [
        "nn1 = MLPClassifier()\n",
        "nn1_best_fdr, nn1_best_params = randomized_search_cv(nn1, test_grid1, X_train, y_train, n_jobs=-1, n_iter=16)\n",
        "nn1_best_fdr, nn1_best_params"
      ],
      "execution_count": 0,
      "outputs": [
        {
          "output_type": "stream",
          "text": [
            "Total combination: 600000\n",
            "Randomized search size: 16\n",
            "{'activation': 'relu', 'alpha': 0.0004, 'learning_rate': 'constant', 'learning_rate_init': 0.0669, 'max_iter': 200, 'solver': 'adam'}\n",
            "{'activation': 'tanh', 'alpha': 0.0002, 'learning_rate': 'constant', 'learning_rate_init': 0.0694, 'max_iter': 500, 'solver': 'adam'}\n",
            "{'activation': 'logistic', 'alpha': 0.0007, 'learning_rate': 'adaptive', 'learning_rate_init': 0.0024000000000000002, 'max_iter': 200, 'solver': 'adam'}\n",
            "{'activation': 'identity', 'alpha': 0.0001, 'learning_rate': 'adaptive', 'learning_rate_init': 0.0064, 'max_iter': 400, 'solver': 'adam'}\n",
            "{'activation': 'identity', 'alpha': 0.0001, 'learning_rate': 'adaptive', 'learning_rate_init': 0.0064, 'max_iter': 400, 'solver': 'adam'}, FDR: 55.30%, 340 sec elapsed\n",
            "{'activation': 'logistic', 'alpha': 0.0009000000000000001, 'learning_rate': 'constant', 'learning_rate_init': 0.0407, 'max_iter': 200, 'solver': 'adam'}\n",
            "{'activation': 'relu', 'alpha': 0.0004, 'learning_rate': 'constant', 'learning_rate_init': 0.0669, 'max_iter': 200, 'solver': 'adam'}, FDR: 55.93%, 354 sec elapsed\n",
            "{'activation': 'tanh', 'alpha': 0.0007, 'learning_rate': 'constant', 'learning_rate_init': 0.0303, 'max_iter': 500, 'solver': 'adam'}\n",
            "{'activation': 'tanh', 'alpha': 0.0002, 'learning_rate': 'constant', 'learning_rate_init': 0.0694, 'max_iter': 500, 'solver': 'adam'}, FDR: 55.74%, 356 sec elapsed\n",
            "{'activation': 'identity', 'alpha': 0.0007, 'learning_rate': 'constant', 'learning_rate_init': 0.0844, 'max_iter': 100, 'solver': 'adam'}\n",
            "{'activation': 'identity', 'alpha': 0.0007, 'learning_rate': 'constant', 'learning_rate_init': 0.0844, 'max_iter': 100, 'solver': 'adam'}, FDR: 54.72%, 301 sec elapsed\n",
            "{'activation': 'tanh', 'alpha': 0.0009000000000000001, 'learning_rate': 'constant', 'learning_rate_init': 0.0775, 'max_iter': 200, 'solver': 'adam'}\n",
            "{'activation': 'logistic', 'alpha': 0.0007, 'learning_rate': 'adaptive', 'learning_rate_init': 0.0024000000000000002, 'max_iter': 200, 'solver': 'adam'}, FDR: 56.50%, 708 sec elapsed\n",
            "{'activation': 'logistic', 'alpha': 0.0001, 'learning_rate': 'constant', 'learning_rate_init': 0.0407, 'max_iter': 200, 'solver': 'adam'}\n",
            "{'activation': 'tanh', 'alpha': 0.0007, 'learning_rate': 'constant', 'learning_rate_init': 0.0303, 'max_iter': 500, 'solver': 'adam'}, FDR: 56.26%, 448 sec elapsed\n",
            "{'activation': 'tanh', 'alpha': 0.0005, 'learning_rate': 'constant', 'learning_rate_init': 0.06280000000000001, 'max_iter': 200, 'solver': 'adam'}\n",
            "{'activation': 'logistic', 'alpha': 0.0009000000000000001, 'learning_rate': 'constant', 'learning_rate_init': 0.0407, 'max_iter': 200, 'solver': 'adam'}, FDR: 56.29%, 651 sec elapsed\n",
            "{'activation': 'relu', 'alpha': 0.0007, 'learning_rate': 'invscaling', 'learning_rate_init': 0.0877, 'max_iter': 100, 'solver': 'adam'}\n",
            "{'activation': 'tanh', 'alpha': 0.0009000000000000001, 'learning_rate': 'constant', 'learning_rate_init': 0.0775, 'max_iter': 200, 'solver': 'adam'}, FDR: 54.59%, 354 sec elapsed\n",
            "{'activation': 'tanh', 'alpha': 0.0009000000000000001, 'learning_rate': 'adaptive', 'learning_rate_init': 0.0511, 'max_iter': 300, 'solver': 'adam'}\n",
            "{'activation': 'tanh', 'alpha': 0.0005, 'learning_rate': 'constant', 'learning_rate_init': 0.06280000000000001, 'max_iter': 200, 'solver': 'adam'}, FDR: 54.78%, 361 sec elapsed\n",
            "{'activation': 'tanh', 'alpha': 0.00030000000000000003, 'learning_rate': 'constant', 'learning_rate_init': 0.007, 'max_iter': 100, 'solver': 'adam'}\n",
            "{'activation': 'relu', 'alpha': 0.0007, 'learning_rate': 'invscaling', 'learning_rate_init': 0.0877, 'max_iter': 100, 'solver': 'adam'}, FDR: 56.02%, 345 sec elapsed\n",
            "{'activation': 'relu', 'alpha': 0.0, 'learning_rate': 'invscaling', 'learning_rate_init': 0.05, 'max_iter': 100, 'solver': 'adam'}\n",
            "{'activation': 'tanh', 'alpha': 0.0009000000000000001, 'learning_rate': 'adaptive', 'learning_rate_init': 0.0511, 'max_iter': 300, 'solver': 'adam'}, FDR: 56.29%, 421 sec elapsed\n",
            "{'activation': 'logistic', 'alpha': 0.0001, 'learning_rate': 'constant', 'learning_rate_init': 0.0407, 'max_iter': 200, 'solver': 'adam'}, FDR: 55.95%, 727 sec elapsed\n",
            "{'activation': 'logistic', 'alpha': 0.0008, 'learning_rate': 'invscaling', 'learning_rate_init': 0.0397, 'max_iter': 300, 'solver': 'adam'}\n",
            "{'activation': 'relu', 'alpha': 0.0, 'learning_rate': 'invscaling', 'learning_rate_init': 0.05, 'max_iter': 100, 'solver': 'adam'}, FDR: 56.63%, 330 sec elapsed\n",
            "{'activation': 'tanh', 'alpha': 0.00030000000000000003, 'learning_rate': 'constant', 'learning_rate_init': 0.007, 'max_iter': 100, 'solver': 'adam'}, FDR: 56.55%, 597 sec elapsed\n",
            "{'activation': 'logistic', 'alpha': 0.0008, 'learning_rate': 'invscaling', 'learning_rate_init': 0.0397, 'max_iter': 300, 'solver': 'adam'}, FDR: 56.90%, 368 sec elapsed\n",
            "{'activation': 'identity', 'alpha': 0.0007, 'learning_rate': 'constant', 'learning_rate_init': 0.0471, 'max_iter': 100, 'solver': 'adam'}\n",
            "{'activation': 'identity', 'alpha': 0.0007, 'learning_rate': 'constant', 'learning_rate_init': 0.0471, 'max_iter': 100, 'solver': 'adam'}, FDR: 54.86%, 70 sec elapsed\n",
            "Total time elapsed: 31.2 minutes\n"
          ],
          "name": "stdout"
        },
        {
          "output_type": "execute_result",
          "data": {
            "text/plain": [
              "(56.90327539047405,\n",
              " {'activation': 'logistic',\n",
              "  'alpha': 0.0008,\n",
              "  'learning_rate': 'invscaling',\n",
              "  'learning_rate_init': 0.0397,\n",
              "  'max_iter': 300,\n",
              "  'solver': 'adam'})"
            ]
          },
          "metadata": {
            "tags": []
          },
          "execution_count": 38
        }
      ]
    },
    {
      "cell_type": "code",
      "metadata": {
        "id": "tki8HoSKnwEw",
        "colab_type": "code",
        "outputId": "df8ebf65-d4c0-4f27-9cf7-7f292b588682",
        "colab": {
          "base_uri": "https://localhost:8080/",
          "height": 785
        }
      },
      "source": [
        "nn2 = MLPClassifier()\n",
        "nn2_best_fdr, nn2_best_params = randomized_search_cv(nn2, test_grid2, X_train, y_train, n_jobs=-1, n_iter=16)\n",
        "nn2_best_fdr, nn2_best_params"
      ],
      "execution_count": 0,
      "outputs": [
        {
          "output_type": "stream",
          "text": [
            "Total combination: 12000000\n",
            "Randomized search size: 16\n",
            "{'activation': 'tanh', 'alpha': 0.0001, 'learning_rate': 'constant', 'learning_rate_init': 0.083, 'max_iter': 400, 'momentum': 0.1, 'nesterovs_momentum': True, 'solver': 'sgd'}\n",
            "{'activation': 'identity', 'alpha': 0.0002, 'learning_rate': 'adaptive', 'learning_rate_init': 0.014700000000000001, 'max_iter': 200, 'momentum': 0.4, 'nesterovs_momentum': False, 'solver': 'sgd'}\n",
            "{'activation': 'tanh', 'alpha': 0.00030000000000000003, 'learning_rate': 'adaptive', 'learning_rate_init': 0.0618, 'max_iter': 500, 'momentum': 0.9, 'nesterovs_momentum': True, 'solver': 'sgd'}\n",
            "{'activation': 'identity', 'alpha': 0.0006000000000000001, 'learning_rate': 'constant', 'learning_rate_init': 0.0262, 'max_iter': 100, 'momentum': 0.1, 'nesterovs_momentum': True, 'solver': 'sgd'}\n",
            "{'activation': 'identity', 'alpha': 0.0006000000000000001, 'learning_rate': 'constant', 'learning_rate_init': 0.0262, 'max_iter': 100, 'momentum': 0.1, 'nesterovs_momentum': True, 'solver': 'sgd'}, FDR: 55.33%, 318 sec elapsed\n",
            "{'activation': 'relu', 'alpha': 0.00030000000000000003, 'learning_rate': 'constant', 'learning_rate_init': 0.07590000000000001, 'max_iter': 200, 'momentum': 0.1, 'nesterovs_momentum': False, 'solver': 'sgd'}\n",
            "{'activation': 'tanh', 'alpha': 0.0001, 'learning_rate': 'constant', 'learning_rate_init': 0.083, 'max_iter': 400, 'momentum': 0.1, 'nesterovs_momentum': True, 'solver': 'sgd'}, FDR: 56.63%, 612 sec elapsed\n",
            "{'activation': 'identity', 'alpha': 0.0002, 'learning_rate': 'constant', 'learning_rate_init': 0.0053, 'max_iter': 400, 'momentum': 0.4, 'nesterovs_momentum': False, 'solver': 'sgd'}\n",
            "{'activation': 'identity', 'alpha': 0.0002, 'learning_rate': 'adaptive', 'learning_rate_init': 0.014700000000000001, 'max_iter': 200, 'momentum': 0.4, 'nesterovs_momentum': False, 'solver': 'sgd'}, FDR: 55.10%, 646 sec elapsed\n",
            "{'activation': 'logistic', 'alpha': 0.0004, 'learning_rate': 'constant', 'learning_rate_init': 0.0018000000000000002, 'max_iter': 400, 'momentum': 0.6, 'nesterovs_momentum': True, 'solver': 'sgd'}\n",
            "{'activation': 'relu', 'alpha': 0.00030000000000000003, 'learning_rate': 'constant', 'learning_rate_init': 0.07590000000000001, 'max_iter': 200, 'momentum': 0.1, 'nesterovs_momentum': False, 'solver': 'sgd'}, FDR: 56.84%, 547 sec elapsed\n",
            "{'activation': 'tanh', 'alpha': 0.0008, 'learning_rate': 'adaptive', 'learning_rate_init': 0.09040000000000001, 'max_iter': 400, 'momentum': 0.9, 'nesterovs_momentum': True, 'solver': 'sgd'}\n",
            "{'activation': 'identity', 'alpha': 0.0002, 'learning_rate': 'constant', 'learning_rate_init': 0.0053, 'max_iter': 400, 'momentum': 0.4, 'nesterovs_momentum': False, 'solver': 'sgd'}, FDR: 55.40%, 316 sec elapsed\n",
            "{'activation': 'relu', 'alpha': 0.00030000000000000003, 'learning_rate': 'constant', 'learning_rate_init': 0.058600000000000006, 'max_iter': 400, 'momentum': 0.2, 'nesterovs_momentum': True, 'solver': 'sgd'}\n",
            "{'activation': 'logistic', 'alpha': 0.0004, 'learning_rate': 'constant', 'learning_rate_init': 0.0018000000000000002, 'max_iter': 400, 'momentum': 0.6, 'nesterovs_momentum': True, 'solver': 'sgd'}, FDR: 55.58%, 874 sec elapsed\n",
            "{'activation': 'relu', 'alpha': 0.0009000000000000001, 'learning_rate': 'invscaling', 'learning_rate_init': 0.00030000000000000003, 'max_iter': 100, 'momentum': 0.5, 'nesterovs_momentum': False, 'solver': 'sgd'}\n",
            "{'activation': 'relu', 'alpha': 0.00030000000000000003, 'learning_rate': 'constant', 'learning_rate_init': 0.058600000000000006, 'max_iter': 400, 'momentum': 0.2, 'nesterovs_momentum': True, 'solver': 'sgd'}, FDR: 56.49%, 595 sec elapsed\n",
            "{'activation': 'relu', 'alpha': 0.0007, 'learning_rate': 'constant', 'learning_rate_init': 0.08370000000000001, 'max_iter': 500, 'momentum': 0.5, 'nesterovs_momentum': False, 'solver': 'sgd'}\n",
            "{'activation': 'tanh', 'alpha': 0.00030000000000000003, 'learning_rate': 'adaptive', 'learning_rate_init': 0.0618, 'max_iter': 500, 'momentum': 0.9, 'nesterovs_momentum': True, 'solver': 'sgd'}, FDR: 56.63%, 1556 sec elapsed\n",
            "{'activation': 'relu', 'alpha': 0.0005, 'learning_rate': 'adaptive', 'learning_rate_init': 0.033800000000000004, 'max_iter': 200, 'momentum': 0.3, 'nesterovs_momentum': False, 'solver': 'sgd'}\n",
            "{'activation': 'relu', 'alpha': 0.0009000000000000001, 'learning_rate': 'invscaling', 'learning_rate_init': 0.00030000000000000003, 'max_iter': 100, 'momentum': 0.5, 'nesterovs_momentum': False, 'solver': 'sgd'}, FDR: 21.49%, 495 sec elapsed\n",
            "{'activation': 'identity', 'alpha': 0.0001, 'learning_rate': 'invscaling', 'learning_rate_init': 0.08310000000000001, 'max_iter': 200, 'momentum': 1, 'nesterovs_momentum': False, 'solver': 'sgd'}\n",
            "{'activation': 'relu', 'alpha': 0.0007, 'learning_rate': 'constant', 'learning_rate_init': 0.08370000000000001, 'max_iter': 500, 'momentum': 0.5, 'nesterovs_momentum': False, 'solver': 'sgd'}, FDR: 56.36%, 516 sec elapsed\n",
            "{'activation': 'tanh', 'alpha': 0.0008, 'learning_rate': 'adaptive', 'learning_rate_init': 0.09040000000000001, 'max_iter': 400, 'momentum': 0.9, 'nesterovs_momentum': True, 'solver': 'sgd'}, FDR: 56.03%, 1724 sec elapsed\n",
            "{'activation': 'tanh', 'alpha': 0.0007, 'learning_rate': 'constant', 'learning_rate_init': 0.093, 'max_iter': 200, 'momentum': 0.1, 'nesterovs_momentum': False, 'solver': 'sgd'}\n",
            "{'activation': 'relu', 'alpha': 0.0005, 'learning_rate': 'adaptive', 'learning_rate_init': 0.033800000000000004, 'max_iter': 200, 'momentum': 0.3, 'nesterovs_momentum': False, 'solver': 'sgd'}, FDR: 56.16%, 1040 sec elapsed\n",
            "{'activation': 'relu', 'alpha': 0.0, 'learning_rate': 'invscaling', 'learning_rate_init': 0.0438, 'max_iter': 300, 'momentum': 0.7, 'nesterovs_momentum': True, 'solver': 'sgd'}\n",
            "{'activation': 'relu', 'alpha': 0.0, 'learning_rate': 'invscaling', 'learning_rate_init': 0.0438, 'max_iter': 300, 'momentum': 0.7, 'nesterovs_momentum': True, 'solver': 'sgd'}, FDR: 55.62%, 215 sec elapsed\n",
            "{'activation': 'relu', 'alpha': 0.0007, 'learning_rate': 'invscaling', 'learning_rate_init': 0.0663, 'max_iter': 100, 'momentum': 0.8, 'nesterovs_momentum': False, 'solver': 'sgd'}\n",
            "{'activation': 'identity', 'alpha': 0.0001, 'learning_rate': 'invscaling', 'learning_rate_init': 0.08310000000000001, 'max_iter': 200, 'momentum': 1, 'nesterovs_momentum': False, 'solver': 'sgd'}, FDR: 42.30%, 973 sec elapsed\n",
            "{'activation': 'relu', 'alpha': 0.0007, 'learning_rate': 'invscaling', 'learning_rate_init': 0.0663, 'max_iter': 100, 'momentum': 0.8, 'nesterovs_momentum': False, 'solver': 'sgd'}, FDR: 56.03%, 215 sec elapsed\n",
            "{'activation': 'tanh', 'alpha': 0.0007, 'learning_rate': 'constant', 'learning_rate_init': 0.093, 'max_iter': 200, 'momentum': 0.1, 'nesterovs_momentum': False, 'solver': 'sgd'}, FDR: 55.69%, 449 sec elapsed\n",
            "Total time elapsed: 50.7 minutes\n"
          ],
          "name": "stdout"
        },
        {
          "output_type": "execute_result",
          "data": {
            "text/plain": [
              "(56.842084370159775,\n",
              " {'activation': 'relu',\n",
              "  'alpha': 0.00030000000000000003,\n",
              "  'learning_rate': 'constant',\n",
              "  'learning_rate_init': 0.07590000000000001,\n",
              "  'max_iter': 200,\n",
              "  'momentum': 0.1,\n",
              "  'nesterovs_momentum': False,\n",
              "  'solver': 'sgd'})"
            ]
          },
          "metadata": {
            "tags": []
          },
          "execution_count": 52
        }
      ]
    },
    {
      "cell_type": "code",
      "metadata": {
        "id": "t_7QdsWzQIit",
        "colab_type": "code",
        "outputId": "f3c141c9-b302-4313-dbd2-e63dcccddef0",
        "colab": {
          "base_uri": "https://localhost:8080/",
          "height": 134
        }
      },
      "source": [
        "# Default\n",
        "model = MLPClassifier()\n",
        "print('Default model summary:')\n",
        "fit_avg_fdr(model)"
      ],
      "execution_count": 0,
      "outputs": [
        {
          "output_type": "stream",
          "text": [
            "Default model summary:\n"
          ],
          "name": "stdout"
        },
        {
          "output_type": "execute_result",
          "data": {
            "text/plain": [
              "(array([[56.78528676, 55.46364824, 53.8139145 ,  0.95573759],\n",
              "        [56.71999129, 55.8119286 , 53.8977368 ,  0.95566834],\n",
              "        [56.85058222, 55.68132347, 53.8139145 ,  0.95583652],\n",
              "        [56.79616933, 55.76839356, 54.02347024,  0.95595524],\n",
              "        [56.75263902, 55.8119286 , 53.85582565,  0.95577716]]),\n",
              " array([56.78093373, 55.70744449, 53.88097234,  0.95579497]))"
            ]
          },
          "metadata": {
            "tags": []
          },
          "execution_count": 25
        }
      ]
    },
    {
      "cell_type": "code",
      "metadata": {
        "id": "Ij_R0HP-YUUL",
        "colab_type": "code",
        "outputId": "f13381d8-09f1-4be5-fe2e-0606f8d8a07c",
        "colab": {
          "base_uri": "https://localhost:8080/",
          "height": 134
        }
      },
      "source": [
        "# Randomized search result 1\n",
        "model = MLPClassifier(activation='logistic',alpha=0.0008,learning_rate='invscaling',learning_rate_init=0.0397,max_iter=300,solver='adam')\n",
        "print('Randomized search result 1 summary:')\n",
        "fit_avg_fdr(model)"
      ],
      "execution_count": 0,
      "outputs": [
        {
          "output_type": "stream",
          "text": [
            "Randomized search result 1 summary:\n"
          ],
          "name": "stdout"
        },
        {
          "output_type": "execute_result",
          "data": {
            "text/plain": [
              "(array([[56.42616172, 55.72485851, 53.85582565,  0.95502528],\n",
              "        [56.44792687, 55.89899869, 53.68818106,  0.95560898],\n",
              "        [56.53498749, 55.8119286 , 53.98155909,  0.95551005],\n",
              "        [56.28468821, 55.85546365, 53.64626991,  0.9557277 ],\n",
              "        [56.3391011 , 55.76839356, 53.47862531,  0.95479773]]),\n",
              " array([56.40657308, 55.8119286 , 53.7300922 ,  0.95533395]))"
            ]
          },
          "metadata": {
            "tags": []
          },
          "execution_count": 27
        }
      ]
    },
    {
      "cell_type": "code",
      "metadata": {
        "id": "sC30IiGJYfpU",
        "colab_type": "code",
        "outputId": "50680de8-853e-4ed1-b713-e487daef7226",
        "colab": {
          "base_uri": "https://localhost:8080/",
          "height": 134
        }
      },
      "source": [
        "# Randomized search result 2\n",
        "model = MLPClassifier(activation='relu',alpha=0.0003,learning_rate='constant',learning_rate_init=0.07590000000000001,max_iter=200,solver='sgd',\\\n",
        "                      momentum=0.1,nesterovs_momentum=False)\n",
        "print('Randomized search result 2 summary:')\n",
        "fit_avg_fdr(model)"
      ],
      "execution_count": 0,
      "outputs": [
        {
          "output_type": "stream",
          "text": [
            "Randomized search result 2 summary:\n"
          ],
          "name": "stdout"
        },
        {
          "output_type": "execute_result",
          "data": {
            "text/plain": [
              "(array([[56.58940037, 55.68132347, 53.93964795,  0.95535175],\n",
              "        [56.55675264, 55.46364824, 53.64626991,  0.95546058],\n",
              "        [56.63293068, 55.85546365, 53.98155909,  0.95552983],\n",
              "        [56.68734356, 55.59425337, 53.93964795,  0.95555951],\n",
              "        [56.66557841, 55.59425337, 53.85582565,  0.95525282]]),\n",
              " array([56.62640113, 55.63778842, 53.87259011,  0.9554309 ]))"
            ]
          },
          "metadata": {
            "tags": []
          },
          "execution_count": 28
        }
      ]
    },
    {
      "cell_type": "code",
      "metadata": {
        "id": "eFrROtV9dYPn",
        "colab_type": "code",
        "colab": {}
      },
      "source": [
        ""
      ],
      "execution_count": 0,
      "outputs": []
    }
  ]
}