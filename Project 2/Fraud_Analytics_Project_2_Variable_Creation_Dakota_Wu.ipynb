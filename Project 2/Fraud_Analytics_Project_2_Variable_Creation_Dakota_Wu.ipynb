{
  "nbformat": 4,
  "nbformat_minor": 0,
  "metadata": {
    "colab": {
      "name": "Fraud Analytics_Project 2_Variable Creation_Dakota Wu.ipynb",
      "provenance": [],
      "collapsed_sections": [],
      "machine_shape": "hm"
    },
    "kernelspec": {
      "name": "python3",
      "display_name": "Python 3"
    }
  },
  "cells": [
    {
      "cell_type": "code",
      "metadata": {
        "id": "48TUuZfvHT2y",
        "colab_type": "code",
        "colab": {}
      },
      "source": [
        "import pandas as pd\n",
        "import numpy as np\n",
        "import matplotlib.pyplot as plt\n",
        "import datetime as dt\n",
        "import scipy.stats as sps\n",
        "from sklearn.preprocessing import StandardScaler\n",
        "from scipy.stats import norm"
      ],
      "execution_count": 0,
      "outputs": []
    },
    {
      "cell_type": "markdown",
      "metadata": {
        "id": "0-NQLdoJK-Ik",
        "colab_type": "text"
      },
      "source": [
        "**Data Cleaning and Variable Creation**"
      ]
    },
    {
      "cell_type": "code",
      "metadata": {
        "id": "P3LcKAJLHkfR",
        "colab_type": "code",
        "outputId": "c2067e0f-b65f-4d66-c295-3742bb58f6ea",
        "colab": {
          "resources": {
            "http://localhost:8080/nbextensions/google.colab/files.js": {
              "data": "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",
              "ok": true,
              "headers": [
                [
                  "content-type",
                  "application/javascript"
                ]
              ],
              "status": 200,
              "status_text": ""
            }
          },
          "base_uri": "https://localhost:8080/",
          "height": 71
        }
      },
      "source": [
        "from google.colab import files\n",
        "uploaded = files.upload()"
      ],
      "execution_count": 0,
      "outputs": [
        {
          "output_type": "display_data",
          "data": {
            "text/html": [
              "\n",
              "     <input type=\"file\" id=\"files-e7688a05-22cb-447e-9217-82f6829d7ed0\" name=\"files[]\" multiple disabled />\n",
              "     <output id=\"result-e7688a05-22cb-447e-9217-82f6829d7ed0\">\n",
              "      Upload widget is only available when the cell has been executed in the\n",
              "      current browser session. Please rerun this cell to enable.\n",
              "      </output>\n",
              "      <script src=\"/nbextensions/google.colab/files.js\"></script> "
            ],
            "text/plain": [
              "<IPython.core.display.HTML object>"
            ]
          },
          "metadata": {
            "tags": []
          }
        },
        {
          "output_type": "stream",
          "text": [
            "Saving applications data.csv to applications data (5).csv\n"
          ],
          "name": "stdout"
        }
      ]
    },
    {
      "cell_type": "code",
      "metadata": {
        "id": "h5oVxtEuHoML",
        "colab_type": "code",
        "colab": {}
      },
      "source": [
        "import io\n",
        "data = pd.read_csv(io.BytesIO(uploaded['applications data.csv']))"
      ],
      "execution_count": 0,
      "outputs": []
    },
    {
      "cell_type": "code",
      "metadata": {
        "id": "TfW-H50ULMl5",
        "colab_type": "code",
        "outputId": "e3413942-21b1-431c-99ef-745569dc9397",
        "colab": {
          "base_uri": "https://localhost:8080/",
          "height": 34
        }
      },
      "source": [
        "data.shape"
      ],
      "execution_count": 0,
      "outputs": [
        {
          "output_type": "execute_result",
          "data": {
            "text/plain": [
              "(1000000, 10)"
            ]
          },
          "metadata": {
            "tags": []
          },
          "execution_count": 4
        }
      ]
    },
    {
      "cell_type": "code",
      "metadata": {
        "id": "l6s7xyojLQ7G",
        "colab_type": "code",
        "outputId": "bd78d1ea-2de6-4f78-8ca5-cd80bbb48963",
        "colab": {
          "base_uri": "https://localhost:8080/",
          "height": 204
        }
      },
      "source": [
        "data.head()"
      ],
      "execution_count": 0,
      "outputs": [
        {
          "output_type": "execute_result",
          "data": {
            "text/html": [
              "<div>\n",
              "<style scoped>\n",
              "    .dataframe tbody tr th:only-of-type {\n",
              "        vertical-align: middle;\n",
              "    }\n",
              "\n",
              "    .dataframe tbody tr th {\n",
              "        vertical-align: top;\n",
              "    }\n",
              "\n",
              "    .dataframe thead th {\n",
              "        text-align: right;\n",
              "    }\n",
              "</style>\n",
              "<table border=\"1\" class=\"dataframe\">\n",
              "  <thead>\n",
              "    <tr style=\"text-align: right;\">\n",
              "      <th></th>\n",
              "      <th>record</th>\n",
              "      <th>date</th>\n",
              "      <th>ssn</th>\n",
              "      <th>firstname</th>\n",
              "      <th>lastname</th>\n",
              "      <th>address</th>\n",
              "      <th>zip5</th>\n",
              "      <th>dob</th>\n",
              "      <th>homephone</th>\n",
              "      <th>fraud_label</th>\n",
              "    </tr>\n",
              "  </thead>\n",
              "  <tbody>\n",
              "    <tr>\n",
              "      <th>0</th>\n",
              "      <td>1</td>\n",
              "      <td>20160101</td>\n",
              "      <td>379070012</td>\n",
              "      <td>XRRAMMTR</td>\n",
              "      <td>SMJETJMJ</td>\n",
              "      <td>6861 EUTST PL</td>\n",
              "      <td>2765</td>\n",
              "      <td>19070626</td>\n",
              "      <td>1797504115</td>\n",
              "      <td>0</td>\n",
              "    </tr>\n",
              "    <tr>\n",
              "      <th>1</th>\n",
              "      <td>2</td>\n",
              "      <td>20160101</td>\n",
              "      <td>387482503</td>\n",
              "      <td>MAMSTUJR</td>\n",
              "      <td>RTTEMRRR</td>\n",
              "      <td>7280 URASA PL</td>\n",
              "      <td>57169</td>\n",
              "      <td>19340615</td>\n",
              "      <td>4164239415</td>\n",
              "      <td>1</td>\n",
              "    </tr>\n",
              "    <tr>\n",
              "      <th>2</th>\n",
              "      <td>3</td>\n",
              "      <td>20160101</td>\n",
              "      <td>200332444</td>\n",
              "      <td>SZMMUJEZS</td>\n",
              "      <td>EUSEZRAE</td>\n",
              "      <td>5581 RSREX LN</td>\n",
              "      <td>56721</td>\n",
              "      <td>19070626</td>\n",
              "      <td>216537580</td>\n",
              "      <td>0</td>\n",
              "    </tr>\n",
              "    <tr>\n",
              "      <th>3</th>\n",
              "      <td>4</td>\n",
              "      <td>20160101</td>\n",
              "      <td>747451317</td>\n",
              "      <td>SJJZSXRSZ</td>\n",
              "      <td>ETJXTXXS</td>\n",
              "      <td>1387 UJZXJ RD</td>\n",
              "      <td>35286</td>\n",
              "      <td>19440430</td>\n",
              "      <td>132144161</td>\n",
              "      <td>0</td>\n",
              "    </tr>\n",
              "    <tr>\n",
              "      <th>4</th>\n",
              "      <td>5</td>\n",
              "      <td>20160101</td>\n",
              "      <td>24065868</td>\n",
              "      <td>SSSXUEJMS</td>\n",
              "      <td>SSUUJXUZ</td>\n",
              "      <td>279 EAASA WY</td>\n",
              "      <td>3173</td>\n",
              "      <td>19980315</td>\n",
              "      <td>6101082272</td>\n",
              "      <td>0</td>\n",
              "    </tr>\n",
              "  </tbody>\n",
              "</table>\n",
              "</div>"
            ],
            "text/plain": [
              "   record      date        ssn  ...       dob   homephone fraud_label\n",
              "0       1  20160101  379070012  ...  19070626  1797504115           0\n",
              "1       2  20160101  387482503  ...  19340615  4164239415           1\n",
              "2       3  20160101  200332444  ...  19070626   216537580           0\n",
              "3       4  20160101  747451317  ...  19440430   132144161           0\n",
              "4       5  20160101   24065868  ...  19980315  6101082272           0\n",
              "\n",
              "[5 rows x 10 columns]"
            ]
          },
          "metadata": {
            "tags": []
          },
          "execution_count": 5
        }
      ]
    },
    {
      "cell_type": "code",
      "metadata": {
        "id": "f7TQcYhQLU_l",
        "colab_type": "code",
        "outputId": "c9da99ab-f9e9-4021-bd10-359fdbda3922",
        "colab": {
          "base_uri": "https://localhost:8080/",
          "height": 204
        }
      },
      "source": [
        "data.isnull().sum()"
      ],
      "execution_count": 0,
      "outputs": [
        {
          "output_type": "execute_result",
          "data": {
            "text/plain": [
              "record         0\n",
              "date           0\n",
              "ssn            0\n",
              "firstname      0\n",
              "lastname       0\n",
              "address        0\n",
              "zip5           0\n",
              "dob            0\n",
              "homephone      0\n",
              "fraud_label    0\n",
              "dtype: int64"
            ]
          },
          "metadata": {
            "tags": []
          },
          "execution_count": 6
        }
      ]
    },
    {
      "cell_type": "markdown",
      "metadata": {
        "id": "z9YcJcUmLX2t",
        "colab_type": "text"
      },
      "source": [
        "Get rid of frivolous data in ssn, address, homephone, dob"
      ]
    },
    {
      "cell_type": "code",
      "metadata": {
        "id": "yFYh2LeeHwb-",
        "colab_type": "code",
        "colab": {}
      },
      "source": [
        "data.loc[data['ssn']==999999999,'ssn'] = -data[data['ssn']==999999999]['record']\n",
        "data.loc[data['address']=='123 MAIN ST','address'] = -data[data['address']=='123 MAIN ST']['record']\n",
        "data.loc[data['homephone']==9999999999,'homephone'] = -data[data['homephone']==9999999999]['record']\n",
        "data.loc[data['dob']==19070626,'dob'] = -data[data['dob']==19070626]['record']"
      ],
      "execution_count": 0,
      "outputs": []
    },
    {
      "cell_type": "markdown",
      "metadata": {
        "id": "X8qBTZSULbUL",
        "colab_type": "text"
      },
      "source": [
        "Change \"date\" to datetime and all other fields to string"
      ]
    },
    {
      "cell_type": "code",
      "metadata": {
        "id": "Ne0NbDSgLfcJ",
        "colab_type": "code",
        "outputId": "60e27e13-49a0-4c12-dbf5-8adad7bed228",
        "colab": {
          "base_uri": "https://localhost:8080/",
          "height": 204
        }
      },
      "source": [
        "data.dtypes"
      ],
      "execution_count": 0,
      "outputs": [
        {
          "output_type": "execute_result",
          "data": {
            "text/plain": [
              "record          int64\n",
              "date            int64\n",
              "ssn             int64\n",
              "firstname      object\n",
              "lastname       object\n",
              "address        object\n",
              "zip5            int64\n",
              "dob             int64\n",
              "homephone       int64\n",
              "fraud_label     int64\n",
              "dtype: object"
            ]
          },
          "metadata": {
            "tags": []
          },
          "execution_count": 8
        }
      ]
    },
    {
      "cell_type": "code",
      "metadata": {
        "id": "PfQxstxzHwlh",
        "colab_type": "code",
        "colab": {}
      },
      "source": [
        "data['appyear'] = (data['date'] / 10000).astype('int')\n",
        "data['appmonth'] = ((data['date'] - data['appyear'] * 10000) / 100).astype('int')\n",
        "data['appday'] = data['date'] - data['appyear'] * 10000 - data['appmonth'] * 100\n",
        "data['date'] = pd.to_datetime(data.appyear*10000+data.appmonth*100+data.appday,format='%Y%m%d')\n",
        "data = data.drop(columns = ['appyear','appmonth','appday'])"
      ],
      "execution_count": 0,
      "outputs": []
    },
    {
      "cell_type": "code",
      "metadata": {
        "id": "6htWzj_4HwuF",
        "colab_type": "code",
        "colab": {}
      },
      "source": [
        "data['ssn'] = data['ssn'].astype(str)\n",
        "data['firstname'] = data['firstname'].astype(str)\n",
        "data['lastname'] = data['lastname'].astype(str)\n",
        "data['address'] = data['address'].astype(str)\n",
        "data['zip5'] = data['zip5'].astype(str)\n",
        "data['dob'] = data['dob'].astype(str)\n",
        "data['homephone'] = data['homephone'].astype(str)"
      ],
      "execution_count": 0,
      "outputs": []
    },
    {
      "cell_type": "code",
      "metadata": {
        "id": "cbJATE7jLkmt",
        "colab_type": "code",
        "outputId": "3fc6301e-9cac-48b6-e7d1-733fe6260215",
        "colab": {
          "base_uri": "https://localhost:8080/",
          "height": 204
        }
      },
      "source": [
        "data.head()"
      ],
      "execution_count": 0,
      "outputs": [
        {
          "output_type": "execute_result",
          "data": {
            "text/html": [
              "<div>\n",
              "<style scoped>\n",
              "    .dataframe tbody tr th:only-of-type {\n",
              "        vertical-align: middle;\n",
              "    }\n",
              "\n",
              "    .dataframe tbody tr th {\n",
              "        vertical-align: top;\n",
              "    }\n",
              "\n",
              "    .dataframe thead th {\n",
              "        text-align: right;\n",
              "    }\n",
              "</style>\n",
              "<table border=\"1\" class=\"dataframe\">\n",
              "  <thead>\n",
              "    <tr style=\"text-align: right;\">\n",
              "      <th></th>\n",
              "      <th>record</th>\n",
              "      <th>date</th>\n",
              "      <th>ssn</th>\n",
              "      <th>firstname</th>\n",
              "      <th>lastname</th>\n",
              "      <th>address</th>\n",
              "      <th>zip5</th>\n",
              "      <th>dob</th>\n",
              "      <th>homephone</th>\n",
              "      <th>fraud_label</th>\n",
              "    </tr>\n",
              "  </thead>\n",
              "  <tbody>\n",
              "    <tr>\n",
              "      <th>0</th>\n",
              "      <td>1</td>\n",
              "      <td>2016-01-01</td>\n",
              "      <td>379070012</td>\n",
              "      <td>XRRAMMTR</td>\n",
              "      <td>SMJETJMJ</td>\n",
              "      <td>6861 EUTST PL</td>\n",
              "      <td>2765</td>\n",
              "      <td>-1</td>\n",
              "      <td>1797504115</td>\n",
              "      <td>0</td>\n",
              "    </tr>\n",
              "    <tr>\n",
              "      <th>1</th>\n",
              "      <td>2</td>\n",
              "      <td>2016-01-01</td>\n",
              "      <td>387482503</td>\n",
              "      <td>MAMSTUJR</td>\n",
              "      <td>RTTEMRRR</td>\n",
              "      <td>7280 URASA PL</td>\n",
              "      <td>57169</td>\n",
              "      <td>19340615</td>\n",
              "      <td>4164239415</td>\n",
              "      <td>1</td>\n",
              "    </tr>\n",
              "    <tr>\n",
              "      <th>2</th>\n",
              "      <td>3</td>\n",
              "      <td>2016-01-01</td>\n",
              "      <td>200332444</td>\n",
              "      <td>SZMMUJEZS</td>\n",
              "      <td>EUSEZRAE</td>\n",
              "      <td>5581 RSREX LN</td>\n",
              "      <td>56721</td>\n",
              "      <td>-3</td>\n",
              "      <td>216537580</td>\n",
              "      <td>0</td>\n",
              "    </tr>\n",
              "    <tr>\n",
              "      <th>3</th>\n",
              "      <td>4</td>\n",
              "      <td>2016-01-01</td>\n",
              "      <td>747451317</td>\n",
              "      <td>SJJZSXRSZ</td>\n",
              "      <td>ETJXTXXS</td>\n",
              "      <td>1387 UJZXJ RD</td>\n",
              "      <td>35286</td>\n",
              "      <td>19440430</td>\n",
              "      <td>132144161</td>\n",
              "      <td>0</td>\n",
              "    </tr>\n",
              "    <tr>\n",
              "      <th>4</th>\n",
              "      <td>5</td>\n",
              "      <td>2016-01-01</td>\n",
              "      <td>24065868</td>\n",
              "      <td>SSSXUEJMS</td>\n",
              "      <td>SSUUJXUZ</td>\n",
              "      <td>279 EAASA WY</td>\n",
              "      <td>3173</td>\n",
              "      <td>19980315</td>\n",
              "      <td>6101082272</td>\n",
              "      <td>0</td>\n",
              "    </tr>\n",
              "  </tbody>\n",
              "</table>\n",
              "</div>"
            ],
            "text/plain": [
              "   record       date        ssn  ...       dob   homephone fraud_label\n",
              "0       1 2016-01-01  379070012  ...        -1  1797504115           0\n",
              "1       2 2016-01-01  387482503  ...  19340615  4164239415           1\n",
              "2       3 2016-01-01  200332444  ...        -3   216537580           0\n",
              "3       4 2016-01-01  747451317  ...  19440430   132144161           0\n",
              "4       5 2016-01-01   24065868  ...  19980315  6101082272           0\n",
              "\n",
              "[5 rows x 10 columns]"
            ]
          },
          "metadata": {
            "tags": []
          },
          "execution_count": 11
        }
      ]
    },
    {
      "cell_type": "code",
      "metadata": {
        "id": "DZhaZFMBLl1O",
        "colab_type": "code",
        "outputId": "75bb6d20-d665-4fc1-b4fe-2643df33d729",
        "colab": {
          "base_uri": "https://localhost:8080/",
          "height": 204
        }
      },
      "source": [
        "data.dtypes"
      ],
      "execution_count": 0,
      "outputs": [
        {
          "output_type": "execute_result",
          "data": {
            "text/plain": [
              "record                  int64\n",
              "date           datetime64[ns]\n",
              "ssn                    object\n",
              "firstname              object\n",
              "lastname               object\n",
              "address                object\n",
              "zip5                   object\n",
              "dob                    object\n",
              "homephone              object\n",
              "fraud_label             int64\n",
              "dtype: object"
            ]
          },
          "metadata": {
            "tags": []
          },
          "execution_count": 12
        }
      ]
    },
    {
      "cell_type": "markdown",
      "metadata": {
        "id": "OlPb1RAzLnSC",
        "colab_type": "text"
      },
      "source": [
        "Create combination fields"
      ]
    },
    {
      "cell_type": "code",
      "metadata": {
        "id": "xalCxr1OHwsV",
        "colab_type": "code",
        "colab": {}
      },
      "source": [
        "data['name'] = data['firstname']+data['lastname']\n",
        "data['fulladdress'] = data['address']+data['zip5']\n",
        "\n",
        "data['name-dob'] = data['name']+data['dob']\n",
        "data['name-fulladdress'] = data['name']+data['fulladdress']\n",
        "data['name-homephone'] = data['name']+data['homephone']\n",
        "data['dob-fulladdress'] = data['dob']+data['fulladdress']\n",
        "data['dob-homephone'] = data['dob']+data['homephone']\n",
        "data['fulladdress-homephone'] = data['fulladdress']+data['homephone']\n",
        "\n",
        "data['name-dob-fulladdress'] = data['name']+data['dob']+data['fulladdress']\n",
        "data['name-dob-homephone'] = data['name']+data['dob']+data['homephone']\n",
        "data['name-fulladdress-homephone'] = data['name']+data['fulladdress']+data['homephone']\n",
        "data['dob-fulladdress-homephone'] = data['dob']+data['fulladdress']+data['homephone']\n",
        "\n",
        "data['name-dob-fulladdress-homephone'] = data['name']+data['dob']+data['fulladdress']+data['homephone']\n",
        "\n",
        "for field in ['firstname','lastname','address','zip5','dob','homephone','name','fulladdress','name-dob']:\n",
        "    data['ssn-{}'.format(field)] = data['ssn']+data[field]"
      ],
      "execution_count": 0,
      "outputs": []
    },
    {
      "cell_type": "code",
      "metadata": {
        "id": "04VJXgndHwqw",
        "colab_type": "code",
        "outputId": "f1a1d34d-cb3c-48d6-b916-eded7035c1ac",
        "colab": {
          "base_uri": "https://localhost:8080/",
          "height": 34
        }
      },
      "source": [
        "attributes = list(data.columns)\n",
        "attributes.remove('fraud_label')\n",
        "attributes.remove('date')\n",
        "attributes.remove('firstname')\n",
        "attributes.remove('lastname')\n",
        "attributes.remove('zip5')\n",
        "attributes.remove('record')\n",
        "print(len(attributes))"
      ],
      "execution_count": 0,
      "outputs": [
        {
          "output_type": "stream",
          "text": [
            "26\n"
          ],
          "name": "stdout"
        }
      ]
    },
    {
      "cell_type": "code",
      "metadata": {
        "id": "uxUzC7bZkT_a",
        "colab_type": "code",
        "outputId": "8b048e6b-7d71-4500-eba6-c62ec476b6c5",
        "colab": {
          "base_uri": "https://localhost:8080/",
          "height": 459
        }
      },
      "source": [
        "attributes"
      ],
      "execution_count": 0,
      "outputs": [
        {
          "output_type": "execute_result",
          "data": {
            "text/plain": [
              "['ssn',\n",
              " 'address',\n",
              " 'dob',\n",
              " 'homephone',\n",
              " 'name',\n",
              " 'fulladdress',\n",
              " 'name-dob',\n",
              " 'name-fulladdress',\n",
              " 'name-homephone',\n",
              " 'dob-fulladdress',\n",
              " 'dob-homephone',\n",
              " 'fulladdress-homephone',\n",
              " 'name-dob-fulladdress',\n",
              " 'name-dob-homephone',\n",
              " 'name-fulladdress-homephone',\n",
              " 'dob-fulladdress-homephone',\n",
              " 'name-dob-fulladdress-homephone',\n",
              " 'ssn-firstname',\n",
              " 'ssn-lastname',\n",
              " 'ssn-address',\n",
              " 'ssn-zip5',\n",
              " 'ssn-dob',\n",
              " 'ssn-homephone',\n",
              " 'ssn-name',\n",
              " 'ssn-fulladdress',\n",
              " 'ssn-name-dob']"
            ]
          },
          "metadata": {
            "tags": []
          },
          "execution_count": 15
        }
      ]
    },
    {
      "cell_type": "markdown",
      "metadata": {
        "id": "0jnA6Ui5LuJv",
        "colab_type": "text"
      },
      "source": [
        "Build candidate variables"
      ]
    },
    {
      "cell_type": "code",
      "metadata": {
        "id": "j80Fp9VDHwon",
        "colab_type": "code",
        "colab": {}
      },
      "source": [
        "finalDF = data[['record','date']]\n",
        "\n",
        "for entity in attributes:\n",
        "  data1 = data[['record','date',entity]].copy()\n",
        "  data2 = data[['record','date',entity]].copy()\n",
        "  days = [0,1,3,7,14,30]\n",
        "\n",
        "  for day in days:\n",
        "    temp_name = '{}_day'.format(day)\n",
        "    data2[temp_name] = data2['date']+dt.timedelta(day)\n",
        "    \n",
        "  data3 = data1.merge(data2, on=entity)\n",
        "    \n",
        "# Day since the field value was last seen\n",
        "  temp = data3[(data3['record_x']>data3['record_y'])][['record_x','date_y']].groupby('record_x').last()['date_y'].reset_index()\n",
        "  temp.columns = ['record','last_seen']\n",
        "  data1 = data1.merge(temp, how='left', on='record')\n",
        "  data1['#_of_days_since'] = data1['date'] - data1['last_seen']\n",
        "  data1['#_of_days_since'] = data1['#_of_days_since'].dt.days\n",
        "  data1['#_of_days_since_start'] = (data1['date']-data1['date'].min()).dt.days\n",
        "  data1['#_of_days_since'] = data1['#_of_days_since'].fillna(data1['#_of_days_since_start'])\n",
        "  data1['#_of_days_since'] = data1['#_of_days_since'].apply(lambda x:min(x,60))\n",
        "\n",
        "  data1.drop(columns=['#_of_days_since_start','last_seen'], inplace=True)\n",
        "\n",
        "    \n",
        "# Velocity variables\n",
        "  for day in days:\n",
        "    temp = data3[(data3['record_x']>=data3['record_y'])&(data3['date_x']<=data3['{}_day'.format(day)])]\n",
        "    tempCount = temp[['record_x','record_y']].groupby('record_x').count().reset_index()\n",
        "    tempCount.columns = ['record','{}_day_count'.format(day)]\n",
        "    data1 = data1.merge(tempCount, left_on='record', right_on='record')\n",
        "\n",
        "# Relative velocity variables \n",
        "  for i in [3,7,14,30]:\n",
        "    temp_name = '1_day-{}_day_avg'.format(i)\n",
        "    data1[temp_name] = data1['1_day_count']/(data1['{}_day_count'.format(i)]/i)\n",
        "  \n",
        "  data1.drop(columns=['date',entity], inplace=True)\n",
        "  data1 = data1.set_index('record')\n",
        "  data1 = data1.add_prefix('{}_'.format(entity))\n",
        "  finalDF = finalDF.merge(data1, left_on='record',right_index=True)"
      ],
      "execution_count": 0,
      "outputs": []
    },
    {
      "cell_type": "code",
      "metadata": {
        "id": "HmAfBKGwYFO6",
        "colab_type": "code",
        "colab": {}
      },
      "source": [
        "# Cross entity variables \n",
        "for entity in ['ssn','dob','homephone','name','fulladdress']:\n",
        "  entity_list = ['ssn','dob','homephone','name','fulladdress']\n",
        "  entity_list.remove(entity)\n",
        "  for entity1 in entity_list:\n",
        "    data4 = data[['record','date',entity,entity1]].copy()\n",
        "    data5 = data[['record','date',entity,entity1]].copy()\n",
        "    days = [0,1,3,7,14,30]\n",
        "    \n",
        "    for day in days:\n",
        "      temp_name = '{}_day'.format(day)\n",
        "      data5[temp_name] = data5['date']+dt.timedelta(day)\n",
        "    \n",
        "    data6 = data4.merge(data5, on=entity)\n",
        "    \n",
        "    for day in days:\n",
        "      temp = data6[(data6['record_x']>=data6['record_y'])&(data6['date_x']<=data6['{}_day'.format(day)])]\n",
        "      tempCount = temp[['record_x','{}_y'.format(entity1)]].groupby(['record_x'])['{}_y'.format(entity1)].nunique().reset_index()\n",
        "      tempCount.columns = ['record','{}_day_cross_count'.format(day)]\n",
        "      data4 = data4.merge(tempCount, left_on='record',right_on='record')\n",
        "\n",
        "    data4.drop(columns=['date',entity,entity1],inplace=True) \n",
        "    data4 = data4.set_index('record')\n",
        "    data4 = data4.add_prefix('{}_{}_'.format(entity,entity1))\n",
        "    finalDF = finalDF.merge(data4, left_on='record', right_index=True)"
      ],
      "execution_count": 0,
      "outputs": []
    },
    {
      "cell_type": "markdown",
      "metadata": {
        "id": "sYW88mcYLxB5",
        "colab_type": "text"
      },
      "source": [
        "Create a risk table: likelyhood of fraud for that day of the week"
      ]
    },
    {
      "cell_type": "code",
      "metadata": {
        "id": "Z0sE8NDZq-hn",
        "colab_type": "code",
        "colab": {}
      },
      "source": [
        "finalDF['weekday'] = finalDF['date'].dt.dayofweek\n",
        "finalDF = finalDF.merge(data[['record','fraud_label']])\n",
        "tt = finalDF[finalDF.date<'2016-11-01'].copy()\n",
        "oot = finalDF[finalDF.date>='2016-11-01'].copy()\n",
        "c = 4\n",
        "nmid = 20\n",
        "y_avg = tt['fraud_label'].mean()\n",
        "y_weekday = tt.groupby('weekday')['fraud_label'].mean()\n",
        "num_instances_weekday = tt.groupby('weekday').size()\n",
        "y_weekday_smooth = y_avg + (y_weekday - y_avg) / (1 + np.exp(-(num_instances_weekday-nmid)/c))\n",
        "finalDF['weekday_risk'] = finalDF['weekday'].map(y_weekday_smooth)"
      ],
      "execution_count": 0,
      "outputs": []
    },
    {
      "cell_type": "code",
      "metadata": {
        "id": "EOFcz6ODlgpL",
        "colab_type": "code",
        "outputId": "3dbb08b6-1b6c-48b6-8261-1fa91afec364",
        "colab": {
          "base_uri": "https://localhost:8080/",
          "height": 136
        }
      },
      "source": [
        "for i in range(7):\n",
        "  print(finalDF[finalDF.weekday==i]['weekday_risk'].unique())"
      ],
      "execution_count": 0,
      "outputs": [
        {
          "output_type": "stream",
          "text": [
            "[0.01347979]\n",
            "[0.01407035]\n",
            "[0.01516916]\n",
            "[0.01498115]\n",
            "[0.01449888]\n",
            "[0.01496822]\n",
            "[0.01367351]\n"
          ],
          "name": "stdout"
        }
      ]
    },
    {
      "cell_type": "code",
      "metadata": {
        "id": "WXc7ihaXZzwN",
        "colab_type": "code",
        "outputId": "53c54928-ff11-47f8-aa8c-01f9ff281cb6",
        "colab": {
          "base_uri": "https://localhost:8080/",
          "height": 34
        }
      },
      "source": [
        "finalDF.shape"
      ],
      "execution_count": 0,
      "outputs": [
        {
          "output_type": "execute_result",
          "data": {
            "text/plain": [
              "(1000000, 411)"
            ]
          },
          "metadata": {
            "tags": []
          },
          "execution_count": 21
        }
      ]
    },
    {
      "cell_type": "code",
      "metadata": {
        "id": "T35TObIpZ05N",
        "colab_type": "code",
        "outputId": "af6da5ef-fb88-4145-940f-7886c72e7d34",
        "colab": {
          "base_uri": "https://localhost:8080/",
          "height": 419
        }
      },
      "source": [
        "finalDF.describe().transpose()"
      ],
      "execution_count": 0,
      "outputs": [
        {
          "output_type": "execute_result",
          "data": {
            "text/html": [
              "<div>\n",
              "<style scoped>\n",
              "    .dataframe tbody tr th:only-of-type {\n",
              "        vertical-align: middle;\n",
              "    }\n",
              "\n",
              "    .dataframe tbody tr th {\n",
              "        vertical-align: top;\n",
              "    }\n",
              "\n",
              "    .dataframe thead th {\n",
              "        text-align: right;\n",
              "    }\n",
              "</style>\n",
              "<table border=\"1\" class=\"dataframe\">\n",
              "  <thead>\n",
              "    <tr style=\"text-align: right;\">\n",
              "      <th></th>\n",
              "      <th>count</th>\n",
              "      <th>mean</th>\n",
              "      <th>std</th>\n",
              "      <th>min</th>\n",
              "      <th>25%</th>\n",
              "      <th>50%</th>\n",
              "      <th>75%</th>\n",
              "      <th>max</th>\n",
              "    </tr>\n",
              "  </thead>\n",
              "  <tbody>\n",
              "    <tr>\n",
              "      <th>record</th>\n",
              "      <td>1000000.0</td>\n",
              "      <td>500000.500000</td>\n",
              "      <td>288675.278932</td>\n",
              "      <td>1.00000</td>\n",
              "      <td>250000.750000</td>\n",
              "      <td>500000.500000</td>\n",
              "      <td>750000.250000</td>\n",
              "      <td>1000000.000000</td>\n",
              "    </tr>\n",
              "    <tr>\n",
              "      <th>ssn_#_of_days_since</th>\n",
              "      <td>1000000.0</td>\n",
              "      <td>53.310300</td>\n",
              "      <td>15.191059</td>\n",
              "      <td>0.00000</td>\n",
              "      <td>60.000000</td>\n",
              "      <td>60.000000</td>\n",
              "      <td>60.000000</td>\n",
              "      <td>60.000000</td>\n",
              "    </tr>\n",
              "    <tr>\n",
              "      <th>ssn_0_day_count</th>\n",
              "      <td>1000000.0</td>\n",
              "      <td>1.007305</td>\n",
              "      <td>0.223356</td>\n",
              "      <td>1.00000</td>\n",
              "      <td>1.000000</td>\n",
              "      <td>1.000000</td>\n",
              "      <td>1.000000</td>\n",
              "      <td>21.000000</td>\n",
              "    </tr>\n",
              "    <tr>\n",
              "      <th>ssn_1_day_count</th>\n",
              "      <td>1000000.0</td>\n",
              "      <td>1.014924</td>\n",
              "      <td>0.381210</td>\n",
              "      <td>1.00000</td>\n",
              "      <td>1.000000</td>\n",
              "      <td>1.000000</td>\n",
              "      <td>1.000000</td>\n",
              "      <td>34.000000</td>\n",
              "    </tr>\n",
              "    <tr>\n",
              "      <th>ssn_3_day_count</th>\n",
              "      <td>1000000.0</td>\n",
              "      <td>1.020140</td>\n",
              "      <td>0.423193</td>\n",
              "      <td>1.00000</td>\n",
              "      <td>1.000000</td>\n",
              "      <td>1.000000</td>\n",
              "      <td>1.000000</td>\n",
              "      <td>34.000000</td>\n",
              "    </tr>\n",
              "    <tr>\n",
              "      <th>...</th>\n",
              "      <td>...</td>\n",
              "      <td>...</td>\n",
              "      <td>...</td>\n",
              "      <td>...</td>\n",
              "      <td>...</td>\n",
              "      <td>...</td>\n",
              "      <td>...</td>\n",
              "      <td>...</td>\n",
              "    </tr>\n",
              "    <tr>\n",
              "      <th>fulladdress_name_14_day_cross_count</th>\n",
              "      <td>1000000.0</td>\n",
              "      <td>1.033946</td>\n",
              "      <td>0.594816</td>\n",
              "      <td>1.00000</td>\n",
              "      <td>1.000000</td>\n",
              "      <td>1.000000</td>\n",
              "      <td>1.000000</td>\n",
              "      <td>30.000000</td>\n",
              "    </tr>\n",
              "    <tr>\n",
              "      <th>fulladdress_name_30_day_cross_count</th>\n",
              "      <td>1000000.0</td>\n",
              "      <td>1.035916</td>\n",
              "      <td>0.607661</td>\n",
              "      <td>1.00000</td>\n",
              "      <td>1.000000</td>\n",
              "      <td>1.000000</td>\n",
              "      <td>1.000000</td>\n",
              "      <td>30.000000</td>\n",
              "    </tr>\n",
              "    <tr>\n",
              "      <th>weekday</th>\n",
              "      <td>1000000.0</td>\n",
              "      <td>3.014974</td>\n",
              "      <td>1.994270</td>\n",
              "      <td>0.00000</td>\n",
              "      <td>1.000000</td>\n",
              "      <td>3.000000</td>\n",
              "      <td>5.000000</td>\n",
              "      <td>6.000000</td>\n",
              "    </tr>\n",
              "    <tr>\n",
              "      <th>fraud_label</th>\n",
              "      <td>1000000.0</td>\n",
              "      <td>0.014393</td>\n",
              "      <td>0.119104</td>\n",
              "      <td>0.00000</td>\n",
              "      <td>0.000000</td>\n",
              "      <td>0.000000</td>\n",
              "      <td>0.000000</td>\n",
              "      <td>1.000000</td>\n",
              "    </tr>\n",
              "    <tr>\n",
              "      <th>weekday_risk</th>\n",
              "      <td>1000000.0</td>\n",
              "      <td>0.014410</td>\n",
              "      <td>0.000624</td>\n",
              "      <td>0.01348</td>\n",
              "      <td>0.013674</td>\n",
              "      <td>0.014499</td>\n",
              "      <td>0.014981</td>\n",
              "      <td>0.015169</td>\n",
              "    </tr>\n",
              "  </tbody>\n",
              "</table>\n",
              "<p>410 rows × 8 columns</p>\n",
              "</div>"
            ],
            "text/plain": [
              "                                         count  ...             max\n",
              "record                               1000000.0  ...  1000000.000000\n",
              "ssn_#_of_days_since                  1000000.0  ...       60.000000\n",
              "ssn_0_day_count                      1000000.0  ...       21.000000\n",
              "ssn_1_day_count                      1000000.0  ...       34.000000\n",
              "ssn_3_day_count                      1000000.0  ...       34.000000\n",
              "...                                        ...  ...             ...\n",
              "fulladdress_name_14_day_cross_count  1000000.0  ...       30.000000\n",
              "fulladdress_name_30_day_cross_count  1000000.0  ...       30.000000\n",
              "weekday                              1000000.0  ...        6.000000\n",
              "fraud_label                          1000000.0  ...        1.000000\n",
              "weekday_risk                         1000000.0  ...        0.015169\n",
              "\n",
              "[410 rows x 8 columns]"
            ]
          },
          "metadata": {
            "tags": []
          },
          "execution_count": 22
        }
      ]
    },
    {
      "cell_type": "code",
      "metadata": {
        "id": "NgKH5OFeeCXU",
        "colab_type": "code",
        "colab": {}
      },
      "source": [
        "from google.colab import files\n",
        "finalDF.describe().transpose().to_csv('variable.csv') "
      ],
      "execution_count": 0,
      "outputs": []
    },
    {
      "cell_type": "code",
      "metadata": {
        "id": "2CY_45WfOSaG",
        "colab_type": "code",
        "colab": {}
      },
      "source": [
        "from google.colab import files\n",
        "finalDF.to_csv('finalDF.csv')"
      ],
      "execution_count": 0,
      "outputs": []
    }
  ]
}