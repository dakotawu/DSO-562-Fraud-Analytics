{
  "nbformat": 4,
  "nbformat_minor": 0,
  "metadata": {
    "colab": {
      "name": "Fraud Analytics_Project 2_Feature Selection_Dakota Wu.ipynb",
      "provenance": [],
      "machine_shape": "hm"
    },
    "kernelspec": {
      "name": "python3",
      "display_name": "Python 3"
    }
  },
  "cells": [
    {
      "cell_type": "code",
      "metadata": {
        "id": "gkjFdJ700sM4",
        "colab_type": "code",
        "colab": {}
      },
      "source": [
        "import pandas as pd\n",
        "import numpy as np\n",
        "import matplotlib.pyplot as plt\n",
        "import datetime as dt\n",
        "import scipy.stats as sps\n",
        "from sklearn.preprocessing import StandardScaler\n",
        "from scipy.stats import norm\n",
        "from sklearn.linear_model import LogisticRegression\n",
        "from sklearn.feature_selection import RFECV"
      ],
      "execution_count": 0,
      "outputs": []
    },
    {
      "cell_type": "markdown",
      "metadata": {
        "id": "_gBXeJZ1_E3L",
        "colab_type": "text"
      },
      "source": [
        "#### Load dataset from google drive to google colab"
      ]
    },
    {
      "cell_type": "code",
      "metadata": {
        "id": "6V6hCU3yFbxy",
        "colab_type": "code",
        "colab": {}
      },
      "source": [
        "# Code to read csv file into Colaboratory:\n",
        "!pip install -U -q PyDrive\n",
        "from pydrive.auth import GoogleAuth\n",
        "from pydrive.drive import GoogleDrive\n",
        "from google.colab import auth\n",
        "from oauth2client.client import GoogleCredentials\n",
        "# Authenticate and create the PyDrive client.\n",
        "auth.authenticate_user()\n",
        "gauth = GoogleAuth()\n",
        "gauth.credentials = GoogleCredentials.get_application_default()\n",
        "drive = GoogleDrive(gauth)"
      ],
      "execution_count": 0,
      "outputs": []
    },
    {
      "cell_type": "code",
      "metadata": {
        "id": "jovTC62LFdmv",
        "colab_type": "code",
        "outputId": "b2f728e4-50a6-481a-8159-70f44eba0373",
        "colab": {
          "base_uri": "https://localhost:8080/",
          "height": 34
        }
      },
      "source": [
        "link = 'https://drive.google.com/open?id=1Vkxc1mZ2WPg4zYcPzB-ZMMhoI7V-dbXd'\n",
        "fluff, id = link.split('=')\n",
        "print (id) # Verify that you have everything after '='"
      ],
      "execution_count": 4,
      "outputs": [
        {
          "output_type": "stream",
          "text": [
            "1Vkxc1mZ2WPg4zYcPzB-ZMMhoI7V-dbXd\n"
          ],
          "name": "stdout"
        }
      ]
    },
    {
      "cell_type": "code",
      "metadata": {
        "id": "m1CfzJ7N-p9y",
        "colab_type": "code",
        "colab": {}
      },
      "source": [
        "downloaded = drive.CreateFile({'id':id}) \n",
        "downloaded.GetContentFile('forselection.csv')  \n",
        "finalDF = pd.read_csv('forselection.csv')\n",
        "# Dataset is now stored in a Pandas Dataframe"
      ],
      "execution_count": 0,
      "outputs": []
    },
    {
      "cell_type": "code",
      "metadata": {
        "id": "GQ2I-x5FSn4K",
        "colab_type": "code",
        "outputId": "40abf56f-2841-4271-fdaf-787249de636b",
        "colab": {
          "base_uri": "https://localhost:8080/",
          "height": 34
        }
      },
      "source": [
        "finalDF.shape"
      ],
      "execution_count": 6,
      "outputs": [
        {
          "output_type": "execute_result",
          "data": {
            "text/plain": [
              "(1000000, 409)"
            ]
          },
          "metadata": {
            "tags": []
          },
          "execution_count": 6
        }
      ]
    },
    {
      "cell_type": "markdown",
      "metadata": {
        "id": "gc9RR8t6Bhfx",
        "colab_type": "text"
      },
      "source": [
        "**Feature Selection**"
      ]
    },
    {
      "cell_type": "code",
      "metadata": {
        "id": "jggx2GG0qvET",
        "colab_type": "code",
        "colab": {}
      },
      "source": [
        "# Remove data from the first two weeks in 2016\n",
        "cand_var = finalDF[finalDF.date>'2016-01-14'].copy()\n",
        "\n",
        "# Remove non-variable columns \n",
        "cand_var.drop(columns=['date','fraud_label'],inplace=True)\n",
        "\n",
        "# Z-scale variables, except record, weekday, weekday_risk\n",
        "scaler = StandardScaler()\n",
        "cand_scaled = scaler.fit_transform(cand_var)\n",
        "cand_scaled = pd.DataFrame(cand_scaled)\n",
        "cand_scaled.columns = cand_var.columns\n",
        "cand_scaled['date'] = finalDF[finalDF.date>'2016-01-14']['date'].values\n",
        "cand_scaled['fraud_label'] = finalDF[finalDF.date>'2016-01-14']['fraud_label'].values\n",
        "\n",
        "# Add a random variable ~ N(0,1)\n",
        "dist = norm(0,1)\n",
        "cand_scaled['rand'] = dist.rvs(size=cand_var.shape[0])\n",
        "\n",
        "# Set the data from the last two months in 2016 as out of time (OOT) data\n",
        "cs_tt = cand_scaled[cand_scaled.date<'2016-11-01'].copy()\n",
        "cs_oot = cand_scaled[cand_scaled.date>='2016-11-01'].copy()"
      ],
      "execution_count": 0,
      "outputs": []
    },
    {
      "cell_type": "code",
      "metadata": {
        "id": "Y6_v7vn6EcTG",
        "colab_type": "code",
        "outputId": "a6bad2cf-569d-4253-fd29-acfb17d469aa",
        "colab": {
          "base_uri": "https://localhost:8080/",
          "height": 50
        }
      },
      "source": [
        "print(f'cs_tt.shape: {cs_tt.shape}')\n",
        "print(f'cs_oot.shape: {cs_oot.shape}')"
      ],
      "execution_count": 8,
      "outputs": [
        {
          "output_type": "stream",
          "text": [
            "cs_tt.shape: (794996, 410)\n",
            "cs_oot.shape: (166493, 410)\n"
          ],
          "name": "stdout"
        }
      ]
    },
    {
      "cell_type": "markdown",
      "metadata": {
        "id": "7jbvZXszBqK8",
        "colab_type": "text"
      },
      "source": [
        "Filter"
      ]
    },
    {
      "cell_type": "code",
      "metadata": {
        "id": "bJ1cEs2zBntA",
        "colab_type": "code",
        "outputId": "74ec2695-93c9-45d8-c406-e00a94a09fa7",
        "colab": {
          "base_uri": "https://localhost:8080/",
          "height": 101
        }
      },
      "source": [
        "# KS\n",
        "goods = cs_tt[cs_tt['fraud_label']==0].copy()\n",
        "bads = cs_tt[cs_tt['fraud_label']==1].copy()\n",
        "column_list = list(cs_tt.columns)\n",
        "column_list.remove('date')\n",
        "KSFDR = pd.DataFrame()\n",
        "for var in column_list:\n",
        "  KSFDR.loc[var,'ks'] = sps.ks_2samp(goods[var],bads[var])[0]\n",
        "\n",
        "# FDR at 3%\n",
        "topRows = int(round(len(cs_tt)*0.03))\n",
        "numbads = bads.shape[0]\n",
        "for var in column_list:\n",
        "  temp = cs_tt[[var,'fraud_label']]\n",
        "  temp.columns = [var,'fraud_label1']\n",
        "  temp.sort_values(var,ascending=True,inplace=True)\n",
        "  temp1 = temp.head(topRows)\n",
        "  temp2 = temp.tail(topRows)\n",
        "  needed1 = temp1.iloc[:,1]\n",
        "  needed2 = temp2.iloc[:,1]\n",
        "  FDR1 = sum(needed1)/numbads\n",
        "  FDR2 = sum(needed2)/numbads\n",
        "  FDRate = np.maximum(FDR1,FDR2)\n",
        "  KSFDR.loc[var,'FDR'] = FDRate\n",
        "\n",
        "# Calculate the average rank of KS and FDR \n",
        "KSFDR['rank_ks'] = KSFDR['ks'].rank(ascending=True)\n",
        "KSFDR['rank_FDR'] = KSFDR['FDR'].rank(ascending=True)\n",
        "KSFDR['avg_rank'] = (KSFDR['rank_ks']+KSFDR['rank_FDR'])/2\n",
        "KSFDR.sort_values(by=['avg_rank'],ascending=False,inplace=True)"
      ],
      "execution_count": 9,
      "outputs": [
        {
          "output_type": "stream",
          "text": [
            "/usr/local/lib/python3.6/dist-packages/ipykernel_launcher.py:15: SettingWithCopyWarning: \n",
            "A value is trying to be set on a copy of a slice from a DataFrame\n",
            "\n",
            "See the caveats in the documentation: http://pandas.pydata.org/pandas-docs/stable/user_guide/indexing.html#returning-a-view-versus-a-copy\n",
            "  from ipykernel import kernelapp as app\n"
          ],
          "name": "stderr"
        }
      ]
    },
    {
      "cell_type": "code",
      "metadata": {
        "id": "_S0r3-sefjnQ",
        "colab_type": "code",
        "colab": {}
      },
      "source": [
        "KSFDR.reset_index(inplace=True)"
      ],
      "execution_count": 0,
      "outputs": []
    },
    {
      "cell_type": "code",
      "metadata": {
        "id": "-hOZGlUVoImo",
        "colab_type": "code",
        "outputId": "babb94b2-d2c1-4799-bd4f-95becee551c9",
        "colab": {
          "base_uri": "https://localhost:8080/",
          "height": 195
        }
      },
      "source": [
        "KSFDR.head()"
      ],
      "execution_count": 11,
      "outputs": [
        {
          "output_type": "execute_result",
          "data": {
            "text/html": [
              "<div>\n",
              "<style scoped>\n",
              "    .dataframe tbody tr th:only-of-type {\n",
              "        vertical-align: middle;\n",
              "    }\n",
              "\n",
              "    .dataframe tbody tr th {\n",
              "        vertical-align: top;\n",
              "    }\n",
              "\n",
              "    .dataframe thead th {\n",
              "        text-align: right;\n",
              "    }\n",
              "</style>\n",
              "<table border=\"1\" class=\"dataframe\">\n",
              "  <thead>\n",
              "    <tr style=\"text-align: right;\">\n",
              "      <th></th>\n",
              "      <th>index</th>\n",
              "      <th>ks</th>\n",
              "      <th>FDR</th>\n",
              "      <th>rank_ks</th>\n",
              "      <th>rank_FDR</th>\n",
              "      <th>avg_rank</th>\n",
              "    </tr>\n",
              "  </thead>\n",
              "  <tbody>\n",
              "    <tr>\n",
              "      <th>0</th>\n",
              "      <td>fraud_label</td>\n",
              "      <td>1.000000</td>\n",
              "      <td>1.000000</td>\n",
              "      <td>409.0</td>\n",
              "      <td>409.0</td>\n",
              "      <td>409.0</td>\n",
              "    </tr>\n",
              "    <tr>\n",
              "      <th>1</th>\n",
              "      <td>addr_lag30_count</td>\n",
              "      <td>0.332032</td>\n",
              "      <td>0.356260</td>\n",
              "      <td>407.0</td>\n",
              "      <td>408.0</td>\n",
              "      <td>407.5</td>\n",
              "    </tr>\n",
              "    <tr>\n",
              "      <th>2</th>\n",
              "      <td>address_lag30_count</td>\n",
              "      <td>0.332725</td>\n",
              "      <td>0.353561</td>\n",
              "      <td>408.0</td>\n",
              "      <td>407.0</td>\n",
              "      <td>407.5</td>\n",
              "    </tr>\n",
              "    <tr>\n",
              "      <th>3</th>\n",
              "      <td>address_#days_since</td>\n",
              "      <td>0.324627</td>\n",
              "      <td>0.346944</td>\n",
              "      <td>406.0</td>\n",
              "      <td>405.0</td>\n",
              "      <td>405.5</td>\n",
              "    </tr>\n",
              "    <tr>\n",
              "      <th>4</th>\n",
              "      <td>addr_#days_since</td>\n",
              "      <td>0.323543</td>\n",
              "      <td>0.348424</td>\n",
              "      <td>405.0</td>\n",
              "      <td>406.0</td>\n",
              "      <td>405.5</td>\n",
              "    </tr>\n",
              "  </tbody>\n",
              "</table>\n",
              "</div>"
            ],
            "text/plain": [
              "                 index        ks       FDR  rank_ks  rank_FDR  avg_rank\n",
              "0          fraud_label  1.000000  1.000000    409.0     409.0     409.0\n",
              "1     addr_lag30_count  0.332032  0.356260    407.0     408.0     407.5\n",
              "2  address_lag30_count  0.332725  0.353561    408.0     407.0     407.5\n",
              "3  address_#days_since  0.324627  0.346944    406.0     405.0     405.5\n",
              "4     addr_#days_since  0.323543  0.348424    405.0     406.0     405.5"
            ]
          },
          "metadata": {
            "tags": []
          },
          "execution_count": 11
        }
      ]
    },
    {
      "cell_type": "code",
      "metadata": {
        "id": "XwT_BTAgNb5a",
        "colab_type": "code",
        "outputId": "4a54f9c1-c020-4091-8968-6fe841180a75",
        "colab": {
          "base_uri": "https://localhost:8080/",
          "height": 134
        }
      },
      "source": [
        "KSFDR.sum()"
      ],
      "execution_count": 12,
      "outputs": [
        {
          "output_type": "execute_result",
          "data": {
            "text/plain": [
              "index       fraud_labeladdr_lag30_countaddress_lag30_count...\n",
              "ks                                                    44.7088\n",
              "FDR                                                   53.6443\n",
              "rank_ks                                                 83845\n",
              "rank_FDR                                                83845\n",
              "avg_rank                                                83845\n",
              "dtype: object"
            ]
          },
          "metadata": {
            "tags": []
          },
          "execution_count": 12
        }
      ]
    },
    {
      "cell_type": "code",
      "metadata": {
        "id": "sfxHT_Rz9riW",
        "colab_type": "code",
        "outputId": "6486cc03-cbd4-4883-f90c-acdd73c4008c",
        "colab": {
          "base_uri": "https://localhost:8080/",
          "height": 34
        }
      },
      "source": [
        "KSFDR.shape"
      ],
      "execution_count": 13,
      "outputs": [
        {
          "output_type": "execute_result",
          "data": {
            "text/plain": [
              "(409, 6)"
            ]
          },
          "metadata": {
            "tags": []
          },
          "execution_count": 13
        }
      ]
    },
    {
      "cell_type": "code",
      "metadata": {
        "id": "BrmC2mMVembX",
        "colab_type": "code",
        "colab": {}
      },
      "source": [
        "from google.colab import files\n",
        "KSFDR.to_csv('KSFDR.csv')\n",
        "files.download('KSFDR.csv')"
      ],
      "execution_count": 0,
      "outputs": []
    },
    {
      "cell_type": "markdown",
      "metadata": {
        "id": "YRpV6qH2gjXa",
        "colab_type": "text"
      },
      "source": [
        "Wrapper"
      ]
    },
    {
      "cell_type": "code",
      "metadata": {
        "id": "A8aCV7SAAzhY",
        "colab_type": "code",
        "outputId": "7b0c8283-beca-432e-b1ee-2124cd7be832",
        "colab": {
          "base_uri": "https://localhost:8080/",
          "height": 34
        }
      },
      "source": [
        "# Pick top 80 variables, besides fraud_label, and feed them into wrapper \n",
        "var_list = KSFDR.iloc[:81,0]\n",
        "print(len(var_list))"
      ],
      "execution_count": 15,
      "outputs": [
        {
          "output_type": "stream",
          "text": [
            "81\n"
          ],
          "name": "stdout"
        }
      ]
    },
    {
      "cell_type": "code",
      "metadata": {
        "id": "c_sgJBsmCM50",
        "colab_type": "code",
        "outputId": "3c3e36db-401f-4795-e02b-cc46ed7a9f9b",
        "colab": {
          "base_uri": "https://localhost:8080/",
          "height": 218
        }
      },
      "source": [
        "var_list"
      ],
      "execution_count": 16,
      "outputs": [
        {
          "output_type": "execute_result",
          "data": {
            "text/plain": [
              "0                         fraud_label\n",
              "1                    addr_lag30_count\n",
              "2                 address_lag30_count\n",
              "3                 address_#days_since\n",
              "4                    addr_#days_since\n",
              "                   ...               \n",
              "76    homephone_cross_name_lag7_count\n",
              "77          addr_cross_ssn_lag0_count\n",
              "78              homephone_lag14_count\n",
              "79          addr_cross_dob_lag0_count\n",
              "80     homephone_cross_dob_lag7_count\n",
              "Name: index, Length: 81, dtype: object"
            ]
          },
          "metadata": {
            "tags": []
          },
          "execution_count": 16
        }
      ]
    },
    {
      "cell_type": "code",
      "metadata": {
        "id": "MKQVrTx2ff9-",
        "colab_type": "code",
        "colab": {}
      },
      "source": [
        "cand_var1 = cs_tt.loc[:,var_list]"
      ],
      "execution_count": 0,
      "outputs": []
    },
    {
      "cell_type": "code",
      "metadata": {
        "id": "miJIH88OsWhu",
        "colab_type": "code",
        "outputId": "28d25603-78ba-4d6a-9c33-d0e728dad0ef",
        "colab": {
          "base_uri": "https://localhost:8080/",
          "height": 261
        }
      },
      "source": [
        "cand_var1.head()"
      ],
      "execution_count": 18,
      "outputs": [
        {
          "output_type": "execute_result",
          "data": {
            "text/html": [
              "<div>\n",
              "<style scoped>\n",
              "    .dataframe tbody tr th:only-of-type {\n",
              "        vertical-align: middle;\n",
              "    }\n",
              "\n",
              "    .dataframe tbody tr th {\n",
              "        vertical-align: top;\n",
              "    }\n",
              "\n",
              "    .dataframe thead th {\n",
              "        text-align: right;\n",
              "    }\n",
              "</style>\n",
              "<table border=\"1\" class=\"dataframe\">\n",
              "  <thead>\n",
              "    <tr style=\"text-align: right;\">\n",
              "      <th></th>\n",
              "      <th>fraud_label</th>\n",
              "      <th>addr_lag30_count</th>\n",
              "      <th>address_lag30_count</th>\n",
              "      <th>address_#days_since</th>\n",
              "      <th>addr_#days_since</th>\n",
              "      <th>address_lag14_count</th>\n",
              "      <th>addr_lag14_count</th>\n",
              "      <th>address_lag7_count</th>\n",
              "      <th>addr_lag7_count</th>\n",
              "      <th>addr_cross_ssn_lag30_count</th>\n",
              "      <th>addr_cross_dob_lag30_count</th>\n",
              "      <th>addr_cross_name_lag30_count</th>\n",
              "      <th>address_lag3_count</th>\n",
              "      <th>addr_lag3_count</th>\n",
              "      <th>addr_cross_ssn_lag14_count</th>\n",
              "      <th>addr_cross_dob_lag14_count</th>\n",
              "      <th>addr_cross_name_lag14_count</th>\n",
              "      <th>addr_cross_ssn_lag7_count</th>\n",
              "      <th>addr_cross_dob_lag7_count</th>\n",
              "      <th>addr_cross_name_lag7_count</th>\n",
              "      <th>addr_cross_ssn_lag3_count</th>\n",
              "      <th>addr_cross_dob_lag3_count</th>\n",
              "      <th>addr_cross_name_lag3_count</th>\n",
              "      <th>address_lag1_count</th>\n",
              "      <th>addr_lag1_count</th>\n",
              "      <th>addr_cross_dob_lag1_count</th>\n",
              "      <th>addr_cross_ssn_lag1_count</th>\n",
              "      <th>addr_cross_name_lag1_count</th>\n",
              "      <th>addr-homephone_lag30_count</th>\n",
              "      <th>ssn-dob_lag30_count</th>\n",
              "      <th>name-dob_lag30_count</th>\n",
              "      <th>ssn_lag30_count</th>\n",
              "      <th>ssn-name-dob_lag30_count</th>\n",
              "      <th>ssn-firstname_lag30_count</th>\n",
              "      <th>ssn-lastname_lag30_count</th>\n",
              "      <th>addr-homephone_#days_since</th>\n",
              "      <th>ssn-name_lag30_count</th>\n",
              "      <th>ssn-dob_#days_since</th>\n",
              "      <th>name-dob_#days_since</th>\n",
              "      <th>ssn_#days_since</th>\n",
              "      <th>...</th>\n",
              "      <th>ssn-firstname_#days_since</th>\n",
              "      <th>ssn-lastname_#days_since</th>\n",
              "      <th>ssn-name-dob_#days_since</th>\n",
              "      <th>ssn-name_#days_since</th>\n",
              "      <th>ssn-dob_lag14_count</th>\n",
              "      <th>name-dob_lag14_count</th>\n",
              "      <th>name_lag30_count</th>\n",
              "      <th>ssn_lag14_count</th>\n",
              "      <th>ssn-firstname_lag14_count</th>\n",
              "      <th>ssn-lastname_lag14_count</th>\n",
              "      <th>ssn-name-dob_lag14_count</th>\n",
              "      <th>ssn-name_lag14_count</th>\n",
              "      <th>address_lag1_lag14_avg</th>\n",
              "      <th>addr_lag1_lag14_avg</th>\n",
              "      <th>addr-homephone_lag7_count</th>\n",
              "      <th>ssn-dob_lag7_count</th>\n",
              "      <th>name-dob_lag7_count</th>\n",
              "      <th>name_lag14_count</th>\n",
              "      <th>name_#days_since</th>\n",
              "      <th>ssn_lag7_count</th>\n",
              "      <th>ssn-firstname_lag7_count</th>\n",
              "      <th>ssn-lastname_lag7_count</th>\n",
              "      <th>ssn-name-dob_lag7_count</th>\n",
              "      <th>homephone_lag7_count</th>\n",
              "      <th>ssn-name_lag7_count</th>\n",
              "      <th>homephone_lag3_count</th>\n",
              "      <th>name_lag7_count</th>\n",
              "      <th>addr_lag0_count</th>\n",
              "      <th>address_lag0_count</th>\n",
              "      <th>address_lag1_lag7_avg</th>\n",
              "      <th>addr_lag1_lag7_avg</th>\n",
              "      <th>homephone_cross_name_lag3_count</th>\n",
              "      <th>homephone_cross_dob_lag3_count</th>\n",
              "      <th>homephone_cross_ssn_lag3_count</th>\n",
              "      <th>homephone_cross_ssn_lag7_count</th>\n",
              "      <th>homephone_cross_name_lag7_count</th>\n",
              "      <th>addr_cross_ssn_lag0_count</th>\n",
              "      <th>homephone_lag14_count</th>\n",
              "      <th>addr_cross_dob_lag0_count</th>\n",
              "      <th>homephone_cross_dob_lag7_count</th>\n",
              "    </tr>\n",
              "  </thead>\n",
              "  <tbody>\n",
              "    <tr>\n",
              "      <th>0</th>\n",
              "      <td>0</td>\n",
              "      <td>-0.103392</td>\n",
              "      <td>-0.119479</td>\n",
              "      <td>-3.12175</td>\n",
              "      <td>-3.297394</td>\n",
              "      <td>-0.089339</td>\n",
              "      <td>-0.079681</td>\n",
              "      <td>-0.073005</td>\n",
              "      <td>-0.067413</td>\n",
              "      <td>-0.059959</td>\n",
              "      <td>-0.06373</td>\n",
              "      <td>-0.059449</td>\n",
              "      <td>-0.061071</td>\n",
              "      <td>-0.058171</td>\n",
              "      <td>-0.057594</td>\n",
              "      <td>-0.059435</td>\n",
              "      <td>-0.057341</td>\n",
              "      <td>-0.055401</td>\n",
              "      <td>-0.056409</td>\n",
              "      <td>-0.055279</td>\n",
              "      <td>-0.052073</td>\n",
              "      <td>-0.052572</td>\n",
              "      <td>-0.052004</td>\n",
              "      <td>-0.051332</td>\n",
              "      <td>-0.049913</td>\n",
              "      <td>-0.047263</td>\n",
              "      <td>-0.047001</td>\n",
              "      <td>-0.046972</td>\n",
              "      <td>-0.096485</td>\n",
              "      <td>-0.09434</td>\n",
              "      <td>-0.094632</td>\n",
              "      <td>-0.100589</td>\n",
              "      <td>-0.094045</td>\n",
              "      <td>-0.099596</td>\n",
              "      <td>-0.099584</td>\n",
              "      <td>-3.440186</td>\n",
              "      <td>-0.099366</td>\n",
              "      <td>-3.474994</td>\n",
              "      <td>-3.472009</td>\n",
              "      <td>-3.387672</td>\n",
              "      <td>...</td>\n",
              "      <td>-3.402883</td>\n",
              "      <td>-3.403171</td>\n",
              "      <td>-3.478744</td>\n",
              "      <td>-3.405827</td>\n",
              "      <td>-0.068978</td>\n",
              "      <td>-0.069169</td>\n",
              "      <td>-0.214489</td>\n",
              "      <td>-0.073065</td>\n",
              "      <td>-0.071707</td>\n",
              "      <td>-0.07167</td>\n",
              "      <td>-0.068841</td>\n",
              "      <td>-0.071577</td>\n",
              "      <td>0.141748</td>\n",
              "      <td>0.125036</td>\n",
              "      <td>-0.057764</td>\n",
              "      <td>-0.055921</td>\n",
              "      <td>-0.056016</td>\n",
              "      <td>-0.16128</td>\n",
              "      <td>-2.317632</td>\n",
              "      <td>-0.05834</td>\n",
              "      <td>-0.05741</td>\n",
              "      <td>-0.05738</td>\n",
              "      <td>-0.055845</td>\n",
              "      <td>0.868729</td>\n",
              "      <td>-0.057333</td>\n",
              "      <td>-0.522752</td>\n",
              "      <td>-0.116481</td>\n",
              "      <td>-0.041659</td>\n",
              "      <td>-0.042473</td>\n",
              "      <td>0.10402</td>\n",
              "      <td>0.091913</td>\n",
              "      <td>-0.520099</td>\n",
              "      <td>-0.520220</td>\n",
              "      <td>-0.520117</td>\n",
              "      <td>0.883647</td>\n",
              "      <td>0.883729</td>\n",
              "      <td>-0.039958</td>\n",
              "      <td>0.685816</td>\n",
              "      <td>-0.040079</td>\n",
              "      <td>0.882873</td>\n",
              "    </tr>\n",
              "    <tr>\n",
              "      <th>1</th>\n",
              "      <td>0</td>\n",
              "      <td>-0.103392</td>\n",
              "      <td>-0.119479</td>\n",
              "      <td>-3.12175</td>\n",
              "      <td>-3.297394</td>\n",
              "      <td>-0.089339</td>\n",
              "      <td>-0.079681</td>\n",
              "      <td>-0.073005</td>\n",
              "      <td>-0.067413</td>\n",
              "      <td>-0.059959</td>\n",
              "      <td>-0.06373</td>\n",
              "      <td>-0.059449</td>\n",
              "      <td>-0.061071</td>\n",
              "      <td>-0.058171</td>\n",
              "      <td>-0.057594</td>\n",
              "      <td>-0.059435</td>\n",
              "      <td>-0.057341</td>\n",
              "      <td>-0.055401</td>\n",
              "      <td>-0.056409</td>\n",
              "      <td>-0.055279</td>\n",
              "      <td>-0.052073</td>\n",
              "      <td>-0.052572</td>\n",
              "      <td>-0.052004</td>\n",
              "      <td>-0.051332</td>\n",
              "      <td>-0.049913</td>\n",
              "      <td>-0.047263</td>\n",
              "      <td>-0.047001</td>\n",
              "      <td>-0.046972</td>\n",
              "      <td>-0.096485</td>\n",
              "      <td>-0.09434</td>\n",
              "      <td>-0.094632</td>\n",
              "      <td>-0.100589</td>\n",
              "      <td>-0.094045</td>\n",
              "      <td>-0.099596</td>\n",
              "      <td>-0.099584</td>\n",
              "      <td>-3.440186</td>\n",
              "      <td>-0.099366</td>\n",
              "      <td>-3.474994</td>\n",
              "      <td>-3.472009</td>\n",
              "      <td>-3.387672</td>\n",
              "      <td>...</td>\n",
              "      <td>-3.402883</td>\n",
              "      <td>-3.403171</td>\n",
              "      <td>-3.478744</td>\n",
              "      <td>-3.405827</td>\n",
              "      <td>-0.068978</td>\n",
              "      <td>-0.069169</td>\n",
              "      <td>-0.214489</td>\n",
              "      <td>-0.073065</td>\n",
              "      <td>-0.071707</td>\n",
              "      <td>-0.07167</td>\n",
              "      <td>-0.068841</td>\n",
              "      <td>-0.071577</td>\n",
              "      <td>0.141748</td>\n",
              "      <td>0.125036</td>\n",
              "      <td>-0.057764</td>\n",
              "      <td>-0.055921</td>\n",
              "      <td>-0.056016</td>\n",
              "      <td>-0.16128</td>\n",
              "      <td>-2.317632</td>\n",
              "      <td>-0.05834</td>\n",
              "      <td>-0.05741</td>\n",
              "      <td>-0.05738</td>\n",
              "      <td>-0.055845</td>\n",
              "      <td>0.868729</td>\n",
              "      <td>-0.057333</td>\n",
              "      <td>0.635343</td>\n",
              "      <td>-0.116481</td>\n",
              "      <td>-0.041659</td>\n",
              "      <td>-0.042473</td>\n",
              "      <td>0.10402</td>\n",
              "      <td>0.091913</td>\n",
              "      <td>0.642805</td>\n",
              "      <td>0.642402</td>\n",
              "      <td>0.642775</td>\n",
              "      <td>0.883647</td>\n",
              "      <td>0.883729</td>\n",
              "      <td>-0.039958</td>\n",
              "      <td>1.828095</td>\n",
              "      <td>-0.040079</td>\n",
              "      <td>0.882873</td>\n",
              "    </tr>\n",
              "    <tr>\n",
              "      <th>2</th>\n",
              "      <td>0</td>\n",
              "      <td>-0.103392</td>\n",
              "      <td>-0.119479</td>\n",
              "      <td>-3.12175</td>\n",
              "      <td>-3.297394</td>\n",
              "      <td>-0.089339</td>\n",
              "      <td>-0.079681</td>\n",
              "      <td>-0.073005</td>\n",
              "      <td>-0.067413</td>\n",
              "      <td>-0.059959</td>\n",
              "      <td>-0.06373</td>\n",
              "      <td>-0.059449</td>\n",
              "      <td>-0.061071</td>\n",
              "      <td>-0.058171</td>\n",
              "      <td>-0.057594</td>\n",
              "      <td>-0.059435</td>\n",
              "      <td>-0.057341</td>\n",
              "      <td>-0.055401</td>\n",
              "      <td>-0.056409</td>\n",
              "      <td>-0.055279</td>\n",
              "      <td>-0.052073</td>\n",
              "      <td>-0.052572</td>\n",
              "      <td>-0.052004</td>\n",
              "      <td>-0.051332</td>\n",
              "      <td>-0.049913</td>\n",
              "      <td>-0.047263</td>\n",
              "      <td>-0.047001</td>\n",
              "      <td>-0.046972</td>\n",
              "      <td>-0.096485</td>\n",
              "      <td>-0.09434</td>\n",
              "      <td>-0.094632</td>\n",
              "      <td>-0.100589</td>\n",
              "      <td>-0.094045</td>\n",
              "      <td>-0.099596</td>\n",
              "      <td>-0.099584</td>\n",
              "      <td>-3.440186</td>\n",
              "      <td>-0.099366</td>\n",
              "      <td>-3.474994</td>\n",
              "      <td>-3.472009</td>\n",
              "      <td>-3.387672</td>\n",
              "      <td>...</td>\n",
              "      <td>-3.402883</td>\n",
              "      <td>-3.403171</td>\n",
              "      <td>-3.478744</td>\n",
              "      <td>-3.405827</td>\n",
              "      <td>-0.068978</td>\n",
              "      <td>-0.069169</td>\n",
              "      <td>-0.214489</td>\n",
              "      <td>-0.073065</td>\n",
              "      <td>-0.071707</td>\n",
              "      <td>-0.07167</td>\n",
              "      <td>-0.068841</td>\n",
              "      <td>-0.071577</td>\n",
              "      <td>0.141748</td>\n",
              "      <td>0.125036</td>\n",
              "      <td>-0.057764</td>\n",
              "      <td>-0.055921</td>\n",
              "      <td>-0.056016</td>\n",
              "      <td>-0.16128</td>\n",
              "      <td>-2.317632</td>\n",
              "      <td>-0.05834</td>\n",
              "      <td>-0.05741</td>\n",
              "      <td>-0.05738</td>\n",
              "      <td>-0.055845</td>\n",
              "      <td>-0.774402</td>\n",
              "      <td>-0.057333</td>\n",
              "      <td>-0.522752</td>\n",
              "      <td>-0.116481</td>\n",
              "      <td>-0.041659</td>\n",
              "      <td>-0.042473</td>\n",
              "      <td>0.10402</td>\n",
              "      <td>0.091913</td>\n",
              "      <td>-0.520099</td>\n",
              "      <td>-0.520220</td>\n",
              "      <td>-0.520117</td>\n",
              "      <td>-0.771135</td>\n",
              "      <td>-0.771132</td>\n",
              "      <td>-0.039958</td>\n",
              "      <td>-0.456464</td>\n",
              "      <td>-0.040079</td>\n",
              "      <td>-0.771314</td>\n",
              "    </tr>\n",
              "    <tr>\n",
              "      <th>3</th>\n",
              "      <td>0</td>\n",
              "      <td>-0.103392</td>\n",
              "      <td>-0.119479</td>\n",
              "      <td>-3.12175</td>\n",
              "      <td>-3.297394</td>\n",
              "      <td>-0.089339</td>\n",
              "      <td>-0.079681</td>\n",
              "      <td>-0.073005</td>\n",
              "      <td>-0.067413</td>\n",
              "      <td>-0.059959</td>\n",
              "      <td>-0.06373</td>\n",
              "      <td>-0.059449</td>\n",
              "      <td>-0.061071</td>\n",
              "      <td>-0.058171</td>\n",
              "      <td>-0.057594</td>\n",
              "      <td>-0.059435</td>\n",
              "      <td>-0.057341</td>\n",
              "      <td>-0.055401</td>\n",
              "      <td>-0.056409</td>\n",
              "      <td>-0.055279</td>\n",
              "      <td>-0.052073</td>\n",
              "      <td>-0.052572</td>\n",
              "      <td>-0.052004</td>\n",
              "      <td>-0.051332</td>\n",
              "      <td>-0.049913</td>\n",
              "      <td>-0.047263</td>\n",
              "      <td>-0.047001</td>\n",
              "      <td>-0.046972</td>\n",
              "      <td>-0.096485</td>\n",
              "      <td>-0.09434</td>\n",
              "      <td>-0.094632</td>\n",
              "      <td>-0.100589</td>\n",
              "      <td>-0.094045</td>\n",
              "      <td>-0.099596</td>\n",
              "      <td>-0.099584</td>\n",
              "      <td>-3.440186</td>\n",
              "      <td>-0.099366</td>\n",
              "      <td>-3.474994</td>\n",
              "      <td>-3.472009</td>\n",
              "      <td>-3.387672</td>\n",
              "      <td>...</td>\n",
              "      <td>-3.402883</td>\n",
              "      <td>-3.403171</td>\n",
              "      <td>-3.478744</td>\n",
              "      <td>-3.405827</td>\n",
              "      <td>-0.068978</td>\n",
              "      <td>-0.069169</td>\n",
              "      <td>-0.214489</td>\n",
              "      <td>-0.073065</td>\n",
              "      <td>-0.071707</td>\n",
              "      <td>-0.07167</td>\n",
              "      <td>-0.068841</td>\n",
              "      <td>-0.071577</td>\n",
              "      <td>0.141748</td>\n",
              "      <td>0.125036</td>\n",
              "      <td>-0.057764</td>\n",
              "      <td>-0.055921</td>\n",
              "      <td>-0.056016</td>\n",
              "      <td>-0.16128</td>\n",
              "      <td>-2.317632</td>\n",
              "      <td>-0.05834</td>\n",
              "      <td>-0.05741</td>\n",
              "      <td>-0.05738</td>\n",
              "      <td>-0.055845</td>\n",
              "      <td>-0.774402</td>\n",
              "      <td>-0.057333</td>\n",
              "      <td>-0.522752</td>\n",
              "      <td>-0.116481</td>\n",
              "      <td>-0.041659</td>\n",
              "      <td>-0.042473</td>\n",
              "      <td>0.10402</td>\n",
              "      <td>0.091913</td>\n",
              "      <td>-0.520099</td>\n",
              "      <td>-0.520220</td>\n",
              "      <td>-0.520117</td>\n",
              "      <td>-0.771135</td>\n",
              "      <td>-0.771132</td>\n",
              "      <td>-0.039958</td>\n",
              "      <td>-1.027604</td>\n",
              "      <td>-0.040079</td>\n",
              "      <td>-0.771314</td>\n",
              "    </tr>\n",
              "    <tr>\n",
              "      <th>4</th>\n",
              "      <td>0</td>\n",
              "      <td>-0.103392</td>\n",
              "      <td>-0.119479</td>\n",
              "      <td>-3.12175</td>\n",
              "      <td>-3.297394</td>\n",
              "      <td>-0.089339</td>\n",
              "      <td>-0.079681</td>\n",
              "      <td>-0.073005</td>\n",
              "      <td>-0.067413</td>\n",
              "      <td>-0.059959</td>\n",
              "      <td>-0.06373</td>\n",
              "      <td>-0.059449</td>\n",
              "      <td>-0.061071</td>\n",
              "      <td>-0.058171</td>\n",
              "      <td>-0.057594</td>\n",
              "      <td>-0.059435</td>\n",
              "      <td>-0.057341</td>\n",
              "      <td>-0.055401</td>\n",
              "      <td>-0.056409</td>\n",
              "      <td>-0.055279</td>\n",
              "      <td>-0.052073</td>\n",
              "      <td>-0.052572</td>\n",
              "      <td>-0.052004</td>\n",
              "      <td>-0.051332</td>\n",
              "      <td>-0.049913</td>\n",
              "      <td>-0.047263</td>\n",
              "      <td>-0.047001</td>\n",
              "      <td>-0.046972</td>\n",
              "      <td>-0.096485</td>\n",
              "      <td>-0.09434</td>\n",
              "      <td>-0.094632</td>\n",
              "      <td>-0.100589</td>\n",
              "      <td>-0.094045</td>\n",
              "      <td>-0.099596</td>\n",
              "      <td>-0.099584</td>\n",
              "      <td>-3.440186</td>\n",
              "      <td>-0.099366</td>\n",
              "      <td>-3.474994</td>\n",
              "      <td>-3.472009</td>\n",
              "      <td>-3.387672</td>\n",
              "      <td>...</td>\n",
              "      <td>-3.402883</td>\n",
              "      <td>-3.403171</td>\n",
              "      <td>-3.478744</td>\n",
              "      <td>-3.405827</td>\n",
              "      <td>-0.068978</td>\n",
              "      <td>-0.069169</td>\n",
              "      <td>-0.214489</td>\n",
              "      <td>-0.073065</td>\n",
              "      <td>-0.071707</td>\n",
              "      <td>-0.07167</td>\n",
              "      <td>-0.068841</td>\n",
              "      <td>-0.071577</td>\n",
              "      <td>0.141748</td>\n",
              "      <td>0.125036</td>\n",
              "      <td>-0.057764</td>\n",
              "      <td>-0.055921</td>\n",
              "      <td>-0.056016</td>\n",
              "      <td>-0.16128</td>\n",
              "      <td>-2.317632</td>\n",
              "      <td>-0.05834</td>\n",
              "      <td>-0.05741</td>\n",
              "      <td>-0.05738</td>\n",
              "      <td>-0.055845</td>\n",
              "      <td>-0.774402</td>\n",
              "      <td>-0.057333</td>\n",
              "      <td>-0.522752</td>\n",
              "      <td>-0.116481</td>\n",
              "      <td>-0.041659</td>\n",
              "      <td>-0.042473</td>\n",
              "      <td>0.10402</td>\n",
              "      <td>0.091913</td>\n",
              "      <td>-0.520099</td>\n",
              "      <td>-0.520220</td>\n",
              "      <td>-0.520117</td>\n",
              "      <td>-0.771135</td>\n",
              "      <td>-0.771132</td>\n",
              "      <td>-0.039958</td>\n",
              "      <td>-1.027604</td>\n",
              "      <td>-0.040079</td>\n",
              "      <td>-0.771314</td>\n",
              "    </tr>\n",
              "  </tbody>\n",
              "</table>\n",
              "<p>5 rows × 81 columns</p>\n",
              "</div>"
            ],
            "text/plain": [
              "   fraud_label  ...  homephone_cross_dob_lag7_count\n",
              "0            0  ...                        0.882873\n",
              "1            0  ...                        0.882873\n",
              "2            0  ...                       -0.771314\n",
              "3            0  ...                       -0.771314\n",
              "4            0  ...                       -0.771314\n",
              "\n",
              "[5 rows x 81 columns]"
            ]
          },
          "metadata": {
            "tags": []
          },
          "execution_count": 18
        }
      ]
    },
    {
      "cell_type": "code",
      "metadata": {
        "id": "7Gr5TD8WDoAY",
        "colab_type": "code",
        "outputId": "867f8b89-887c-4ace-a973-0f3bac4332d0",
        "colab": {
          "base_uri": "https://localhost:8080/",
          "height": 34
        }
      },
      "source": [
        "cand_var1.shape"
      ],
      "execution_count": 19,
      "outputs": [
        {
          "output_type": "execute_result",
          "data": {
            "text/plain": [
              "(794996, 81)"
            ]
          },
          "metadata": {
            "tags": []
          },
          "execution_count": 19
        }
      ]
    },
    {
      "cell_type": "code",
      "metadata": {
        "id": "uT4Obx9FCEon",
        "colab_type": "code",
        "outputId": "fe8be31c-59c0-4754-fdb8-e3b3e49b4682",
        "colab": {
          "base_uri": "https://localhost:8080/",
          "height": 1000
        }
      },
      "source": [
        "# RFECV: feature ranking with recursive feature elimination and cross-validated selection of the best number of features\n",
        "# First round wrapper\n",
        "model = LogisticRegression()\n",
        "X = cand_var1.iloc[:,1:]\n",
        "y = cand_var1.iloc[:,0]\n",
        "rfecv1 = RFECV(estimator=model,step=1,cv=2,verbose=3,n_jobs=-1,scoring='roc_auc')\n",
        "output1 = rfecv1.fit(X,y)"
      ],
      "execution_count": 20,
      "outputs": [
        {
          "output_type": "stream",
          "text": [
            "Fitting estimator with 80 features.\n"
          ],
          "name": "stdout"
        },
        {
          "output_type": "stream",
          "text": [
            "/usr/local/lib/python3.6/dist-packages/sklearn/linear_model/_logistic.py:940: ConvergenceWarning: lbfgs failed to converge (status=1):\n",
            "STOP: TOTAL NO. of ITERATIONS REACHED LIMIT.\n",
            "\n",
            "Increase the number of iterations (max_iter) or scale the data as shown in:\n",
            "    https://scikit-learn.org/stable/modules/preprocessing.html\n",
            "Please also refer to the documentation for alternative solver options:\n",
            "    https://scikit-learn.org/stable/modules/linear_model.html#logistic-regression\n",
            "  extra_warning_msg=_LOGISTIC_SOLVER_CONVERGENCE_MSG)\n"
          ],
          "name": "stderr"
        },
        {
          "output_type": "stream",
          "text": [
            "Fitting estimator with 79 features.\n"
          ],
          "name": "stdout"
        },
        {
          "output_type": "stream",
          "text": [
            "/usr/local/lib/python3.6/dist-packages/sklearn/linear_model/_logistic.py:940: ConvergenceWarning: lbfgs failed to converge (status=1):\n",
            "STOP: TOTAL NO. of ITERATIONS REACHED LIMIT.\n",
            "\n",
            "Increase the number of iterations (max_iter) or scale the data as shown in:\n",
            "    https://scikit-learn.org/stable/modules/preprocessing.html\n",
            "Please also refer to the documentation for alternative solver options:\n",
            "    https://scikit-learn.org/stable/modules/linear_model.html#logistic-regression\n",
            "  extra_warning_msg=_LOGISTIC_SOLVER_CONVERGENCE_MSG)\n"
          ],
          "name": "stderr"
        },
        {
          "output_type": "stream",
          "text": [
            "Fitting estimator with 78 features.\n"
          ],
          "name": "stdout"
        },
        {
          "output_type": "stream",
          "text": [
            "/usr/local/lib/python3.6/dist-packages/sklearn/linear_model/_logistic.py:940: ConvergenceWarning: lbfgs failed to converge (status=1):\n",
            "STOP: TOTAL NO. of ITERATIONS REACHED LIMIT.\n",
            "\n",
            "Increase the number of iterations (max_iter) or scale the data as shown in:\n",
            "    https://scikit-learn.org/stable/modules/preprocessing.html\n",
            "Please also refer to the documentation for alternative solver options:\n",
            "    https://scikit-learn.org/stable/modules/linear_model.html#logistic-regression\n",
            "  extra_warning_msg=_LOGISTIC_SOLVER_CONVERGENCE_MSG)\n"
          ],
          "name": "stderr"
        },
        {
          "output_type": "stream",
          "text": [
            "Fitting estimator with 77 features.\n"
          ],
          "name": "stdout"
        },
        {
          "output_type": "stream",
          "text": [
            "/usr/local/lib/python3.6/dist-packages/sklearn/linear_model/_logistic.py:940: ConvergenceWarning: lbfgs failed to converge (status=1):\n",
            "STOP: TOTAL NO. of ITERATIONS REACHED LIMIT.\n",
            "\n",
            "Increase the number of iterations (max_iter) or scale the data as shown in:\n",
            "    https://scikit-learn.org/stable/modules/preprocessing.html\n",
            "Please also refer to the documentation for alternative solver options:\n",
            "    https://scikit-learn.org/stable/modules/linear_model.html#logistic-regression\n",
            "  extra_warning_msg=_LOGISTIC_SOLVER_CONVERGENCE_MSG)\n"
          ],
          "name": "stderr"
        },
        {
          "output_type": "stream",
          "text": [
            "Fitting estimator with 76 features.\n"
          ],
          "name": "stdout"
        },
        {
          "output_type": "stream",
          "text": [
            "/usr/local/lib/python3.6/dist-packages/sklearn/linear_model/_logistic.py:940: ConvergenceWarning: lbfgs failed to converge (status=1):\n",
            "STOP: TOTAL NO. of ITERATIONS REACHED LIMIT.\n",
            "\n",
            "Increase the number of iterations (max_iter) or scale the data as shown in:\n",
            "    https://scikit-learn.org/stable/modules/preprocessing.html\n",
            "Please also refer to the documentation for alternative solver options:\n",
            "    https://scikit-learn.org/stable/modules/linear_model.html#logistic-regression\n",
            "  extra_warning_msg=_LOGISTIC_SOLVER_CONVERGENCE_MSG)\n"
          ],
          "name": "stderr"
        },
        {
          "output_type": "stream",
          "text": [
            "Fitting estimator with 75 features.\n"
          ],
          "name": "stdout"
        },
        {
          "output_type": "stream",
          "text": [
            "/usr/local/lib/python3.6/dist-packages/sklearn/linear_model/_logistic.py:940: ConvergenceWarning: lbfgs failed to converge (status=1):\n",
            "STOP: TOTAL NO. of ITERATIONS REACHED LIMIT.\n",
            "\n",
            "Increase the number of iterations (max_iter) or scale the data as shown in:\n",
            "    https://scikit-learn.org/stable/modules/preprocessing.html\n",
            "Please also refer to the documentation for alternative solver options:\n",
            "    https://scikit-learn.org/stable/modules/linear_model.html#logistic-regression\n",
            "  extra_warning_msg=_LOGISTIC_SOLVER_CONVERGENCE_MSG)\n"
          ],
          "name": "stderr"
        },
        {
          "output_type": "stream",
          "text": [
            "Fitting estimator with 74 features.\n"
          ],
          "name": "stdout"
        },
        {
          "output_type": "stream",
          "text": [
            "/usr/local/lib/python3.6/dist-packages/sklearn/linear_model/_logistic.py:940: ConvergenceWarning: lbfgs failed to converge (status=1):\n",
            "STOP: TOTAL NO. of ITERATIONS REACHED LIMIT.\n",
            "\n",
            "Increase the number of iterations (max_iter) or scale the data as shown in:\n",
            "    https://scikit-learn.org/stable/modules/preprocessing.html\n",
            "Please also refer to the documentation for alternative solver options:\n",
            "    https://scikit-learn.org/stable/modules/linear_model.html#logistic-regression\n",
            "  extra_warning_msg=_LOGISTIC_SOLVER_CONVERGENCE_MSG)\n"
          ],
          "name": "stderr"
        },
        {
          "output_type": "stream",
          "text": [
            "Fitting estimator with 73 features.\n"
          ],
          "name": "stdout"
        },
        {
          "output_type": "stream",
          "text": [
            "/usr/local/lib/python3.6/dist-packages/sklearn/linear_model/_logistic.py:940: ConvergenceWarning: lbfgs failed to converge (status=1):\n",
            "STOP: TOTAL NO. of ITERATIONS REACHED LIMIT.\n",
            "\n",
            "Increase the number of iterations (max_iter) or scale the data as shown in:\n",
            "    https://scikit-learn.org/stable/modules/preprocessing.html\n",
            "Please also refer to the documentation for alternative solver options:\n",
            "    https://scikit-learn.org/stable/modules/linear_model.html#logistic-regression\n",
            "  extra_warning_msg=_LOGISTIC_SOLVER_CONVERGENCE_MSG)\n"
          ],
          "name": "stderr"
        },
        {
          "output_type": "stream",
          "text": [
            "Fitting estimator with 72 features.\n"
          ],
          "name": "stdout"
        },
        {
          "output_type": "stream",
          "text": [
            "/usr/local/lib/python3.6/dist-packages/sklearn/linear_model/_logistic.py:940: ConvergenceWarning: lbfgs failed to converge (status=1):\n",
            "STOP: TOTAL NO. of ITERATIONS REACHED LIMIT.\n",
            "\n",
            "Increase the number of iterations (max_iter) or scale the data as shown in:\n",
            "    https://scikit-learn.org/stable/modules/preprocessing.html\n",
            "Please also refer to the documentation for alternative solver options:\n",
            "    https://scikit-learn.org/stable/modules/linear_model.html#logistic-regression\n",
            "  extra_warning_msg=_LOGISTIC_SOLVER_CONVERGENCE_MSG)\n"
          ],
          "name": "stderr"
        },
        {
          "output_type": "stream",
          "text": [
            "Fitting estimator with 71 features.\n"
          ],
          "name": "stdout"
        },
        {
          "output_type": "stream",
          "text": [
            "/usr/local/lib/python3.6/dist-packages/sklearn/linear_model/_logistic.py:940: ConvergenceWarning: lbfgs failed to converge (status=1):\n",
            "STOP: TOTAL NO. of ITERATIONS REACHED LIMIT.\n",
            "\n",
            "Increase the number of iterations (max_iter) or scale the data as shown in:\n",
            "    https://scikit-learn.org/stable/modules/preprocessing.html\n",
            "Please also refer to the documentation for alternative solver options:\n",
            "    https://scikit-learn.org/stable/modules/linear_model.html#logistic-regression\n",
            "  extra_warning_msg=_LOGISTIC_SOLVER_CONVERGENCE_MSG)\n"
          ],
          "name": "stderr"
        },
        {
          "output_type": "stream",
          "text": [
            "Fitting estimator with 70 features.\n"
          ],
          "name": "stdout"
        },
        {
          "output_type": "stream",
          "text": [
            "/usr/local/lib/python3.6/dist-packages/sklearn/linear_model/_logistic.py:940: ConvergenceWarning: lbfgs failed to converge (status=1):\n",
            "STOP: TOTAL NO. of ITERATIONS REACHED LIMIT.\n",
            "\n",
            "Increase the number of iterations (max_iter) or scale the data as shown in:\n",
            "    https://scikit-learn.org/stable/modules/preprocessing.html\n",
            "Please also refer to the documentation for alternative solver options:\n",
            "    https://scikit-learn.org/stable/modules/linear_model.html#logistic-regression\n",
            "  extra_warning_msg=_LOGISTIC_SOLVER_CONVERGENCE_MSG)\n"
          ],
          "name": "stderr"
        },
        {
          "output_type": "stream",
          "text": [
            "Fitting estimator with 69 features.\n"
          ],
          "name": "stdout"
        },
        {
          "output_type": "stream",
          "text": [
            "/usr/local/lib/python3.6/dist-packages/sklearn/linear_model/_logistic.py:940: ConvergenceWarning: lbfgs failed to converge (status=1):\n",
            "STOP: TOTAL NO. of ITERATIONS REACHED LIMIT.\n",
            "\n",
            "Increase the number of iterations (max_iter) or scale the data as shown in:\n",
            "    https://scikit-learn.org/stable/modules/preprocessing.html\n",
            "Please also refer to the documentation for alternative solver options:\n",
            "    https://scikit-learn.org/stable/modules/linear_model.html#logistic-regression\n",
            "  extra_warning_msg=_LOGISTIC_SOLVER_CONVERGENCE_MSG)\n"
          ],
          "name": "stderr"
        },
        {
          "output_type": "stream",
          "text": [
            "Fitting estimator with 68 features.\n"
          ],
          "name": "stdout"
        },
        {
          "output_type": "stream",
          "text": [
            "/usr/local/lib/python3.6/dist-packages/sklearn/linear_model/_logistic.py:940: ConvergenceWarning: lbfgs failed to converge (status=1):\n",
            "STOP: TOTAL NO. of ITERATIONS REACHED LIMIT.\n",
            "\n",
            "Increase the number of iterations (max_iter) or scale the data as shown in:\n",
            "    https://scikit-learn.org/stable/modules/preprocessing.html\n",
            "Please also refer to the documentation for alternative solver options:\n",
            "    https://scikit-learn.org/stable/modules/linear_model.html#logistic-regression\n",
            "  extra_warning_msg=_LOGISTIC_SOLVER_CONVERGENCE_MSG)\n"
          ],
          "name": "stderr"
        },
        {
          "output_type": "stream",
          "text": [
            "Fitting estimator with 67 features.\n"
          ],
          "name": "stdout"
        },
        {
          "output_type": "stream",
          "text": [
            "/usr/local/lib/python3.6/dist-packages/sklearn/linear_model/_logistic.py:940: ConvergenceWarning: lbfgs failed to converge (status=1):\n",
            "STOP: TOTAL NO. of ITERATIONS REACHED LIMIT.\n",
            "\n",
            "Increase the number of iterations (max_iter) or scale the data as shown in:\n",
            "    https://scikit-learn.org/stable/modules/preprocessing.html\n",
            "Please also refer to the documentation for alternative solver options:\n",
            "    https://scikit-learn.org/stable/modules/linear_model.html#logistic-regression\n",
            "  extra_warning_msg=_LOGISTIC_SOLVER_CONVERGENCE_MSG)\n"
          ],
          "name": "stderr"
        },
        {
          "output_type": "stream",
          "text": [
            "Fitting estimator with 66 features.\n"
          ],
          "name": "stdout"
        },
        {
          "output_type": "stream",
          "text": [
            "/usr/local/lib/python3.6/dist-packages/sklearn/linear_model/_logistic.py:940: ConvergenceWarning: lbfgs failed to converge (status=1):\n",
            "STOP: TOTAL NO. of ITERATIONS REACHED LIMIT.\n",
            "\n",
            "Increase the number of iterations (max_iter) or scale the data as shown in:\n",
            "    https://scikit-learn.org/stable/modules/preprocessing.html\n",
            "Please also refer to the documentation for alternative solver options:\n",
            "    https://scikit-learn.org/stable/modules/linear_model.html#logistic-regression\n",
            "  extra_warning_msg=_LOGISTIC_SOLVER_CONVERGENCE_MSG)\n"
          ],
          "name": "stderr"
        },
        {
          "output_type": "stream",
          "text": [
            "Fitting estimator with 65 features.\n"
          ],
          "name": "stdout"
        },
        {
          "output_type": "stream",
          "text": [
            "/usr/local/lib/python3.6/dist-packages/sklearn/linear_model/_logistic.py:940: ConvergenceWarning: lbfgs failed to converge (status=1):\n",
            "STOP: TOTAL NO. of ITERATIONS REACHED LIMIT.\n",
            "\n",
            "Increase the number of iterations (max_iter) or scale the data as shown in:\n",
            "    https://scikit-learn.org/stable/modules/preprocessing.html\n",
            "Please also refer to the documentation for alternative solver options:\n",
            "    https://scikit-learn.org/stable/modules/linear_model.html#logistic-regression\n",
            "  extra_warning_msg=_LOGISTIC_SOLVER_CONVERGENCE_MSG)\n"
          ],
          "name": "stderr"
        },
        {
          "output_type": "stream",
          "text": [
            "Fitting estimator with 64 features.\n"
          ],
          "name": "stdout"
        },
        {
          "output_type": "stream",
          "text": [
            "/usr/local/lib/python3.6/dist-packages/sklearn/linear_model/_logistic.py:940: ConvergenceWarning: lbfgs failed to converge (status=1):\n",
            "STOP: TOTAL NO. of ITERATIONS REACHED LIMIT.\n",
            "\n",
            "Increase the number of iterations (max_iter) or scale the data as shown in:\n",
            "    https://scikit-learn.org/stable/modules/preprocessing.html\n",
            "Please also refer to the documentation for alternative solver options:\n",
            "    https://scikit-learn.org/stable/modules/linear_model.html#logistic-regression\n",
            "  extra_warning_msg=_LOGISTIC_SOLVER_CONVERGENCE_MSG)\n"
          ],
          "name": "stderr"
        },
        {
          "output_type": "stream",
          "text": [
            "Fitting estimator with 63 features.\n"
          ],
          "name": "stdout"
        },
        {
          "output_type": "stream",
          "text": [
            "/usr/local/lib/python3.6/dist-packages/sklearn/linear_model/_logistic.py:940: ConvergenceWarning: lbfgs failed to converge (status=1):\n",
            "STOP: TOTAL NO. of ITERATIONS REACHED LIMIT.\n",
            "\n",
            "Increase the number of iterations (max_iter) or scale the data as shown in:\n",
            "    https://scikit-learn.org/stable/modules/preprocessing.html\n",
            "Please also refer to the documentation for alternative solver options:\n",
            "    https://scikit-learn.org/stable/modules/linear_model.html#logistic-regression\n",
            "  extra_warning_msg=_LOGISTIC_SOLVER_CONVERGENCE_MSG)\n"
          ],
          "name": "stderr"
        },
        {
          "output_type": "stream",
          "text": [
            "Fitting estimator with 62 features.\n"
          ],
          "name": "stdout"
        },
        {
          "output_type": "stream",
          "text": [
            "/usr/local/lib/python3.6/dist-packages/sklearn/linear_model/_logistic.py:940: ConvergenceWarning: lbfgs failed to converge (status=1):\n",
            "STOP: TOTAL NO. of ITERATIONS REACHED LIMIT.\n",
            "\n",
            "Increase the number of iterations (max_iter) or scale the data as shown in:\n",
            "    https://scikit-learn.org/stable/modules/preprocessing.html\n",
            "Please also refer to the documentation for alternative solver options:\n",
            "    https://scikit-learn.org/stable/modules/linear_model.html#logistic-regression\n",
            "  extra_warning_msg=_LOGISTIC_SOLVER_CONVERGENCE_MSG)\n"
          ],
          "name": "stderr"
        },
        {
          "output_type": "stream",
          "text": [
            "Fitting estimator with 61 features.\n"
          ],
          "name": "stdout"
        },
        {
          "output_type": "stream",
          "text": [
            "/usr/local/lib/python3.6/dist-packages/sklearn/linear_model/_logistic.py:940: ConvergenceWarning: lbfgs failed to converge (status=1):\n",
            "STOP: TOTAL NO. of ITERATIONS REACHED LIMIT.\n",
            "\n",
            "Increase the number of iterations (max_iter) or scale the data as shown in:\n",
            "    https://scikit-learn.org/stable/modules/preprocessing.html\n",
            "Please also refer to the documentation for alternative solver options:\n",
            "    https://scikit-learn.org/stable/modules/linear_model.html#logistic-regression\n",
            "  extra_warning_msg=_LOGISTIC_SOLVER_CONVERGENCE_MSG)\n"
          ],
          "name": "stderr"
        },
        {
          "output_type": "stream",
          "text": [
            "Fitting estimator with 60 features.\n"
          ],
          "name": "stdout"
        },
        {
          "output_type": "stream",
          "text": [
            "/usr/local/lib/python3.6/dist-packages/sklearn/linear_model/_logistic.py:940: ConvergenceWarning: lbfgs failed to converge (status=1):\n",
            "STOP: TOTAL NO. of ITERATIONS REACHED LIMIT.\n",
            "\n",
            "Increase the number of iterations (max_iter) or scale the data as shown in:\n",
            "    https://scikit-learn.org/stable/modules/preprocessing.html\n",
            "Please also refer to the documentation for alternative solver options:\n",
            "    https://scikit-learn.org/stable/modules/linear_model.html#logistic-regression\n",
            "  extra_warning_msg=_LOGISTIC_SOLVER_CONVERGENCE_MSG)\n"
          ],
          "name": "stderr"
        },
        {
          "output_type": "stream",
          "text": [
            "Fitting estimator with 59 features.\n"
          ],
          "name": "stdout"
        },
        {
          "output_type": "stream",
          "text": [
            "/usr/local/lib/python3.6/dist-packages/sklearn/linear_model/_logistic.py:940: ConvergenceWarning: lbfgs failed to converge (status=1):\n",
            "STOP: TOTAL NO. of ITERATIONS REACHED LIMIT.\n",
            "\n",
            "Increase the number of iterations (max_iter) or scale the data as shown in:\n",
            "    https://scikit-learn.org/stable/modules/preprocessing.html\n",
            "Please also refer to the documentation for alternative solver options:\n",
            "    https://scikit-learn.org/stable/modules/linear_model.html#logistic-regression\n",
            "  extra_warning_msg=_LOGISTIC_SOLVER_CONVERGENCE_MSG)\n"
          ],
          "name": "stderr"
        },
        {
          "output_type": "stream",
          "text": [
            "Fitting estimator with 58 features.\n"
          ],
          "name": "stdout"
        },
        {
          "output_type": "stream",
          "text": [
            "/usr/local/lib/python3.6/dist-packages/sklearn/linear_model/_logistic.py:940: ConvergenceWarning: lbfgs failed to converge (status=1):\n",
            "STOP: TOTAL NO. of ITERATIONS REACHED LIMIT.\n",
            "\n",
            "Increase the number of iterations (max_iter) or scale the data as shown in:\n",
            "    https://scikit-learn.org/stable/modules/preprocessing.html\n",
            "Please also refer to the documentation for alternative solver options:\n",
            "    https://scikit-learn.org/stable/modules/linear_model.html#logistic-regression\n",
            "  extra_warning_msg=_LOGISTIC_SOLVER_CONVERGENCE_MSG)\n"
          ],
          "name": "stderr"
        },
        {
          "output_type": "stream",
          "text": [
            "Fitting estimator with 57 features.\n"
          ],
          "name": "stdout"
        },
        {
          "output_type": "stream",
          "text": [
            "/usr/local/lib/python3.6/dist-packages/sklearn/linear_model/_logistic.py:940: ConvergenceWarning: lbfgs failed to converge (status=1):\n",
            "STOP: TOTAL NO. of ITERATIONS REACHED LIMIT.\n",
            "\n",
            "Increase the number of iterations (max_iter) or scale the data as shown in:\n",
            "    https://scikit-learn.org/stable/modules/preprocessing.html\n",
            "Please also refer to the documentation for alternative solver options:\n",
            "    https://scikit-learn.org/stable/modules/linear_model.html#logistic-regression\n",
            "  extra_warning_msg=_LOGISTIC_SOLVER_CONVERGENCE_MSG)\n"
          ],
          "name": "stderr"
        },
        {
          "output_type": "stream",
          "text": [
            "Fitting estimator with 56 features.\n"
          ],
          "name": "stdout"
        },
        {
          "output_type": "stream",
          "text": [
            "/usr/local/lib/python3.6/dist-packages/sklearn/linear_model/_logistic.py:940: ConvergenceWarning: lbfgs failed to converge (status=1):\n",
            "STOP: TOTAL NO. of ITERATIONS REACHED LIMIT.\n",
            "\n",
            "Increase the number of iterations (max_iter) or scale the data as shown in:\n",
            "    https://scikit-learn.org/stable/modules/preprocessing.html\n",
            "Please also refer to the documentation for alternative solver options:\n",
            "    https://scikit-learn.org/stable/modules/linear_model.html#logistic-regression\n",
            "  extra_warning_msg=_LOGISTIC_SOLVER_CONVERGENCE_MSG)\n"
          ],
          "name": "stderr"
        },
        {
          "output_type": "stream",
          "text": [
            "Fitting estimator with 55 features.\n"
          ],
          "name": "stdout"
        },
        {
          "output_type": "stream",
          "text": [
            "/usr/local/lib/python3.6/dist-packages/sklearn/linear_model/_logistic.py:940: ConvergenceWarning: lbfgs failed to converge (status=1):\n",
            "STOP: TOTAL NO. of ITERATIONS REACHED LIMIT.\n",
            "\n",
            "Increase the number of iterations (max_iter) or scale the data as shown in:\n",
            "    https://scikit-learn.org/stable/modules/preprocessing.html\n",
            "Please also refer to the documentation for alternative solver options:\n",
            "    https://scikit-learn.org/stable/modules/linear_model.html#logistic-regression\n",
            "  extra_warning_msg=_LOGISTIC_SOLVER_CONVERGENCE_MSG)\n"
          ],
          "name": "stderr"
        },
        {
          "output_type": "stream",
          "text": [
            "Fitting estimator with 54 features.\n"
          ],
          "name": "stdout"
        },
        {
          "output_type": "stream",
          "text": [
            "/usr/local/lib/python3.6/dist-packages/sklearn/linear_model/_logistic.py:940: ConvergenceWarning: lbfgs failed to converge (status=1):\n",
            "STOP: TOTAL NO. of ITERATIONS REACHED LIMIT.\n",
            "\n",
            "Increase the number of iterations (max_iter) or scale the data as shown in:\n",
            "    https://scikit-learn.org/stable/modules/preprocessing.html\n",
            "Please also refer to the documentation for alternative solver options:\n",
            "    https://scikit-learn.org/stable/modules/linear_model.html#logistic-regression\n",
            "  extra_warning_msg=_LOGISTIC_SOLVER_CONVERGENCE_MSG)\n"
          ],
          "name": "stderr"
        },
        {
          "output_type": "stream",
          "text": [
            "Fitting estimator with 53 features.\n"
          ],
          "name": "stdout"
        },
        {
          "output_type": "stream",
          "text": [
            "/usr/local/lib/python3.6/dist-packages/sklearn/linear_model/_logistic.py:940: ConvergenceWarning: lbfgs failed to converge (status=1):\n",
            "STOP: TOTAL NO. of ITERATIONS REACHED LIMIT.\n",
            "\n",
            "Increase the number of iterations (max_iter) or scale the data as shown in:\n",
            "    https://scikit-learn.org/stable/modules/preprocessing.html\n",
            "Please also refer to the documentation for alternative solver options:\n",
            "    https://scikit-learn.org/stable/modules/linear_model.html#logistic-regression\n",
            "  extra_warning_msg=_LOGISTIC_SOLVER_CONVERGENCE_MSG)\n"
          ],
          "name": "stderr"
        },
        {
          "output_type": "stream",
          "text": [
            "Fitting estimator with 52 features.\n"
          ],
          "name": "stdout"
        },
        {
          "output_type": "stream",
          "text": [
            "/usr/local/lib/python3.6/dist-packages/sklearn/linear_model/_logistic.py:940: ConvergenceWarning: lbfgs failed to converge (status=1):\n",
            "STOP: TOTAL NO. of ITERATIONS REACHED LIMIT.\n",
            "\n",
            "Increase the number of iterations (max_iter) or scale the data as shown in:\n",
            "    https://scikit-learn.org/stable/modules/preprocessing.html\n",
            "Please also refer to the documentation for alternative solver options:\n",
            "    https://scikit-learn.org/stable/modules/linear_model.html#logistic-regression\n",
            "  extra_warning_msg=_LOGISTIC_SOLVER_CONVERGENCE_MSG)\n"
          ],
          "name": "stderr"
        },
        {
          "output_type": "stream",
          "text": [
            "Fitting estimator with 51 features.\n"
          ],
          "name": "stdout"
        },
        {
          "output_type": "stream",
          "text": [
            "/usr/local/lib/python3.6/dist-packages/sklearn/linear_model/_logistic.py:940: ConvergenceWarning: lbfgs failed to converge (status=1):\n",
            "STOP: TOTAL NO. of ITERATIONS REACHED LIMIT.\n",
            "\n",
            "Increase the number of iterations (max_iter) or scale the data as shown in:\n",
            "    https://scikit-learn.org/stable/modules/preprocessing.html\n",
            "Please also refer to the documentation for alternative solver options:\n",
            "    https://scikit-learn.org/stable/modules/linear_model.html#logistic-regression\n",
            "  extra_warning_msg=_LOGISTIC_SOLVER_CONVERGENCE_MSG)\n"
          ],
          "name": "stderr"
        },
        {
          "output_type": "stream",
          "text": [
            "Fitting estimator with 50 features.\n"
          ],
          "name": "stdout"
        },
        {
          "output_type": "stream",
          "text": [
            "/usr/local/lib/python3.6/dist-packages/sklearn/linear_model/_logistic.py:940: ConvergenceWarning: lbfgs failed to converge (status=1):\n",
            "STOP: TOTAL NO. of ITERATIONS REACHED LIMIT.\n",
            "\n",
            "Increase the number of iterations (max_iter) or scale the data as shown in:\n",
            "    https://scikit-learn.org/stable/modules/preprocessing.html\n",
            "Please also refer to the documentation for alternative solver options:\n",
            "    https://scikit-learn.org/stable/modules/linear_model.html#logistic-regression\n",
            "  extra_warning_msg=_LOGISTIC_SOLVER_CONVERGENCE_MSG)\n"
          ],
          "name": "stderr"
        },
        {
          "output_type": "stream",
          "text": [
            "Fitting estimator with 49 features.\n"
          ],
          "name": "stdout"
        },
        {
          "output_type": "stream",
          "text": [
            "/usr/local/lib/python3.6/dist-packages/sklearn/linear_model/_logistic.py:940: ConvergenceWarning: lbfgs failed to converge (status=1):\n",
            "STOP: TOTAL NO. of ITERATIONS REACHED LIMIT.\n",
            "\n",
            "Increase the number of iterations (max_iter) or scale the data as shown in:\n",
            "    https://scikit-learn.org/stable/modules/preprocessing.html\n",
            "Please also refer to the documentation for alternative solver options:\n",
            "    https://scikit-learn.org/stable/modules/linear_model.html#logistic-regression\n",
            "  extra_warning_msg=_LOGISTIC_SOLVER_CONVERGENCE_MSG)\n"
          ],
          "name": "stderr"
        },
        {
          "output_type": "stream",
          "text": [
            "Fitting estimator with 48 features.\n"
          ],
          "name": "stdout"
        },
        {
          "output_type": "stream",
          "text": [
            "/usr/local/lib/python3.6/dist-packages/sklearn/linear_model/_logistic.py:940: ConvergenceWarning: lbfgs failed to converge (status=1):\n",
            "STOP: TOTAL NO. of ITERATIONS REACHED LIMIT.\n",
            "\n",
            "Increase the number of iterations (max_iter) or scale the data as shown in:\n",
            "    https://scikit-learn.org/stable/modules/preprocessing.html\n",
            "Please also refer to the documentation for alternative solver options:\n",
            "    https://scikit-learn.org/stable/modules/linear_model.html#logistic-regression\n",
            "  extra_warning_msg=_LOGISTIC_SOLVER_CONVERGENCE_MSG)\n"
          ],
          "name": "stderr"
        },
        {
          "output_type": "stream",
          "text": [
            "Fitting estimator with 47 features.\n"
          ],
          "name": "stdout"
        },
        {
          "output_type": "stream",
          "text": [
            "/usr/local/lib/python3.6/dist-packages/sklearn/linear_model/_logistic.py:940: ConvergenceWarning: lbfgs failed to converge (status=1):\n",
            "STOP: TOTAL NO. of ITERATIONS REACHED LIMIT.\n",
            "\n",
            "Increase the number of iterations (max_iter) or scale the data as shown in:\n",
            "    https://scikit-learn.org/stable/modules/preprocessing.html\n",
            "Please also refer to the documentation for alternative solver options:\n",
            "    https://scikit-learn.org/stable/modules/linear_model.html#logistic-regression\n",
            "  extra_warning_msg=_LOGISTIC_SOLVER_CONVERGENCE_MSG)\n"
          ],
          "name": "stderr"
        },
        {
          "output_type": "stream",
          "text": [
            "Fitting estimator with 46 features.\n"
          ],
          "name": "stdout"
        },
        {
          "output_type": "stream",
          "text": [
            "/usr/local/lib/python3.6/dist-packages/sklearn/linear_model/_logistic.py:940: ConvergenceWarning: lbfgs failed to converge (status=1):\n",
            "STOP: TOTAL NO. of ITERATIONS REACHED LIMIT.\n",
            "\n",
            "Increase the number of iterations (max_iter) or scale the data as shown in:\n",
            "    https://scikit-learn.org/stable/modules/preprocessing.html\n",
            "Please also refer to the documentation for alternative solver options:\n",
            "    https://scikit-learn.org/stable/modules/linear_model.html#logistic-regression\n",
            "  extra_warning_msg=_LOGISTIC_SOLVER_CONVERGENCE_MSG)\n"
          ],
          "name": "stderr"
        },
        {
          "output_type": "stream",
          "text": [
            "Fitting estimator with 45 features.\n"
          ],
          "name": "stdout"
        },
        {
          "output_type": "stream",
          "text": [
            "/usr/local/lib/python3.6/dist-packages/sklearn/linear_model/_logistic.py:940: ConvergenceWarning: lbfgs failed to converge (status=1):\n",
            "STOP: TOTAL NO. of ITERATIONS REACHED LIMIT.\n",
            "\n",
            "Increase the number of iterations (max_iter) or scale the data as shown in:\n",
            "    https://scikit-learn.org/stable/modules/preprocessing.html\n",
            "Please also refer to the documentation for alternative solver options:\n",
            "    https://scikit-learn.org/stable/modules/linear_model.html#logistic-regression\n",
            "  extra_warning_msg=_LOGISTIC_SOLVER_CONVERGENCE_MSG)\n"
          ],
          "name": "stderr"
        },
        {
          "output_type": "stream",
          "text": [
            "Fitting estimator with 44 features.\n"
          ],
          "name": "stdout"
        },
        {
          "output_type": "stream",
          "text": [
            "/usr/local/lib/python3.6/dist-packages/sklearn/linear_model/_logistic.py:940: ConvergenceWarning: lbfgs failed to converge (status=1):\n",
            "STOP: TOTAL NO. of ITERATIONS REACHED LIMIT.\n",
            "\n",
            "Increase the number of iterations (max_iter) or scale the data as shown in:\n",
            "    https://scikit-learn.org/stable/modules/preprocessing.html\n",
            "Please also refer to the documentation for alternative solver options:\n",
            "    https://scikit-learn.org/stable/modules/linear_model.html#logistic-regression\n",
            "  extra_warning_msg=_LOGISTIC_SOLVER_CONVERGENCE_MSG)\n"
          ],
          "name": "stderr"
        },
        {
          "output_type": "stream",
          "text": [
            "Fitting estimator with 43 features.\n"
          ],
          "name": "stdout"
        },
        {
          "output_type": "stream",
          "text": [
            "/usr/local/lib/python3.6/dist-packages/sklearn/linear_model/_logistic.py:940: ConvergenceWarning: lbfgs failed to converge (status=1):\n",
            "STOP: TOTAL NO. of ITERATIONS REACHED LIMIT.\n",
            "\n",
            "Increase the number of iterations (max_iter) or scale the data as shown in:\n",
            "    https://scikit-learn.org/stable/modules/preprocessing.html\n",
            "Please also refer to the documentation for alternative solver options:\n",
            "    https://scikit-learn.org/stable/modules/linear_model.html#logistic-regression\n",
            "  extra_warning_msg=_LOGISTIC_SOLVER_CONVERGENCE_MSG)\n"
          ],
          "name": "stderr"
        },
        {
          "output_type": "stream",
          "text": [
            "Fitting estimator with 42 features.\n"
          ],
          "name": "stdout"
        },
        {
          "output_type": "stream",
          "text": [
            "/usr/local/lib/python3.6/dist-packages/sklearn/linear_model/_logistic.py:940: ConvergenceWarning: lbfgs failed to converge (status=1):\n",
            "STOP: TOTAL NO. of ITERATIONS REACHED LIMIT.\n",
            "\n",
            "Increase the number of iterations (max_iter) or scale the data as shown in:\n",
            "    https://scikit-learn.org/stable/modules/preprocessing.html\n",
            "Please also refer to the documentation for alternative solver options:\n",
            "    https://scikit-learn.org/stable/modules/linear_model.html#logistic-regression\n",
            "  extra_warning_msg=_LOGISTIC_SOLVER_CONVERGENCE_MSG)\n"
          ],
          "name": "stderr"
        },
        {
          "output_type": "stream",
          "text": [
            "Fitting estimator with 41 features.\n"
          ],
          "name": "stdout"
        },
        {
          "output_type": "stream",
          "text": [
            "/usr/local/lib/python3.6/dist-packages/sklearn/linear_model/_logistic.py:940: ConvergenceWarning: lbfgs failed to converge (status=1):\n",
            "STOP: TOTAL NO. of ITERATIONS REACHED LIMIT.\n",
            "\n",
            "Increase the number of iterations (max_iter) or scale the data as shown in:\n",
            "    https://scikit-learn.org/stable/modules/preprocessing.html\n",
            "Please also refer to the documentation for alternative solver options:\n",
            "    https://scikit-learn.org/stable/modules/linear_model.html#logistic-regression\n",
            "  extra_warning_msg=_LOGISTIC_SOLVER_CONVERGENCE_MSG)\n"
          ],
          "name": "stderr"
        },
        {
          "output_type": "stream",
          "text": [
            "Fitting estimator with 40 features.\n"
          ],
          "name": "stdout"
        },
        {
          "output_type": "stream",
          "text": [
            "/usr/local/lib/python3.6/dist-packages/sklearn/linear_model/_logistic.py:940: ConvergenceWarning: lbfgs failed to converge (status=1):\n",
            "STOP: TOTAL NO. of ITERATIONS REACHED LIMIT.\n",
            "\n",
            "Increase the number of iterations (max_iter) or scale the data as shown in:\n",
            "    https://scikit-learn.org/stable/modules/preprocessing.html\n",
            "Please also refer to the documentation for alternative solver options:\n",
            "    https://scikit-learn.org/stable/modules/linear_model.html#logistic-regression\n",
            "  extra_warning_msg=_LOGISTIC_SOLVER_CONVERGENCE_MSG)\n"
          ],
          "name": "stderr"
        },
        {
          "output_type": "stream",
          "text": [
            "Fitting estimator with 39 features.\n"
          ],
          "name": "stdout"
        },
        {
          "output_type": "stream",
          "text": [
            "/usr/local/lib/python3.6/dist-packages/sklearn/linear_model/_logistic.py:940: ConvergenceWarning: lbfgs failed to converge (status=1):\n",
            "STOP: TOTAL NO. of ITERATIONS REACHED LIMIT.\n",
            "\n",
            "Increase the number of iterations (max_iter) or scale the data as shown in:\n",
            "    https://scikit-learn.org/stable/modules/preprocessing.html\n",
            "Please also refer to the documentation for alternative solver options:\n",
            "    https://scikit-learn.org/stable/modules/linear_model.html#logistic-regression\n",
            "  extra_warning_msg=_LOGISTIC_SOLVER_CONVERGENCE_MSG)\n"
          ],
          "name": "stderr"
        },
        {
          "output_type": "stream",
          "text": [
            "Fitting estimator with 38 features.\n"
          ],
          "name": "stdout"
        },
        {
          "output_type": "stream",
          "text": [
            "/usr/local/lib/python3.6/dist-packages/sklearn/linear_model/_logistic.py:940: ConvergenceWarning: lbfgs failed to converge (status=1):\n",
            "STOP: TOTAL NO. of ITERATIONS REACHED LIMIT.\n",
            "\n",
            "Increase the number of iterations (max_iter) or scale the data as shown in:\n",
            "    https://scikit-learn.org/stable/modules/preprocessing.html\n",
            "Please also refer to the documentation for alternative solver options:\n",
            "    https://scikit-learn.org/stable/modules/linear_model.html#logistic-regression\n",
            "  extra_warning_msg=_LOGISTIC_SOLVER_CONVERGENCE_MSG)\n"
          ],
          "name": "stderr"
        },
        {
          "output_type": "stream",
          "text": [
            "Fitting estimator with 37 features.\n"
          ],
          "name": "stdout"
        },
        {
          "output_type": "stream",
          "text": [
            "/usr/local/lib/python3.6/dist-packages/sklearn/linear_model/_logistic.py:940: ConvergenceWarning: lbfgs failed to converge (status=1):\n",
            "STOP: TOTAL NO. of ITERATIONS REACHED LIMIT.\n",
            "\n",
            "Increase the number of iterations (max_iter) or scale the data as shown in:\n",
            "    https://scikit-learn.org/stable/modules/preprocessing.html\n",
            "Please also refer to the documentation for alternative solver options:\n",
            "    https://scikit-learn.org/stable/modules/linear_model.html#logistic-regression\n",
            "  extra_warning_msg=_LOGISTIC_SOLVER_CONVERGENCE_MSG)\n"
          ],
          "name": "stderr"
        },
        {
          "output_type": "stream",
          "text": [
            "Fitting estimator with 36 features.\n"
          ],
          "name": "stdout"
        },
        {
          "output_type": "stream",
          "text": [
            "/usr/local/lib/python3.6/dist-packages/sklearn/linear_model/_logistic.py:940: ConvergenceWarning: lbfgs failed to converge (status=1):\n",
            "STOP: TOTAL NO. of ITERATIONS REACHED LIMIT.\n",
            "\n",
            "Increase the number of iterations (max_iter) or scale the data as shown in:\n",
            "    https://scikit-learn.org/stable/modules/preprocessing.html\n",
            "Please also refer to the documentation for alternative solver options:\n",
            "    https://scikit-learn.org/stable/modules/linear_model.html#logistic-regression\n",
            "  extra_warning_msg=_LOGISTIC_SOLVER_CONVERGENCE_MSG)\n"
          ],
          "name": "stderr"
        },
        {
          "output_type": "stream",
          "text": [
            "Fitting estimator with 35 features.\n"
          ],
          "name": "stdout"
        },
        {
          "output_type": "stream",
          "text": [
            "/usr/local/lib/python3.6/dist-packages/sklearn/linear_model/_logistic.py:940: ConvergenceWarning: lbfgs failed to converge (status=1):\n",
            "STOP: TOTAL NO. of ITERATIONS REACHED LIMIT.\n",
            "\n",
            "Increase the number of iterations (max_iter) or scale the data as shown in:\n",
            "    https://scikit-learn.org/stable/modules/preprocessing.html\n",
            "Please also refer to the documentation for alternative solver options:\n",
            "    https://scikit-learn.org/stable/modules/linear_model.html#logistic-regression\n",
            "  extra_warning_msg=_LOGISTIC_SOLVER_CONVERGENCE_MSG)\n",
            "/usr/local/lib/python3.6/dist-packages/sklearn/linear_model/_logistic.py:940: ConvergenceWarning: lbfgs failed to converge (status=1):\n",
            "STOP: TOTAL NO. of ITERATIONS REACHED LIMIT.\n",
            "\n",
            "Increase the number of iterations (max_iter) or scale the data as shown in:\n",
            "    https://scikit-learn.org/stable/modules/preprocessing.html\n",
            "Please also refer to the documentation for alternative solver options:\n",
            "    https://scikit-learn.org/stable/modules/linear_model.html#logistic-regression\n",
            "  extra_warning_msg=_LOGISTIC_SOLVER_CONVERGENCE_MSG)\n",
            "/usr/local/lib/python3.6/dist-packages/sklearn/linear_model/_logistic.py:940: ConvergenceWarning: lbfgs failed to converge (status=1):\n",
            "STOP: TOTAL NO. of ITERATIONS REACHED LIMIT.\n",
            "\n",
            "Increase the number of iterations (max_iter) or scale the data as shown in:\n",
            "    https://scikit-learn.org/stable/modules/preprocessing.html\n",
            "Please also refer to the documentation for alternative solver options:\n",
            "    https://scikit-learn.org/stable/modules/linear_model.html#logistic-regression\n",
            "  extra_warning_msg=_LOGISTIC_SOLVER_CONVERGENCE_MSG)\n"
          ],
          "name": "stderr"
        }
      ]
    },
    {
      "cell_type": "code",
      "metadata": {
        "id": "1ln07zTXIb4c",
        "colab_type": "code",
        "outputId": "13cd6297-3a05-48a6-f6ec-3a0a91457ec1",
        "colab": {
          "base_uri": "https://localhost:8080/",
          "height": 34
        }
      },
      "source": [
        "print(f'Number of variables selected: {output1.get_support().sum()}')"
      ],
      "execution_count": 21,
      "outputs": [
        {
          "output_type": "stream",
          "text": [
            "Number of variables selected: 34\n"
          ],
          "name": "stdout"
        }
      ]
    },
    {
      "cell_type": "code",
      "metadata": {
        "id": "Ygis078MgNLv",
        "colab_type": "code",
        "outputId": "131b3e22-5432-48ed-eed4-593499ea0eb2",
        "colab": {
          "base_uri": "https://localhost:8080/",
          "height": 279
        }
      },
      "source": [
        "# Plot the wrapper\n",
        "plt.figure()\n",
        "plt.plot(range(1,len(rfecv1.grid_scores_)+1),rfecv1.grid_scores_)\n",
        "plt.xlabel('Number of features selected')\n",
        "plt.ylabel('ORC_AUC')\n",
        "plt.show()"
      ],
      "execution_count": 22,
      "outputs": [
        {
          "output_type": "display_data",
          "data": {
            "image/png": "[encoded data removed]",
            "text/plain": [
              "<Figure size 432x288 with 1 Axes>"
            ]
          },
          "metadata": {
            "tags": []
          }
        }
      ]
    },
    {
      "cell_type": "code",
      "metadata": {
        "id": "wXksWI5ZQ52o",
        "colab_type": "code",
        "outputId": "5ab1e5f2-c123-4da4-b406-9bb2ecee1baa",
        "colab": {
          "base_uri": "https://localhost:8080/",
          "height": 34
        }
      },
      "source": [
        "# Pick the 34 variables selected by the wrapper\n",
        "var_list2 = list(var_list).copy()\n",
        "var_list2.remove('fraud_label')\n",
        "var_list2 = np.array(var_list2)[output1.get_support()]\n",
        "print(len(var_list2))"
      ],
      "execution_count": 23,
      "outputs": [
        {
          "output_type": "stream",
          "text": [
            "34\n"
          ],
          "name": "stdout"
        }
      ]
    },
    {
      "cell_type": "code",
      "metadata": {
        "id": "k0jYUm-QRdoG",
        "colab_type": "code",
        "colab": {}
      },
      "source": [
        "cand_var2 = cs_tt.loc[:,var_list2]\n",
        "cand_var2['fraud_label'] = cs_tt.loc[:,'fraud_label']"
      ],
      "execution_count": 0,
      "outputs": []
    },
    {
      "cell_type": "code",
      "metadata": {
        "id": "9tTtpdWKQXYO",
        "colab_type": "code",
        "outputId": "6f9ccb01-3443-4f4b-a9f5-dcde8be0aba2",
        "colab": {
          "base_uri": "https://localhost:8080/",
          "height": 1000
        }
      },
      "source": [
        "# Second round wrapper\n",
        "model = LogisticRegression()\n",
        "X = cand_var2.iloc[:,:34]\n",
        "y = cand_var2.loc[:,'fraud_label']\n",
        "rfecv2 = RFECV(estimator=model,step=1,cv=4,verbose=3,n_jobs=-1,scoring='roc_auc')\n",
        "output2 = rfecv2.fit(X,y)"
      ],
      "execution_count": 25,
      "outputs": [
        {
          "output_type": "stream",
          "text": [
            "Fitting estimator with 34 features.\n"
          ],
          "name": "stdout"
        },
        {
          "output_type": "stream",
          "text": [
            "/usr/local/lib/python3.6/dist-packages/sklearn/linear_model/_logistic.py:940: ConvergenceWarning: lbfgs failed to converge (status=1):\n",
            "STOP: TOTAL NO. of ITERATIONS REACHED LIMIT.\n",
            "\n",
            "Increase the number of iterations (max_iter) or scale the data as shown in:\n",
            "    https://scikit-learn.org/stable/modules/preprocessing.html\n",
            "Please also refer to the documentation for alternative solver options:\n",
            "    https://scikit-learn.org/stable/modules/linear_model.html#logistic-regression\n",
            "  extra_warning_msg=_LOGISTIC_SOLVER_CONVERGENCE_MSG)\n"
          ],
          "name": "stderr"
        },
        {
          "output_type": "stream",
          "text": [
            "Fitting estimator with 33 features.\n"
          ],
          "name": "stdout"
        },
        {
          "output_type": "stream",
          "text": [
            "/usr/local/lib/python3.6/dist-packages/sklearn/linear_model/_logistic.py:940: ConvergenceWarning: lbfgs failed to converge (status=1):\n",
            "STOP: TOTAL NO. of ITERATIONS REACHED LIMIT.\n",
            "\n",
            "Increase the number of iterations (max_iter) or scale the data as shown in:\n",
            "    https://scikit-learn.org/stable/modules/preprocessing.html\n",
            "Please also refer to the documentation for alternative solver options:\n",
            "    https://scikit-learn.org/stable/modules/linear_model.html#logistic-regression\n",
            "  extra_warning_msg=_LOGISTIC_SOLVER_CONVERGENCE_MSG)\n"
          ],
          "name": "stderr"
        },
        {
          "output_type": "stream",
          "text": [
            "Fitting estimator with 32 features.\n"
          ],
          "name": "stdout"
        },
        {
          "output_type": "stream",
          "text": [
            "/usr/local/lib/python3.6/dist-packages/sklearn/linear_model/_logistic.py:940: ConvergenceWarning: lbfgs failed to converge (status=1):\n",
            "STOP: TOTAL NO. of ITERATIONS REACHED LIMIT.\n",
            "\n",
            "Increase the number of iterations (max_iter) or scale the data as shown in:\n",
            "    https://scikit-learn.org/stable/modules/preprocessing.html\n",
            "Please also refer to the documentation for alternative solver options:\n",
            "    https://scikit-learn.org/stable/modules/linear_model.html#logistic-regression\n",
            "  extra_warning_msg=_LOGISTIC_SOLVER_CONVERGENCE_MSG)\n"
          ],
          "name": "stderr"
        },
        {
          "output_type": "stream",
          "text": [
            "Fitting estimator with 31 features.\n"
          ],
          "name": "stdout"
        },
        {
          "output_type": "stream",
          "text": [
            "/usr/local/lib/python3.6/dist-packages/sklearn/linear_model/_logistic.py:940: ConvergenceWarning: lbfgs failed to converge (status=1):\n",
            "STOP: TOTAL NO. of ITERATIONS REACHED LIMIT.\n",
            "\n",
            "Increase the number of iterations (max_iter) or scale the data as shown in:\n",
            "    https://scikit-learn.org/stable/modules/preprocessing.html\n",
            "Please also refer to the documentation for alternative solver options:\n",
            "    https://scikit-learn.org/stable/modules/linear_model.html#logistic-regression\n",
            "  extra_warning_msg=_LOGISTIC_SOLVER_CONVERGENCE_MSG)\n"
          ],
          "name": "stderr"
        },
        {
          "output_type": "stream",
          "text": [
            "Fitting estimator with 30 features.\n"
          ],
          "name": "stdout"
        },
        {
          "output_type": "stream",
          "text": [
            "/usr/local/lib/python3.6/dist-packages/sklearn/linear_model/_logistic.py:940: ConvergenceWarning: lbfgs failed to converge (status=1):\n",
            "STOP: TOTAL NO. of ITERATIONS REACHED LIMIT.\n",
            "\n",
            "Increase the number of iterations (max_iter) or scale the data as shown in:\n",
            "    https://scikit-learn.org/stable/modules/preprocessing.html\n",
            "Please also refer to the documentation for alternative solver options:\n",
            "    https://scikit-learn.org/stable/modules/linear_model.html#logistic-regression\n",
            "  extra_warning_msg=_LOGISTIC_SOLVER_CONVERGENCE_MSG)\n"
          ],
          "name": "stderr"
        },
        {
          "output_type": "stream",
          "text": [
            "Fitting estimator with 29 features.\n"
          ],
          "name": "stdout"
        },
        {
          "output_type": "stream",
          "text": [
            "/usr/local/lib/python3.6/dist-packages/sklearn/linear_model/_logistic.py:940: ConvergenceWarning: lbfgs failed to converge (status=1):\n",
            "STOP: TOTAL NO. of ITERATIONS REACHED LIMIT.\n",
            "\n",
            "Increase the number of iterations (max_iter) or scale the data as shown in:\n",
            "    https://scikit-learn.org/stable/modules/preprocessing.html\n",
            "Please also refer to the documentation for alternative solver options:\n",
            "    https://scikit-learn.org/stable/modules/linear_model.html#logistic-regression\n",
            "  extra_warning_msg=_LOGISTIC_SOLVER_CONVERGENCE_MSG)\n"
          ],
          "name": "stderr"
        },
        {
          "output_type": "stream",
          "text": [
            "Fitting estimator with 28 features.\n"
          ],
          "name": "stdout"
        },
        {
          "output_type": "stream",
          "text": [
            "/usr/local/lib/python3.6/dist-packages/sklearn/linear_model/_logistic.py:940: ConvergenceWarning: lbfgs failed to converge (status=1):\n",
            "STOP: TOTAL NO. of ITERATIONS REACHED LIMIT.\n",
            "\n",
            "Increase the number of iterations (max_iter) or scale the data as shown in:\n",
            "    https://scikit-learn.org/stable/modules/preprocessing.html\n",
            "Please also refer to the documentation for alternative solver options:\n",
            "    https://scikit-learn.org/stable/modules/linear_model.html#logistic-regression\n",
            "  extra_warning_msg=_LOGISTIC_SOLVER_CONVERGENCE_MSG)\n"
          ],
          "name": "stderr"
        },
        {
          "output_type": "stream",
          "text": [
            "Fitting estimator with 27 features.\n"
          ],
          "name": "stdout"
        },
        {
          "output_type": "stream",
          "text": [
            "/usr/local/lib/python3.6/dist-packages/sklearn/linear_model/_logistic.py:940: ConvergenceWarning: lbfgs failed to converge (status=1):\n",
            "STOP: TOTAL NO. of ITERATIONS REACHED LIMIT.\n",
            "\n",
            "Increase the number of iterations (max_iter) or scale the data as shown in:\n",
            "    https://scikit-learn.org/stable/modules/preprocessing.html\n",
            "Please also refer to the documentation for alternative solver options:\n",
            "    https://scikit-learn.org/stable/modules/linear_model.html#logistic-regression\n",
            "  extra_warning_msg=_LOGISTIC_SOLVER_CONVERGENCE_MSG)\n"
          ],
          "name": "stderr"
        },
        {
          "output_type": "stream",
          "text": [
            "Fitting estimator with 26 features.\n"
          ],
          "name": "stdout"
        },
        {
          "output_type": "stream",
          "text": [
            "/usr/local/lib/python3.6/dist-packages/sklearn/linear_model/_logistic.py:940: ConvergenceWarning: lbfgs failed to converge (status=1):\n",
            "STOP: TOTAL NO. of ITERATIONS REACHED LIMIT.\n",
            "\n",
            "Increase the number of iterations (max_iter) or scale the data as shown in:\n",
            "    https://scikit-learn.org/stable/modules/preprocessing.html\n",
            "Please also refer to the documentation for alternative solver options:\n",
            "    https://scikit-learn.org/stable/modules/linear_model.html#logistic-regression\n",
            "  extra_warning_msg=_LOGISTIC_SOLVER_CONVERGENCE_MSG)\n"
          ],
          "name": "stderr"
        },
        {
          "output_type": "stream",
          "text": [
            "Fitting estimator with 25 features.\n"
          ],
          "name": "stdout"
        },
        {
          "output_type": "stream",
          "text": [
            "/usr/local/lib/python3.6/dist-packages/sklearn/linear_model/_logistic.py:940: ConvergenceWarning: lbfgs failed to converge (status=1):\n",
            "STOP: TOTAL NO. of ITERATIONS REACHED LIMIT.\n",
            "\n",
            "Increase the number of iterations (max_iter) or scale the data as shown in:\n",
            "    https://scikit-learn.org/stable/modules/preprocessing.html\n",
            "Please also refer to the documentation for alternative solver options:\n",
            "    https://scikit-learn.org/stable/modules/linear_model.html#logistic-regression\n",
            "  extra_warning_msg=_LOGISTIC_SOLVER_CONVERGENCE_MSG)\n"
          ],
          "name": "stderr"
        },
        {
          "output_type": "stream",
          "text": [
            "Fitting estimator with 24 features.\n"
          ],
          "name": "stdout"
        },
        {
          "output_type": "stream",
          "text": [
            "/usr/local/lib/python3.6/dist-packages/sklearn/linear_model/_logistic.py:940: ConvergenceWarning: lbfgs failed to converge (status=1):\n",
            "STOP: TOTAL NO. of ITERATIONS REACHED LIMIT.\n",
            "\n",
            "Increase the number of iterations (max_iter) or scale the data as shown in:\n",
            "    https://scikit-learn.org/stable/modules/preprocessing.html\n",
            "Please also refer to the documentation for alternative solver options:\n",
            "    https://scikit-learn.org/stable/modules/linear_model.html#logistic-regression\n",
            "  extra_warning_msg=_LOGISTIC_SOLVER_CONVERGENCE_MSG)\n",
            "/usr/local/lib/python3.6/dist-packages/sklearn/linear_model/_logistic.py:940: ConvergenceWarning: lbfgs failed to converge (status=1):\n",
            "STOP: TOTAL NO. of ITERATIONS REACHED LIMIT.\n",
            "\n",
            "Increase the number of iterations (max_iter) or scale the data as shown in:\n",
            "    https://scikit-learn.org/stable/modules/preprocessing.html\n",
            "Please also refer to the documentation for alternative solver options:\n",
            "    https://scikit-learn.org/stable/modules/linear_model.html#logistic-regression\n",
            "  extra_warning_msg=_LOGISTIC_SOLVER_CONVERGENCE_MSG)\n",
            "/usr/local/lib/python3.6/dist-packages/sklearn/linear_model/_logistic.py:940: ConvergenceWarning: lbfgs failed to converge (status=1):\n",
            "STOP: TOTAL NO. of ITERATIONS REACHED LIMIT.\n",
            "\n",
            "Increase the number of iterations (max_iter) or scale the data as shown in:\n",
            "    https://scikit-learn.org/stable/modules/preprocessing.html\n",
            "Please also refer to the documentation for alternative solver options:\n",
            "    https://scikit-learn.org/stable/modules/linear_model.html#logistic-regression\n",
            "  extra_warning_msg=_LOGISTIC_SOLVER_CONVERGENCE_MSG)\n"
          ],
          "name": "stderr"
        }
      ]
    },
    {
      "cell_type": "code",
      "metadata": {
        "id": "flEmu1MmUod6",
        "colab_type": "code",
        "outputId": "6f48b9b2-f843-4d33-d8b8-030e7849bd48",
        "colab": {
          "base_uri": "https://localhost:8080/",
          "height": 34
        }
      },
      "source": [
        "print(f'Number of variables selected: {output2.get_support().sum()}')"
      ],
      "execution_count": 26,
      "outputs": [
        {
          "output_type": "stream",
          "text": [
            "Number of variables selected: 23\n"
          ],
          "name": "stdout"
        }
      ]
    },
    {
      "cell_type": "code",
      "metadata": {
        "id": "Dx5yay3CgcM3",
        "colab_type": "code",
        "outputId": "2255d4f5-32c4-4d2c-94a7-e870db90c27f",
        "colab": {
          "base_uri": "https://localhost:8080/",
          "height": 295
        }
      },
      "source": [
        "# Plot the wrapper\n",
        "plt.figure()\n",
        "plt.plot(range(1,len(rfecv2.grid_scores_)+1),rfecv2.grid_scores_)\n",
        "plt.xlabel('Number of features selected')\n",
        "plt.ylabel('Cross validation score (# of correct classification)')\n",
        "plt.show()"
      ],
      "execution_count": 30,
      "outputs": [
        {
          "output_type": "display_data",
          "data": {
            "image/png": "[encoded data removed]",
            "text/plain": [
              "<Figure size 432x288 with 1 Axes>"
            ]
          },
          "metadata": {
            "tags": []
          }
        }
      ]
    },
    {
      "cell_type": "markdown",
      "metadata": {
        "id": "6nhnKX4ea4Y_",
        "colab_type": "text"
      },
      "source": [
        "summary: 80-34(cv=2)-23(cv=4)"
      ]
    },
    {
      "cell_type": "code",
      "metadata": {
        "id": "NwOrer96D_4l",
        "colab_type": "code",
        "colab": {
          "base_uri": "https://localhost:8080/",
          "height": 50
        },
        "outputId": "c04ca4a9-eabe-4080-dbe1-370425b7822d"
      },
      "source": [
        "output2.ranking_"
      ],
      "execution_count": 32,
      "outputs": [
        {
          "output_type": "execute_result",
          "data": {
            "text/plain": [
              "array([ 1,  1, 10, 11,  1,  1,  1,  3,  1,  1,  1,  1,  1,  1,  1,  6,  1,\n",
              "        1,  1,  9,  1,  1,  4,  2,  8, 12,  5,  1,  1,  1,  1,  1,  1,  7])"
            ]
          },
          "metadata": {
            "tags": []
          },
          "execution_count": 32
        }
      ]
    },
    {
      "cell_type": "code",
      "metadata": {
        "id": "Sx2a9GstDwqh",
        "colab_type": "code",
        "colab": {
          "base_uri": "https://localhost:8080/",
          "height": 1000
        },
        "outputId": "b407f9fd-288d-4842-c176-dc899cd2e1d6"
      },
      "source": [
        "# Selected top 30 variables \n",
        "var_selected = pd.DataFrame(sorted(zip(map(lambda x: round(x), output2.ranking_), cand_var2.columns)),columns = ['ranking', 'variable'])\n",
        "var_selected"
      ],
      "execution_count": 34,
      "outputs": [
        {
          "output_type": "execute_result",
          "data": {
            "text/html": [
              "<div>\n",
              "<style scoped>\n",
              "    .dataframe tbody tr th:only-of-type {\n",
              "        vertical-align: middle;\n",
              "    }\n",
              "\n",
              "    .dataframe tbody tr th {\n",
              "        vertical-align: top;\n",
              "    }\n",
              "\n",
              "    .dataframe thead th {\n",
              "        text-align: right;\n",
              "    }\n",
              "</style>\n",
              "<table border=\"1\" class=\"dataframe\">\n",
              "  <thead>\n",
              "    <tr style=\"text-align: right;\">\n",
              "      <th></th>\n",
              "      <th>ranking</th>\n",
              "      <th>variable</th>\n",
              "    </tr>\n",
              "  </thead>\n",
              "  <tbody>\n",
              "    <tr>\n",
              "      <th>0</th>\n",
              "      <td>1</td>\n",
              "      <td>addr_cross_dob_lag7_count</td>\n",
              "    </tr>\n",
              "    <tr>\n",
              "      <th>1</th>\n",
              "      <td>1</td>\n",
              "      <td>addr_cross_name_lag14_count</td>\n",
              "    </tr>\n",
              "    <tr>\n",
              "      <th>2</th>\n",
              "      <td>1</td>\n",
              "      <td>addr_cross_name_lag7_count</td>\n",
              "    </tr>\n",
              "    <tr>\n",
              "      <th>3</th>\n",
              "      <td>1</td>\n",
              "      <td>addr_cross_ssn_lag1_count</td>\n",
              "    </tr>\n",
              "    <tr>\n",
              "      <th>4</th>\n",
              "      <td>1</td>\n",
              "      <td>addr_cross_ssn_lag7_count</td>\n",
              "    </tr>\n",
              "    <tr>\n",
              "      <th>5</th>\n",
              "      <td>1</td>\n",
              "      <td>addr_lag14_count</td>\n",
              "    </tr>\n",
              "    <tr>\n",
              "      <th>6</th>\n",
              "      <td>1</td>\n",
              "      <td>addr_lag1_count</td>\n",
              "    </tr>\n",
              "    <tr>\n",
              "      <th>7</th>\n",
              "      <td>1</td>\n",
              "      <td>addr_lag1_lag7_avg</td>\n",
              "    </tr>\n",
              "    <tr>\n",
              "      <th>8</th>\n",
              "      <td>1</td>\n",
              "      <td>addr_lag30_count</td>\n",
              "    </tr>\n",
              "    <tr>\n",
              "      <th>9</th>\n",
              "      <td>1</td>\n",
              "      <td>addr_lag7_count</td>\n",
              "    </tr>\n",
              "    <tr>\n",
              "      <th>10</th>\n",
              "      <td>1</td>\n",
              "      <td>address_#days_since</td>\n",
              "    </tr>\n",
              "    <tr>\n",
              "      <th>11</th>\n",
              "      <td>1</td>\n",
              "      <td>address_lag1_count</td>\n",
              "    </tr>\n",
              "    <tr>\n",
              "      <th>12</th>\n",
              "      <td>1</td>\n",
              "      <td>address_lag7_count</td>\n",
              "    </tr>\n",
              "    <tr>\n",
              "      <th>13</th>\n",
              "      <td>1</td>\n",
              "      <td>homephone_cross_name_lag7_count</td>\n",
              "    </tr>\n",
              "    <tr>\n",
              "      <th>14</th>\n",
              "      <td>1</td>\n",
              "      <td>homephone_cross_ssn_lag3_count</td>\n",
              "    </tr>\n",
              "    <tr>\n",
              "      <th>15</th>\n",
              "      <td>1</td>\n",
              "      <td>homephone_cross_ssn_lag7_count</td>\n",
              "    </tr>\n",
              "    <tr>\n",
              "      <th>16</th>\n",
              "      <td>1</td>\n",
              "      <td>homephone_lag7_count</td>\n",
              "    </tr>\n",
              "    <tr>\n",
              "      <th>17</th>\n",
              "      <td>1</td>\n",
              "      <td>name-dob_#days_since</td>\n",
              "    </tr>\n",
              "    <tr>\n",
              "      <th>18</th>\n",
              "      <td>1</td>\n",
              "      <td>name-dob_lag30_count</td>\n",
              "    </tr>\n",
              "    <tr>\n",
              "      <th>19</th>\n",
              "      <td>1</td>\n",
              "      <td>ssn-dob_#days_since</td>\n",
              "    </tr>\n",
              "    <tr>\n",
              "      <th>20</th>\n",
              "      <td>1</td>\n",
              "      <td>ssn-name-dob_#days_since</td>\n",
              "    </tr>\n",
              "    <tr>\n",
              "      <th>21</th>\n",
              "      <td>1</td>\n",
              "      <td>ssn-name_#days_since</td>\n",
              "    </tr>\n",
              "    <tr>\n",
              "      <th>22</th>\n",
              "      <td>1</td>\n",
              "      <td>ssn-name_lag7_count</td>\n",
              "    </tr>\n",
              "    <tr>\n",
              "      <th>23</th>\n",
              "      <td>2</td>\n",
              "      <td>addr_lag1_lag14_avg</td>\n",
              "    </tr>\n",
              "    <tr>\n",
              "      <th>24</th>\n",
              "      <td>3</td>\n",
              "      <td>addr_cross_name_lag30_count</td>\n",
              "    </tr>\n",
              "    <tr>\n",
              "      <th>25</th>\n",
              "      <td>4</td>\n",
              "      <td>name-dob_lag14_count</td>\n",
              "    </tr>\n",
              "    <tr>\n",
              "      <th>26</th>\n",
              "      <td>5</td>\n",
              "      <td>ssn-name-dob_lag7_count</td>\n",
              "    </tr>\n",
              "    <tr>\n",
              "      <th>27</th>\n",
              "      <td>6</td>\n",
              "      <td>addr_cross_name_lag1_count</td>\n",
              "    </tr>\n",
              "    <tr>\n",
              "      <th>28</th>\n",
              "      <td>7</td>\n",
              "      <td>addr_cross_dob_lag0_count</td>\n",
              "    </tr>\n",
              "    <tr>\n",
              "      <th>29</th>\n",
              "      <td>8</td>\n",
              "      <td>addr-homephone_lag7_count</td>\n",
              "    </tr>\n",
              "    <tr>\n",
              "      <th>30</th>\n",
              "      <td>9</td>\n",
              "      <td>addr-homephone_lag14_count</td>\n",
              "    </tr>\n",
              "    <tr>\n",
              "      <th>31</th>\n",
              "      <td>10</td>\n",
              "      <td>addr_#days_since</td>\n",
              "    </tr>\n",
              "    <tr>\n",
              "      <th>32</th>\n",
              "      <td>11</td>\n",
              "      <td>address_lag14_count</td>\n",
              "    </tr>\n",
              "    <tr>\n",
              "      <th>33</th>\n",
              "      <td>12</td>\n",
              "      <td>ssn-firstname_lag7_count</td>\n",
              "    </tr>\n",
              "  </tbody>\n",
              "</table>\n",
              "</div>"
            ],
            "text/plain": [
              "    ranking                         variable\n",
              "0         1        addr_cross_dob_lag7_count\n",
              "1         1      addr_cross_name_lag14_count\n",
              "2         1       addr_cross_name_lag7_count\n",
              "3         1        addr_cross_ssn_lag1_count\n",
              "4         1        addr_cross_ssn_lag7_count\n",
              "5         1                 addr_lag14_count\n",
              "6         1                  addr_lag1_count\n",
              "7         1               addr_lag1_lag7_avg\n",
              "8         1                 addr_lag30_count\n",
              "9         1                  addr_lag7_count\n",
              "10        1              address_#days_since\n",
              "11        1               address_lag1_count\n",
              "12        1               address_lag7_count\n",
              "13        1  homephone_cross_name_lag7_count\n",
              "14        1   homephone_cross_ssn_lag3_count\n",
              "15        1   homephone_cross_ssn_lag7_count\n",
              "16        1             homephone_lag7_count\n",
              "17        1             name-dob_#days_since\n",
              "18        1             name-dob_lag30_count\n",
              "19        1              ssn-dob_#days_since\n",
              "20        1         ssn-name-dob_#days_since\n",
              "21        1             ssn-name_#days_since\n",
              "22        1              ssn-name_lag7_count\n",
              "23        2              addr_lag1_lag14_avg\n",
              "24        3      addr_cross_name_lag30_count\n",
              "25        4             name-dob_lag14_count\n",
              "26        5          ssn-name-dob_lag7_count\n",
              "27        6       addr_cross_name_lag1_count\n",
              "28        7        addr_cross_dob_lag0_count\n",
              "29        8        addr-homephone_lag7_count\n",
              "30        9       addr-homephone_lag14_count\n",
              "31       10                 addr_#days_since\n",
              "32       11              address_lag14_count\n",
              "33       12         ssn-firstname_lag7_count"
            ]
          },
          "metadata": {
            "tags": []
          },
          "execution_count": 34
        }
      ]
    },
    {
      "cell_type": "code",
      "metadata": {
        "id": "AIrkB5f0ugMB",
        "colab_type": "code",
        "colab": {}
      },
      "source": [
        ""
      ],
      "execution_count": 0,
      "outputs": []
    }
  ]
}